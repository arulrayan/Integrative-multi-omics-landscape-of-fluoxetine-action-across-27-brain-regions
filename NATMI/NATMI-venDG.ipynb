{
 "cells": [
  {
   "cell_type": "markdown",
   "id": "261d6f07-9e02-44ae-9e93-45c0c85d4842",
   "metadata": {},
   "source": [
    "Rerun NATMI with outliers removed"
   ]
  },
  {
   "cell_type": "code",
   "execution_count": 2,
   "id": "ef5ca0bd-cb6d-472a-8446-a0bd7a835bd2",
   "metadata": {
    "scrolled": true,
    "tags": []
   },
   "outputs": [
    {
     "name": "stderr",
     "output_type": "stream",
     "text": [
      "Attaching SeuratObject\n",
      "\n",
      "\n",
      "Attaching package: ‘dplyr’\n",
      "\n",
      "\n",
      "The following objects are masked from ‘package:stats’:\n",
      "\n",
      "    filter, lag\n",
      "\n",
      "\n",
      "The following objects are masked from ‘package:base’:\n",
      "\n",
      "    intersect, setdiff, setequal, union\n",
      "\n",
      "\n",
      "\n",
      "Attaching package: ‘gridExtra’\n",
      "\n",
      "\n",
      "The following object is masked from ‘package:dplyr’:\n",
      "\n",
      "    combine\n",
      "\n",
      "\n",
      "Loading required package: viridisLite\n",
      "\n",
      "Loading required package: grid\n",
      "\n",
      "========================================\n",
      "ComplexHeatmap version 2.8.0\n",
      "Bioconductor page: http://bioconductor.org/packages/ComplexHeatmap/\n",
      "Github page: https://github.com/jokergoo/ComplexHeatmap\n",
      "Documentation: http://jokergoo.github.io/ComplexHeatmap-reference\n",
      "\n",
      "If you use it in published research, please cite:\n",
      "Gu, Z. Complex heatmaps reveal patterns and correlations in multidimensional \n",
      "  genomic data. Bioinformatics 2016.\n",
      "\n",
      "The new InteractiveComplexHeatmap package can directly export static \n",
      "complex heatmaps into an interactive Shiny app with zero effort. Have a try!\n",
      "\n",
      "This message can be suppressed by:\n",
      "  suppressPackageStartupMessages(library(ComplexHeatmap))\n",
      "========================================\n",
      "\n",
      "\n",
      "========================================\n",
      "circlize version 0.4.13\n",
      "CRAN page: https://cran.r-project.org/package=circlize\n",
      "Github page: https://github.com/jokergoo/circlize\n",
      "Documentation: https://jokergoo.github.io/circlize_book/book/\n",
      "\n",
      "If you use it in published research, please cite:\n",
      "Gu, Z. circlize implements and enhances circular visualization\n",
      "  in R. Bioinformatics 2014.\n",
      "\n",
      "This message can be suppressed by:\n",
      "  suppressPackageStartupMessages(library(circlize))\n",
      "========================================\n",
      "\n",
      "\n"
     ]
    }
   ],
   "source": [
    "library(Seurat)\n",
    "\n",
    "library(dplyr)\n",
    "library(tidyr)\n",
    "library(stringr)\n",
    "\n",
    "library(ggplot2)\n",
    "library(gridExtra)\n",
    "library(ggpubr)\n",
    "library(viridis)\n",
    "library(ComplexHeatmap)\n",
    "library(circlize)\n",
    "library(ggrepel)"
   ]
  },
  {
   "cell_type": "code",
   "execution_count": 3,
   "id": "fd698388-d8b1-4ea6-89a5-ba37d706777b",
   "metadata": {
    "scrolled": true,
    "tags": []
   },
   "outputs": [
    {
     "data": {
      "text/plain": [
       "R version 4.1.0 (2021-05-18)\n",
       "Platform: x86_64-conda-linux-gnu (64-bit)\n",
       "Running under: Ubuntu 18.04.1 LTS\n",
       "\n",
       "Matrix products: default\n",
       "BLAS/LAPACK: /mnt/volume1/env/miniconda3/envs/r4.1.0/lib/libopenblasp-r0.3.15.so\n",
       "\n",
       "locale:\n",
       " [1] LC_CTYPE=C.UTF-8       LC_NUMERIC=C           LC_TIME=C.UTF-8       \n",
       " [4] LC_COLLATE=C.UTF-8     LC_MONETARY=C.UTF-8    LC_MESSAGES=C.UTF-8   \n",
       " [7] LC_PAPER=C.UTF-8       LC_NAME=C              LC_ADDRESS=C          \n",
       "[10] LC_TELEPHONE=C         LC_MEASUREMENT=C.UTF-8 LC_IDENTIFICATION=C   \n",
       "\n",
       "attached base packages:\n",
       "[1] grid      stats     graphics  grDevices utils     datasets  methods  \n",
       "[8] base     \n",
       "\n",
       "other attached packages:\n",
       " [1] ggrepel_0.9.1        circlize_0.4.13      ComplexHeatmap_2.8.0\n",
       " [4] viridis_0.6.1        viridisLite_0.4.0    ggpubr_0.4.0        \n",
       " [7] gridExtra_2.3        ggplot2_3.3.5        stringr_1.4.0       \n",
       "[10] tidyr_1.1.3          dplyr_1.0.7          SeuratObject_4.0.2  \n",
       "[13] Seurat_4.0.3        \n",
       "\n",
       "loaded via a namespace (and not attached):\n",
       "  [1] readxl_1.3.1          uuid_0.1-4            backports_1.2.1      \n",
       "  [4] plyr_1.8.6            igraph_1.2.6          repr_1.1.3           \n",
       "  [7] lazyeval_0.2.2        splines_4.1.0         listenv_0.8.0        \n",
       " [10] scattermore_0.7       digest_0.6.27         foreach_1.5.1        \n",
       " [13] htmltools_0.5.1.1     fansi_0.5.0           magrittr_2.0.1       \n",
       " [16] tensor_1.5            cluster_2.1.2         doParallel_1.0.16    \n",
       " [19] ROCR_1.0-11           openxlsx_4.2.4        globals_0.14.0       \n",
       " [22] matrixStats_0.59.0    spatstat.sparse_2.0-0 colorspace_2.0-2     \n",
       " [25] haven_2.4.1           crayon_1.4.1          jsonlite_1.7.2       \n",
       " [28] spatstat.data_2.1-0   survival_3.2-11       zoo_1.8-9            \n",
       " [31] iterators_1.0.13      glue_1.4.2            polyclip_1.10-0      \n",
       " [34] gtable_0.3.0          leiden_0.3.8          GetoptLong_1.0.5     \n",
       " [37] car_3.0-11            shape_1.4.6           future.apply_1.7.0   \n",
       " [40] BiocGenerics_0.38.0   abind_1.4-5           scales_1.1.1         \n",
       " [43] DBI_1.1.1             rstatix_0.7.0         miniUI_0.1.1.1       \n",
       " [46] Rcpp_1.0.7            xtable_1.8-4          clue_0.3-59          \n",
       " [49] reticulate_1.20       spatstat.core_2.2-0   foreign_0.8-81       \n",
       " [52] stats4_4.1.0          htmlwidgets_1.5.3     httr_1.4.2           \n",
       " [55] RColorBrewer_1.1-2    ellipsis_0.3.2        ica_1.0-2            \n",
       " [58] pkgconfig_2.0.3       uwot_0.1.10           deldir_0.2-10        \n",
       " [61] utf8_1.2.1            tidyselect_1.1.1      rlang_0.4.11         \n",
       " [64] reshape2_1.4.4        later_1.2.0           munsell_0.5.0        \n",
       " [67] cellranger_1.1.0      tools_4.1.0           generics_0.1.0       \n",
       " [70] broom_0.7.9           ggridges_0.5.3        evaluate_0.14        \n",
       " [73] fastmap_1.1.0         goftest_1.2-2         fitdistrplus_1.1-5   \n",
       " [76] zip_2.2.0             purrr_0.3.4           RANN_2.6.1           \n",
       " [79] pbapply_1.4-3         future_1.21.0         nlme_3.1-152         \n",
       " [82] mime_0.11             compiler_4.1.0        plotly_4.9.4.1       \n",
       " [85] curl_4.3.2            png_0.1-7             ggsignif_0.6.2       \n",
       " [88] spatstat.utils_2.2-0  tibble_3.1.2          stringi_1.7.2        \n",
       " [91] forcats_0.5.1         lattice_0.20-44       IRdisplay_1.0        \n",
       " [94] Matrix_1.3-4          vctrs_0.3.8           pillar_1.6.1         \n",
       " [97] lifecycle_1.0.0       spatstat.geom_2.2-0   lmtest_0.9-38        \n",
       "[100] GlobalOptions_0.1.2   RcppAnnoy_0.0.18      data.table_1.14.0    \n",
       "[103] cowplot_1.1.1         irlba_2.3.3           httpuv_1.6.1         \n",
       "[106] patchwork_1.1.1       R6_2.5.0              promises_1.2.0.1     \n",
       "[109] KernSmooth_2.23-20    rio_0.5.27            IRanges_2.26.0       \n",
       "[112] parallelly_1.26.1     codetools_0.2-18      MASS_7.3-54          \n",
       "[115] assertthat_0.2.1      rjson_0.2.20          withr_2.4.2          \n",
       "[118] sctransform_0.3.2     S4Vectors_0.30.0      mgcv_1.8-36          \n",
       "[121] parallel_4.1.0        hms_1.1.0             rpart_4.1-15         \n",
       "[124] IRkernel_1.2          carData_3.0-4         Cairo_1.5-12.2       \n",
       "[127] Rtsne_0.15            pbdZMQ_0.3-5          shiny_1.6.0          \n",
       "[130] base64enc_0.1-3      "
      ]
     },
     "metadata": {},
     "output_type": "display_data"
    }
   ],
   "source": [
    "sessionInfo()"
   ]
  },
  {
   "cell_type": "markdown",
   "id": "ebeda167-074b-48b0-af25-171252297f5d",
   "metadata": {},
   "source": [
    "# Load data"
   ]
  },
  {
   "cell_type": "code",
   "execution_count": 4,
   "id": "45758333-df01-4d23-ae15-26bad83ad02d",
   "metadata": {},
   "outputs": [],
   "source": [
    "sc <- readRDS(\"../data/venDG2021outlierrem_seurat.RDS\")"
   ]
  },
  {
   "cell_type": "code",
   "execution_count": 5,
   "id": "f193764d-362b-4bec-a7fe-33a12a0f92dc",
   "metadata": {},
   "outputs": [
    {
     "data": {
      "text/html": [
       "<table class=\"dataframe\">\n",
       "<caption>A tibble: 2 × 2</caption>\n",
       "<thead>\n",
       "\t<tr><th scope=col>Treatment</th><th scope=col>n</th></tr>\n",
       "\t<tr><th scope=col>&lt;chr&gt;</th><th scope=col>&lt;int&gt;</th></tr>\n",
       "</thead>\n",
       "<tbody>\n",
       "\t<tr><td>FT  </td><td>7</td></tr>\n",
       "\t<tr><td>Sham</td><td>7</td></tr>\n",
       "</tbody>\n",
       "</table>\n"
      ],
      "text/latex": [
       "A tibble: 2 × 2\n",
       "\\begin{tabular}{ll}\n",
       " Treatment & n\\\\\n",
       " <chr> & <int>\\\\\n",
       "\\hline\n",
       "\t FT   & 7\\\\\n",
       "\t Sham & 7\\\\\n",
       "\\end{tabular}\n"
      ],
      "text/markdown": [
       "\n",
       "A tibble: 2 × 2\n",
       "\n",
       "| Treatment &lt;chr&gt; | n &lt;int&gt; |\n",
       "|---|---|\n",
       "| FT   | 7 |\n",
       "| Sham | 7 |\n",
       "\n"
      ],
      "text/plain": [
       "  Treatment n\n",
       "1 FT        7\n",
       "2 Sham      7"
      ]
     },
     "metadata": {},
     "output_type": "display_data"
    }
   ],
   "source": [
    "sc@meta.data %>% distinct(Treatment, Muxid) %>% group_by(Treatment) %>% tally()"
   ]
  },
  {
   "cell_type": "code",
   "execution_count": 6,
   "id": "974d280f-1274-4eef-909e-6585f121cca2",
   "metadata": {},
   "outputs": [
    {
     "data": {
      "text/plain": [
       "      \n",
       "       MUX6491 MUX6494 MUX6496 MUX6498 MUX6500 MUX6502 MUX6504 MUX6506 MUX6508\n",
       "  FT         0     152       0      74       0     171       0     302       0\n",
       "  Sham     188       0     141       0      86       0      79       0      15\n",
       "      \n",
       "       MUX6509 MUX6511 MUX6513 MUX6515 MUX6517\n",
       "  FT       337       0     166       0     116\n",
       "  Sham       0     200       0      52       0"
      ]
     },
     "metadata": {},
     "output_type": "display_data"
    }
   ],
   "source": [
    "table(sc@meta.data$Treatment, sc@meta.data$Muxid)"
   ]
  },
  {
   "cell_type": "code",
   "execution_count": 7,
   "id": "028e8f47-47b3-4191-ade3-30ec20f02b67",
   "metadata": {},
   "outputs": [
    {
     "data": {
      "text/plain": [
       "             \n",
       "              MUX6491 MUX6494 MUX6496 MUX6498 MUX6500 MUX6502 MUX6504 MUX6506\n",
       "  AstroSub1         6       9      38      18       4      52       9      40\n",
       "  Endothelial      37      29      14       3      20      17      10      49\n",
       "  ExcitNeuron       7      11       3       3       8      19      31     136\n",
       "  Granule           1       2       2       4       0       5       2      27\n",
       "  InhibNeuron       9       5       9      23       3       9       4       8\n",
       "  Microglia1        4      10       0       0       0       9       0       2\n",
       "  Microglia2       49      30       9       0      12       0       5       0\n",
       "  Mossy             8       7       8       1      10      14       0       7\n",
       "  Oligodend1       21      14      52      19       7      17       8       9\n",
       "  Oligodend2       14      15       0       0       9       8       0       0\n",
       "  OPC              32      20       6       3      13      21      10      24\n",
       "             \n",
       "              MUX6508 MUX6509 MUX6511 MUX6513 MUX6515 MUX6517\n",
       "  AstroSub1         0      33      12      17       9      19\n",
       "  Endothelial       0      37      30      42      10      11\n",
       "  ExcitNeuron       0      14       9      17       4       7\n",
       "  Granule           1      10       1       0       0       0\n",
       "  InhibNeuron       5      17      19      12       0      15\n",
       "  Microglia1        0       0       4       0       6       8\n",
       "  Microglia2        0      44      54      32       9      16\n",
       "  Mossy             0       0      16       7       0       2\n",
       "  Oligodend1        0      53      19      16       9      18\n",
       "  Oligodend2        0      80      11       6       5       7\n",
       "  OPC               9      49      25      17       0      13"
      ]
     },
     "metadata": {},
     "output_type": "display_data"
    }
   ],
   "source": [
    "table(sc@meta.data$IntSeuratSubC, sc@meta.data$Muxid)"
   ]
  },
  {
   "cell_type": "markdown",
   "id": "7a385a41-9fa7-41c4-a526-df9a7156bf3c",
   "metadata": {},
   "source": [
    "Make NATMI input"
   ]
  },
  {
   "cell_type": "code",
   "execution_count": 10,
   "id": "dcefbc3b-57ee-4dc4-873c-c0343519ce07",
   "metadata": {},
   "outputs": [
    {
     "data": {
      "text/html": [
       "<ol>\n",
       "\t<li>NULL</li>\n",
       "\t<li>NULL</li>\n",
       "\t<li>NULL</li>\n",
       "\t<li>NULL</li>\n",
       "\t<li>NULL</li>\n",
       "\t<li>NULL</li>\n",
       "\t<li>NULL</li>\n",
       "\t<li>NULL</li>\n",
       "\t<li>NULL</li>\n",
       "\t<li>NULL</li>\n",
       "\t<li>NULL</li>\n",
       "\t<li>NULL</li>\n",
       "\t<li>NULL</li>\n",
       "\t<li>NULL</li>\n",
       "</ol>\n"
      ],
      "text/latex": [
       "\\begin{enumerate}\n",
       "\\item NULL\n",
       "\\item NULL\n",
       "\\item NULL\n",
       "\\item NULL\n",
       "\\item NULL\n",
       "\\item NULL\n",
       "\\item NULL\n",
       "\\item NULL\n",
       "\\item NULL\n",
       "\\item NULL\n",
       "\\item NULL\n",
       "\\item NULL\n",
       "\\item NULL\n",
       "\\item NULL\n",
       "\\end{enumerate}\n"
      ],
      "text/markdown": [
       "1. NULL\n",
       "2. NULL\n",
       "3. NULL\n",
       "4. NULL\n",
       "5. NULL\n",
       "6. NULL\n",
       "7. NULL\n",
       "8. NULL\n",
       "9. NULL\n",
       "10. NULL\n",
       "11. NULL\n",
       "12. NULL\n",
       "13. NULL\n",
       "14. NULL\n",
       "\n",
       "\n"
      ],
      "text/plain": [
       "[[1]]\n",
       "NULL\n",
       "\n",
       "[[2]]\n",
       "NULL\n",
       "\n",
       "[[3]]\n",
       "NULL\n",
       "\n",
       "[[4]]\n",
       "NULL\n",
       "\n",
       "[[5]]\n",
       "NULL\n",
       "\n",
       "[[6]]\n",
       "NULL\n",
       "\n",
       "[[7]]\n",
       "NULL\n",
       "\n",
       "[[8]]\n",
       "NULL\n",
       "\n",
       "[[9]]\n",
       "NULL\n",
       "\n",
       "[[10]]\n",
       "NULL\n",
       "\n",
       "[[11]]\n",
       "NULL\n",
       "\n",
       "[[12]]\n",
       "NULL\n",
       "\n",
       "[[13]]\n",
       "NULL\n",
       "\n",
       "[[14]]\n",
       "NULL\n"
      ]
     },
     "metadata": {},
     "output_type": "display_data"
    }
   ],
   "source": [
    "makeNatmiInput <- function(mux_id){\n",
    "    select <- (sc$Muxid == mux_id)\n",
    "    sc.select <- sc[,select]\n",
    "\n",
    "    cpm.select <- 100*(exp(as.matrix(\n",
    "        GetAssayData(object = sc.select, assay = 'RNA', slot = 'data')\n",
    "    )))\n",
    "\n",
    "    write.csv(cpm.select, file = paste0(\n",
    "        \"../processed_data/211116_natmi_venDG/\", mux_id, \".csv\"), \n",
    "        row.names = T, quote = F)\n",
    "\n",
    "    cpm.meta <- sc.select@meta.data %>% select(IntSeuratSubC) %>%\n",
    "        tibble::rownames_to_column(\"barcode\") %>%\n",
    "        rename(c(\"annotation\" = \"IntSeuratSubC\"))\n",
    "\n",
    "    write.csv(cpm.meta, file = paste0(\n",
    "        \"../processed_data/211116_natmi_venDG/\", mux_id, \".ann.csv\"), \n",
    "        row.names = F, quote = F)    \n",
    "}\n",
    "\n",
    "lapply(unique(sc@meta.data$Muxid), makeNatmiInput)"
   ]
  },
  {
   "cell_type": "markdown",
   "id": "91b84af1-a51f-4307-8b29-531ab162c4ca",
   "metadata": {},
   "source": [
    "Generate NATMI commands"
   ]
  },
  {
   "cell_type": "code",
   "execution_count": 12,
   "id": "e81fec13-3492-4cf7-8f02-d930796388ba",
   "metadata": {},
   "outputs": [],
   "source": [
    "base.path <- \"../../workspace/AntidepressantVisium/processed_data/211116_natmi_venDG/\"\n",
    "handle <- file(\"../processed_data/211116_natmi_venDG/run_natmi.sh\")\n",
    "\n",
    "makeCmd <- function(mux_id){\n",
    "    cmd <- paste(\"python\", \"ExtractEdges.py\", \n",
    "        \"--interDB\", \"lrc2p\", \n",
    "        \"--emFile\", paste0(base.path, mux_id, \".csv\"), \n",
    "        \"--annFile\", paste0(base.path, mux_id, \".ann.csv\"), \n",
    "        \"--coreNum\", \"4\", \n",
    "        \"--species\", \"rat\",\n",
    "        \"--out\", paste0(base.path, mux_id)\n",
    "    )\n",
    "    return(cmd)\n",
    "}\n",
    "\n",
    "cmds <- as.character(lapply(unique(sc@meta.data$Muxid), makeCmd))\n",
    "writeLines(cmds, handle)\n",
    "close(handle)"
   ]
  },
  {
   "cell_type": "markdown",
   "id": "2b80067a-ebc0-4694-bb8d-c4cad81a810f",
   "metadata": {},
   "source": [
    "# Results"
   ]
  },
  {
   "cell_type": "markdown",
   "id": "3a54d1cc-4767-4f9f-b6db-39637969eeb9",
   "metadata": {},
   "source": [
    "## Test difference"
   ]
  },
  {
   "cell_type": "markdown",
   "id": "8a5f2227-8645-4dfc-8802-6293fa2d3e01",
   "metadata": {},
   "source": [
    "Read edges"
   ]
  },
  {
   "cell_type": "code",
   "execution_count": 10,
   "id": "31f228fd-1d65-4304-a2e2-fee60e51a4b5",
   "metadata": {},
   "outputs": [],
   "source": [
    "readEdges <- function(mux_id){\n",
    "    edges <- read.csv(paste0(\"../processed_data/211116_natmi_venDG/\", mux_id, \"/Edges_lrc2p.csv\"))\n",
    "    edges$MUXid <- mux_id\n",
    "    return(edges)\n",
    "}\n",
    "\n",
    "edges <- lapply(unique(sc@meta.data$Muxid), readEdges)\n",
    "edges <- bind_rows(edges)"
   ]
  },
  {
   "cell_type": "markdown",
   "id": "de43ef68-2332-449e-ad02-79c9c604c4b6",
   "metadata": {},
   "source": [
    "Test differences in expression or specificity weight"
   ]
  },
  {
   "cell_type": "code",
   "execution_count": 11,
   "id": "76cbf77d-aef8-4d1f-ba38-e1c35929a9c3",
   "metadata": {},
   "outputs": [
    {
     "data": {
      "text/html": [
       "<table class=\"dataframe\">\n",
       "<caption>A tibble: 6 × 18</caption>\n",
       "<thead>\n",
       "\t<tr><th scope=col>Sending.cluster</th><th scope=col>Ligand.symbol</th><th scope=col>Receptor.symbol</th><th scope=col>Target.cluster</th><th scope=col>MUX6511</th><th scope=col>MUX6515</th><th scope=col>MUX6496</th><th scope=col>MUX6491</th><th scope=col>MUX6500</th><th scope=col>MUX6504</th><th scope=col>MUX6508</th><th scope=col>MUX6509</th><th scope=col>MUX6513</th><th scope=col>MUX6517</th><th scope=col>MUX6494</th><th scope=col>MUX6498</th><th scope=col>MUX6506</th><th scope=col>MUX6502</th></tr>\n",
       "\t<tr><th scope=col>&lt;chr&gt;</th><th scope=col>&lt;chr&gt;</th><th scope=col>&lt;chr&gt;</th><th scope=col>&lt;chr&gt;</th><th scope=col>&lt;dbl&gt;</th><th scope=col>&lt;dbl&gt;</th><th scope=col>&lt;dbl&gt;</th><th scope=col>&lt;dbl&gt;</th><th scope=col>&lt;dbl&gt;</th><th scope=col>&lt;dbl&gt;</th><th scope=col>&lt;dbl&gt;</th><th scope=col>&lt;dbl&gt;</th><th scope=col>&lt;dbl&gt;</th><th scope=col>&lt;dbl&gt;</th><th scope=col>&lt;dbl&gt;</th><th scope=col>&lt;dbl&gt;</th><th scope=col>&lt;dbl&gt;</th><th scope=col>&lt;dbl&gt;</th></tr>\n",
       "</thead>\n",
       "<tbody>\n",
       "\t<tr><td>AstroSub1</td><td>Agt</td><td>Mas1</td><td>AstroSub1  </td><td>165921.8</td><td> 83584.08</td><td>35274.48</td><td>241325.8</td><td>140038.5</td><td>15811.25</td><td>NA</td><td>107277.6</td><td>151678.1</td><td>108437.1</td><td>203510.4</td><td>26838.70</td><td>10000.00</td><td>150808.1</td></tr>\n",
       "\t<tr><td>AstroSub1</td><td>Agt</td><td>Mas1</td><td>Endothelial</td><td>165921.8</td><td>156519.59</td><td>50209.90</td><td>241325.8</td><td>140038.5</td><td>15811.25</td><td>NA</td><td>109081.6</td><td>153811.8</td><td>108437.1</td><td>203510.4</td><td>24569.77</td><td>10000.00</td><td>157331.5</td></tr>\n",
       "\t<tr><td>AstroSub1</td><td>Agt</td><td>Mas1</td><td>ExcitNeuron</td><td>165921.8</td><td>108618.25</td><td>35274.48</td><td>241325.8</td><td>152753.5</td><td>29933.59</td><td>NA</td><td>107277.6</td><td>478760.4</td><td>108437.1</td><td>203510.4</td><td>24569.77</td><td>11051.60</td><td>233686.4</td></tr>\n",
       "\t<tr><td>AstroSub1</td><td>Agt</td><td>Mas1</td><td>Granule    </td><td>165921.8</td><td>       NA</td><td>35274.48</td><td>241325.8</td><td>      NA</td><td>15811.25</td><td>NA</td><td>107277.6</td><td>      NA</td><td>      NA</td><td>203510.4</td><td>24569.77</td><td>13437.93</td><td>150808.1</td></tr>\n",
       "\t<tr><td>AstroSub1</td><td>Agt</td><td>Mas1</td><td>InhibNeuron</td><td>258810.7</td><td>       NA</td><td>42638.97</td><td>371290.0</td><td>188846.0</td><td>15811.25</td><td>NA</td><td>134694.5</td><td>158716.3</td><td>186042.1</td><td>224695.0</td><td>31734.91</td><td>10000.00</td><td>150808.1</td></tr>\n",
       "\t<tr><td>AstroSub1</td><td>Agt</td><td>Mas1</td><td>Microglia1 </td><td>165921.8</td><td> 83584.08</td><td>      NA</td><td>241325.8</td><td>      NA</td><td>      NA</td><td>NA</td><td>      NA</td><td>      NA</td><td>108437.1</td><td>203510.4</td><td>      NA</td><td>10000.00</td><td>150808.1</td></tr>\n",
       "</tbody>\n",
       "</table>\n"
      ],
      "text/latex": [
       "A tibble: 6 × 18\n",
       "\\begin{tabular}{llllllllllllllllll}\n",
       " Sending.cluster & Ligand.symbol & Receptor.symbol & Target.cluster & MUX6511 & MUX6515 & MUX6496 & MUX6491 & MUX6500 & MUX6504 & MUX6508 & MUX6509 & MUX6513 & MUX6517 & MUX6494 & MUX6498 & MUX6506 & MUX6502\\\\\n",
       " <chr> & <chr> & <chr> & <chr> & <dbl> & <dbl> & <dbl> & <dbl> & <dbl> & <dbl> & <dbl> & <dbl> & <dbl> & <dbl> & <dbl> & <dbl> & <dbl> & <dbl>\\\\\n",
       "\\hline\n",
       "\t AstroSub1 & Agt & Mas1 & AstroSub1   & 165921.8 &  83584.08 & 35274.48 & 241325.8 & 140038.5 & 15811.25 & NA & 107277.6 & 151678.1 & 108437.1 & 203510.4 & 26838.70 & 10000.00 & 150808.1\\\\\n",
       "\t AstroSub1 & Agt & Mas1 & Endothelial & 165921.8 & 156519.59 & 50209.90 & 241325.8 & 140038.5 & 15811.25 & NA & 109081.6 & 153811.8 & 108437.1 & 203510.4 & 24569.77 & 10000.00 & 157331.5\\\\\n",
       "\t AstroSub1 & Agt & Mas1 & ExcitNeuron & 165921.8 & 108618.25 & 35274.48 & 241325.8 & 152753.5 & 29933.59 & NA & 107277.6 & 478760.4 & 108437.1 & 203510.4 & 24569.77 & 11051.60 & 233686.4\\\\\n",
       "\t AstroSub1 & Agt & Mas1 & Granule     & 165921.8 &        NA & 35274.48 & 241325.8 &       NA & 15811.25 & NA & 107277.6 &       NA &       NA & 203510.4 & 24569.77 & 13437.93 & 150808.1\\\\\n",
       "\t AstroSub1 & Agt & Mas1 & InhibNeuron & 258810.7 &        NA & 42638.97 & 371290.0 & 188846.0 & 15811.25 & NA & 134694.5 & 158716.3 & 186042.1 & 224695.0 & 31734.91 & 10000.00 & 150808.1\\\\\n",
       "\t AstroSub1 & Agt & Mas1 & Microglia1  & 165921.8 &  83584.08 &       NA & 241325.8 &       NA &       NA & NA &       NA &       NA & 108437.1 & 203510.4 &       NA & 10000.00 & 150808.1\\\\\n",
       "\\end{tabular}\n"
      ],
      "text/markdown": [
       "\n",
       "A tibble: 6 × 18\n",
       "\n",
       "| Sending.cluster &lt;chr&gt; | Ligand.symbol &lt;chr&gt; | Receptor.symbol &lt;chr&gt; | Target.cluster &lt;chr&gt; | MUX6511 &lt;dbl&gt; | MUX6515 &lt;dbl&gt; | MUX6496 &lt;dbl&gt; | MUX6491 &lt;dbl&gt; | MUX6500 &lt;dbl&gt; | MUX6504 &lt;dbl&gt; | MUX6508 &lt;dbl&gt; | MUX6509 &lt;dbl&gt; | MUX6513 &lt;dbl&gt; | MUX6517 &lt;dbl&gt; | MUX6494 &lt;dbl&gt; | MUX6498 &lt;dbl&gt; | MUX6506 &lt;dbl&gt; | MUX6502 &lt;dbl&gt; |\n",
       "|---|---|---|---|---|---|---|---|---|---|---|---|---|---|---|---|---|---|\n",
       "| AstroSub1 | Agt | Mas1 | AstroSub1   | 165921.8 |  83584.08 | 35274.48 | 241325.8 | 140038.5 | 15811.25 | NA | 107277.6 | 151678.1 | 108437.1 | 203510.4 | 26838.70 | 10000.00 | 150808.1 |\n",
       "| AstroSub1 | Agt | Mas1 | Endothelial | 165921.8 | 156519.59 | 50209.90 | 241325.8 | 140038.5 | 15811.25 | NA | 109081.6 | 153811.8 | 108437.1 | 203510.4 | 24569.77 | 10000.00 | 157331.5 |\n",
       "| AstroSub1 | Agt | Mas1 | ExcitNeuron | 165921.8 | 108618.25 | 35274.48 | 241325.8 | 152753.5 | 29933.59 | NA | 107277.6 | 478760.4 | 108437.1 | 203510.4 | 24569.77 | 11051.60 | 233686.4 |\n",
       "| AstroSub1 | Agt | Mas1 | Granule     | 165921.8 |        NA | 35274.48 | 241325.8 |       NA | 15811.25 | NA | 107277.6 |       NA |       NA | 203510.4 | 24569.77 | 13437.93 | 150808.1 |\n",
       "| AstroSub1 | Agt | Mas1 | InhibNeuron | 258810.7 |        NA | 42638.97 | 371290.0 | 188846.0 | 15811.25 | NA | 134694.5 | 158716.3 | 186042.1 | 224695.0 | 31734.91 | 10000.00 | 150808.1 |\n",
       "| AstroSub1 | Agt | Mas1 | Microglia1  | 165921.8 |  83584.08 |       NA | 241325.8 |       NA |       NA | NA |       NA |       NA | 108437.1 | 203510.4 |       NA | 10000.00 | 150808.1 |\n",
       "\n"
      ],
      "text/plain": [
       "  Sending.cluster Ligand.symbol Receptor.symbol Target.cluster MUX6511 \n",
       "1 AstroSub1       Agt           Mas1            AstroSub1      165921.8\n",
       "2 AstroSub1       Agt           Mas1            Endothelial    165921.8\n",
       "3 AstroSub1       Agt           Mas1            ExcitNeuron    165921.8\n",
       "4 AstroSub1       Agt           Mas1            Granule        165921.8\n",
       "5 AstroSub1       Agt           Mas1            InhibNeuron    258810.7\n",
       "6 AstroSub1       Agt           Mas1            Microglia1     165921.8\n",
       "  MUX6515   MUX6496  MUX6491  MUX6500  MUX6504  MUX6508 MUX6509  MUX6513 \n",
       "1  83584.08 35274.48 241325.8 140038.5 15811.25 NA      107277.6 151678.1\n",
       "2 156519.59 50209.90 241325.8 140038.5 15811.25 NA      109081.6 153811.8\n",
       "3 108618.25 35274.48 241325.8 152753.5 29933.59 NA      107277.6 478760.4\n",
       "4        NA 35274.48 241325.8       NA 15811.25 NA      107277.6       NA\n",
       "5        NA 42638.97 371290.0 188846.0 15811.25 NA      134694.5 158716.3\n",
       "6  83584.08       NA 241325.8       NA       NA NA            NA       NA\n",
       "  MUX6517  MUX6494  MUX6498  MUX6506  MUX6502 \n",
       "1 108437.1 203510.4 26838.70 10000.00 150808.1\n",
       "2 108437.1 203510.4 24569.77 10000.00 157331.5\n",
       "3 108437.1 203510.4 24569.77 11051.60 233686.4\n",
       "4       NA 203510.4 24569.77 13437.93 150808.1\n",
       "5 186042.1 224695.0 31734.91 10000.00 150808.1\n",
       "6 108437.1 203510.4       NA 10000.00 150808.1"
      ]
     },
     "metadata": {},
     "output_type": "display_data"
    }
   ],
   "source": [
    "expr.weight <- edges %>%\n",
    "    select(Sending.cluster, Ligand.symbol, Receptor.symbol, Target.cluster, Edge.average.expression.weight, MUXid) %>%\n",
    "    pivot_wider(\n",
    "        id_cols = c('Sending.cluster', 'Ligand.symbol', 'Receptor.symbol', 'Target.cluster'), \n",
    "        names_from = \"MUXid\", \n",
    "        values_from = \"Edge.average.expression.weight\"\n",
    "    )\n",
    "expr.weight %>% head()"
   ]
  },
  {
   "cell_type": "code",
   "execution_count": 16,
   "id": "8a50e4b0-9d5e-4926-964c-3747261c3ff4",
   "metadata": {},
   "outputs": [],
   "source": [
    "ids_sham <- sc@meta.data %>% distinct(Treatment, Muxid) %>%\n",
    "    filter(Treatment == 'Sham') %>% pull(Muxid) %>% as.character()\n",
    "ids_ft <- sc@meta.data %>% distinct(Treatment, Muxid) %>%\n",
    "    filter(Treatment == 'FT') %>% pull(Muxid) %>% as.character()"
   ]
  },
  {
   "cell_type": "code",
   "execution_count": 19,
   "id": "71e4782c-520f-4986-858b-2b89b26c9eff",
   "metadata": {},
   "outputs": [
    {
     "data": {
      "text/html": [
       "<table class=\"dataframe\">\n",
       "<caption>A data.frame: 6 × 8</caption>\n",
       "<thead>\n",
       "\t<tr><th></th><th scope=col>Sending.cluster</th><th scope=col>Ligand.symbol</th><th scope=col>Receptor.symbol</th><th scope=col>Target.cluster</th><th scope=col>logmean.1</th><th scope=col>logmean.2</th><th scope=col>pval</th><th scope=col>logfc</th></tr>\n",
       "\t<tr><th></th><th scope=col>&lt;chr&gt;</th><th scope=col>&lt;chr&gt;</th><th scope=col>&lt;chr&gt;</th><th scope=col>&lt;chr&gt;</th><th scope=col>&lt;dbl&gt;</th><th scope=col>&lt;dbl&gt;</th><th scope=col>&lt;dbl&gt;</th><th scope=col>&lt;dbl&gt;</th></tr>\n",
       "</thead>\n",
       "<tbody>\n",
       "\t<tr><th scope=row>1</th><td>AstroSub1</td><td>Agt</td><td>Mas1</td><td>AstroSub1  </td><td>11.59326</td><td>11.48682</td><td>0.7982978</td><td> 0.106442878</td></tr>\n",
       "\t<tr><th scope=row>2</th><td>AstroSub1</td><td>Agt</td><td>Mas1</td><td>Endothelial</td><td>11.60400</td><td>11.60802</td><td>1.0000000</td><td>-0.004014954</td></tr>\n",
       "\t<tr><th scope=row>3</th><td>AstroSub1</td><td>Agt</td><td>Mas1</td><td>ExcitNeuron</td><td>12.02429</td><td>11.56013</td><td>0.7982978</td><td> 0.464165526</td></tr>\n",
       "\t<tr><th scope=row>4</th><td>AstroSub1</td><td>Agt</td><td>Mas1</td><td>Granule    </td><td>11.17567</td><td>11.08946</td><td>0.8960287</td><td> 0.086217589</td></tr>\n",
       "\t<tr><th scope=row>5</th><td>AstroSub1</td><td>Agt</td><td>Mas1</td><td>InhibNeuron</td><td>11.76056</td><td>11.73881</td><td>0.8982155</td><td> 0.021751728</td></tr>\n",
       "\t<tr><th scope=row>6</th><td>AstroSub1</td><td>Agt</td><td>Mas1</td><td>Microglia1 </td><td>11.12044</td><td>11.15796</td><td>0.8914674</td><td>-0.037522037</td></tr>\n",
       "</tbody>\n",
       "</table>\n"
      ],
      "text/latex": [
       "A data.frame: 6 × 8\n",
       "\\begin{tabular}{r|llllllll}\n",
       "  & Sending.cluster & Ligand.symbol & Receptor.symbol & Target.cluster & logmean.1 & logmean.2 & pval & logfc\\\\\n",
       "  & <chr> & <chr> & <chr> & <chr> & <dbl> & <dbl> & <dbl> & <dbl>\\\\\n",
       "\\hline\n",
       "\t1 & AstroSub1 & Agt & Mas1 & AstroSub1   & 11.59326 & 11.48682 & 0.7982978 &  0.106442878\\\\\n",
       "\t2 & AstroSub1 & Agt & Mas1 & Endothelial & 11.60400 & 11.60802 & 1.0000000 & -0.004014954\\\\\n",
       "\t3 & AstroSub1 & Agt & Mas1 & ExcitNeuron & 12.02429 & 11.56013 & 0.7982978 &  0.464165526\\\\\n",
       "\t4 & AstroSub1 & Agt & Mas1 & Granule     & 11.17567 & 11.08946 & 0.8960287 &  0.086217589\\\\\n",
       "\t5 & AstroSub1 & Agt & Mas1 & InhibNeuron & 11.76056 & 11.73881 & 0.8982155 &  0.021751728\\\\\n",
       "\t6 & AstroSub1 & Agt & Mas1 & Microglia1  & 11.12044 & 11.15796 & 0.8914674 & -0.037522037\\\\\n",
       "\\end{tabular}\n"
      ],
      "text/markdown": [
       "\n",
       "A data.frame: 6 × 8\n",
       "\n",
       "| <!--/--> | Sending.cluster &lt;chr&gt; | Ligand.symbol &lt;chr&gt; | Receptor.symbol &lt;chr&gt; | Target.cluster &lt;chr&gt; | logmean.1 &lt;dbl&gt; | logmean.2 &lt;dbl&gt; | pval &lt;dbl&gt; | logfc &lt;dbl&gt; |\n",
       "|---|---|---|---|---|---|---|---|---|\n",
       "| 1 | AstroSub1 | Agt | Mas1 | AstroSub1   | 11.59326 | 11.48682 | 0.7982978 |  0.106442878 |\n",
       "| 2 | AstroSub1 | Agt | Mas1 | Endothelial | 11.60400 | 11.60802 | 1.0000000 | -0.004014954 |\n",
       "| 3 | AstroSub1 | Agt | Mas1 | ExcitNeuron | 12.02429 | 11.56013 | 0.7982978 |  0.464165526 |\n",
       "| 4 | AstroSub1 | Agt | Mas1 | Granule     | 11.17567 | 11.08946 | 0.8960287 |  0.086217589 |\n",
       "| 5 | AstroSub1 | Agt | Mas1 | InhibNeuron | 11.76056 | 11.73881 | 0.8982155 |  0.021751728 |\n",
       "| 6 | AstroSub1 | Agt | Mas1 | Microglia1  | 11.12044 | 11.15796 | 0.8914674 | -0.037522037 |\n",
       "\n"
      ],
      "text/plain": [
       "  Sending.cluster Ligand.symbol Receptor.symbol Target.cluster logmean.1\n",
       "1 AstroSub1       Agt           Mas1            AstroSub1      11.59326 \n",
       "2 AstroSub1       Agt           Mas1            Endothelial    11.60400 \n",
       "3 AstroSub1       Agt           Mas1            ExcitNeuron    12.02429 \n",
       "4 AstroSub1       Agt           Mas1            Granule        11.17567 \n",
       "5 AstroSub1       Agt           Mas1            InhibNeuron    11.76056 \n",
       "6 AstroSub1       Agt           Mas1            Microglia1     11.12044 \n",
       "  logmean.2 pval      logfc       \n",
       "1 11.48682  0.7982978  0.106442878\n",
       "2 11.60802  1.0000000 -0.004014954\n",
       "3 11.56013  0.7982978  0.464165526\n",
       "4 11.08946  0.8960287  0.086217589\n",
       "5 11.73881  0.8982155  0.021751728\n",
       "6 11.15796  0.8914674 -0.037522037"
      ]
     },
     "metadata": {},
     "output_type": "display_data"
    }
   ],
   "source": [
    "testDifference <- function(rowIdx){\n",
    "    x.1 <- as.numeric(expr.weight[rowIdx, ids_ft])\n",
    "    x.2 <- as.numeric(expr.weight[rowIdx, ids_sham])\n",
    "    \n",
    "    x.1[is.na(x.1)] <- 0\n",
    "    x.2[is.na(x.2)] <- 0\n",
    "    \n",
    "    logmean.1 <- log1p(mean(x.1))\n",
    "    logmean.2 <- log1p(mean(x.2))\n",
    "\n",
    "    pval <- wilcox.test(x.1, x.2, exact = F)$p.value\n",
    "    logfc = logmean.1 - logmean.2\n",
    "\n",
    "    res <- tibble::as_tibble_row(c(\n",
    "        'logmean.1' = logmean.1, \n",
    "        'logmean.2' = logmean.2, \n",
    "        'pval' = pval, \n",
    "        'logfc' = logfc\n",
    "    ))\n",
    "    return(res)\n",
    "}\n",
    "\n",
    "res <- do.call(rbind, lapply(c(1:dim(expr.weight)[1]), testDifference))\n",
    "res <- cbind(expr.weight %>% dplyr::select(Sending.cluster, Ligand.symbol, Receptor.symbol, Target.cluster), res)\n",
    "res %>% head()"
   ]
  },
  {
   "cell_type": "code",
   "execution_count": 20,
   "id": "694ee734-37ad-4471-9591-651b926e0537",
   "metadata": {},
   "outputs": [],
   "source": [
    "write.csv(res, file = \"../processed_data/211116_natmi_venDG/expr_avg.csv\")"
   ]
  },
  {
   "cell_type": "code",
   "execution_count": 21,
   "id": "1ffbf694-1382-4faf-a8ce-c3e2a086562c",
   "metadata": {},
   "outputs": [
    {
     "data": {
      "text/html": [
       "<table class=\"dataframe\">\n",
       "<caption>A tibble: 6 × 18</caption>\n",
       "<thead>\n",
       "\t<tr><th scope=col>Sending.cluster</th><th scope=col>Ligand.symbol</th><th scope=col>Receptor.symbol</th><th scope=col>Target.cluster</th><th scope=col>MUX6511</th><th scope=col>MUX6515</th><th scope=col>MUX6496</th><th scope=col>MUX6491</th><th scope=col>MUX6500</th><th scope=col>MUX6504</th><th scope=col>MUX6508</th><th scope=col>MUX6509</th><th scope=col>MUX6513</th><th scope=col>MUX6517</th><th scope=col>MUX6494</th><th scope=col>MUX6498</th><th scope=col>MUX6506</th><th scope=col>MUX6502</th></tr>\n",
       "\t<tr><th scope=col>&lt;chr&gt;</th><th scope=col>&lt;chr&gt;</th><th scope=col>&lt;chr&gt;</th><th scope=col>&lt;chr&gt;</th><th scope=col>&lt;dbl&gt;</th><th scope=col>&lt;dbl&gt;</th><th scope=col>&lt;dbl&gt;</th><th scope=col>&lt;dbl&gt;</th><th scope=col>&lt;dbl&gt;</th><th scope=col>&lt;dbl&gt;</th><th scope=col>&lt;dbl&gt;</th><th scope=col>&lt;dbl&gt;</th><th scope=col>&lt;dbl&gt;</th><th scope=col>&lt;dbl&gt;</th><th scope=col>&lt;dbl&gt;</th><th scope=col>&lt;dbl&gt;</th><th scope=col>&lt;dbl&gt;</th><th scope=col>&lt;dbl&gt;</th></tr>\n",
       "</thead>\n",
       "<tbody>\n",
       "\t<tr><td>AstroSub1</td><td>Agt</td><td>Mas1</td><td>AstroSub1  </td><td>0.05148944</td><td>0.06588870</td><td>0.01862118</td><td>0.05954692</td><td>0.06680201</td><td>0.02023209</td><td>NA</td><td>0.05933293</td><td>0.05455993</td><td>0.04460130</td><td>0.05580743</td><td>0.01473383</td><td>0.009693269</td><td>0.05683624</td></tr>\n",
       "\t<tr><td>AstroSub1</td><td>Agt</td><td>Mas1</td><td>Endothelial</td><td>0.05148944</td><td>0.12338320</td><td>0.02650549</td><td>0.05954692</td><td>0.06680201</td><td>0.02023209</td><td>NA</td><td>0.06033069</td><td>0.05532742</td><td>0.04460130</td><td>0.05580743</td><td>0.01348824</td><td>0.009693269</td><td>0.05929473</td></tr>\n",
       "\t<tr><td>AstroSub1</td><td>Agt</td><td>Mas1</td><td>ExcitNeuron</td><td>0.05148944</td><td>0.08562294</td><td>0.01862118</td><td>0.05954692</td><td>0.07286742</td><td>0.03830305</td><td>NA</td><td>0.05933293</td><td>0.17221425</td><td>0.04460130</td><td>0.05580743</td><td>0.01348824</td><td>0.010712614</td><td>0.08807120</td></tr>\n",
       "\t<tr><td>AstroSub1</td><td>Agt</td><td>Mas1</td><td>Granule    </td><td>0.05148944</td><td>        NA</td><td>0.01862118</td><td>0.05954692</td><td>        NA</td><td>0.02023209</td><td>NA</td><td>0.05933293</td><td>        NA</td><td>        NA</td><td>0.05580743</td><td>0.01348824</td><td>0.013025748</td><td>0.05683624</td></tr>\n",
       "\t<tr><td>AstroSub1</td><td>Agt</td><td>Mas1</td><td>InhibNeuron</td><td>0.08031504</td><td>        NA</td><td>0.02250885</td><td>0.09161550</td><td>0.09008446</td><td>0.02023209</td><td>NA</td><td>0.07449663</td><td>0.05709162</td><td>0.07652105</td><td>0.06161677</td><td>0.01742174</td><td>0.009693269</td><td>0.05683624</td></tr>\n",
       "\t<tr><td>AstroSub1</td><td>Agt</td><td>Mas1</td><td>Microglia1 </td><td>0.05148944</td><td>0.06588870</td><td>        NA</td><td>0.05954692</td><td>        NA</td><td>        NA</td><td>NA</td><td>        NA</td><td>        NA</td><td>0.04460130</td><td>0.05580743</td><td>        NA</td><td>0.009693269</td><td>0.05683624</td></tr>\n",
       "</tbody>\n",
       "</table>\n"
      ],
      "text/latex": [
       "A tibble: 6 × 18\n",
       "\\begin{tabular}{llllllllllllllllll}\n",
       " Sending.cluster & Ligand.symbol & Receptor.symbol & Target.cluster & MUX6511 & MUX6515 & MUX6496 & MUX6491 & MUX6500 & MUX6504 & MUX6508 & MUX6509 & MUX6513 & MUX6517 & MUX6494 & MUX6498 & MUX6506 & MUX6502\\\\\n",
       " <chr> & <chr> & <chr> & <chr> & <dbl> & <dbl> & <dbl> & <dbl> & <dbl> & <dbl> & <dbl> & <dbl> & <dbl> & <dbl> & <dbl> & <dbl> & <dbl> & <dbl>\\\\\n",
       "\\hline\n",
       "\t AstroSub1 & Agt & Mas1 & AstroSub1   & 0.05148944 & 0.06588870 & 0.01862118 & 0.05954692 & 0.06680201 & 0.02023209 & NA & 0.05933293 & 0.05455993 & 0.04460130 & 0.05580743 & 0.01473383 & 0.009693269 & 0.05683624\\\\\n",
       "\t AstroSub1 & Agt & Mas1 & Endothelial & 0.05148944 & 0.12338320 & 0.02650549 & 0.05954692 & 0.06680201 & 0.02023209 & NA & 0.06033069 & 0.05532742 & 0.04460130 & 0.05580743 & 0.01348824 & 0.009693269 & 0.05929473\\\\\n",
       "\t AstroSub1 & Agt & Mas1 & ExcitNeuron & 0.05148944 & 0.08562294 & 0.01862118 & 0.05954692 & 0.07286742 & 0.03830305 & NA & 0.05933293 & 0.17221425 & 0.04460130 & 0.05580743 & 0.01348824 & 0.010712614 & 0.08807120\\\\\n",
       "\t AstroSub1 & Agt & Mas1 & Granule     & 0.05148944 &         NA & 0.01862118 & 0.05954692 &         NA & 0.02023209 & NA & 0.05933293 &         NA &         NA & 0.05580743 & 0.01348824 & 0.013025748 & 0.05683624\\\\\n",
       "\t AstroSub1 & Agt & Mas1 & InhibNeuron & 0.08031504 &         NA & 0.02250885 & 0.09161550 & 0.09008446 & 0.02023209 & NA & 0.07449663 & 0.05709162 & 0.07652105 & 0.06161677 & 0.01742174 & 0.009693269 & 0.05683624\\\\\n",
       "\t AstroSub1 & Agt & Mas1 & Microglia1  & 0.05148944 & 0.06588870 &         NA & 0.05954692 &         NA &         NA & NA &         NA &         NA & 0.04460130 & 0.05580743 &         NA & 0.009693269 & 0.05683624\\\\\n",
       "\\end{tabular}\n"
      ],
      "text/markdown": [
       "\n",
       "A tibble: 6 × 18\n",
       "\n",
       "| Sending.cluster &lt;chr&gt; | Ligand.symbol &lt;chr&gt; | Receptor.symbol &lt;chr&gt; | Target.cluster &lt;chr&gt; | MUX6511 &lt;dbl&gt; | MUX6515 &lt;dbl&gt; | MUX6496 &lt;dbl&gt; | MUX6491 &lt;dbl&gt; | MUX6500 &lt;dbl&gt; | MUX6504 &lt;dbl&gt; | MUX6508 &lt;dbl&gt; | MUX6509 &lt;dbl&gt; | MUX6513 &lt;dbl&gt; | MUX6517 &lt;dbl&gt; | MUX6494 &lt;dbl&gt; | MUX6498 &lt;dbl&gt; | MUX6506 &lt;dbl&gt; | MUX6502 &lt;dbl&gt; |\n",
       "|---|---|---|---|---|---|---|---|---|---|---|---|---|---|---|---|---|---|\n",
       "| AstroSub1 | Agt | Mas1 | AstroSub1   | 0.05148944 | 0.06588870 | 0.01862118 | 0.05954692 | 0.06680201 | 0.02023209 | NA | 0.05933293 | 0.05455993 | 0.04460130 | 0.05580743 | 0.01473383 | 0.009693269 | 0.05683624 |\n",
       "| AstroSub1 | Agt | Mas1 | Endothelial | 0.05148944 | 0.12338320 | 0.02650549 | 0.05954692 | 0.06680201 | 0.02023209 | NA | 0.06033069 | 0.05532742 | 0.04460130 | 0.05580743 | 0.01348824 | 0.009693269 | 0.05929473 |\n",
       "| AstroSub1 | Agt | Mas1 | ExcitNeuron | 0.05148944 | 0.08562294 | 0.01862118 | 0.05954692 | 0.07286742 | 0.03830305 | NA | 0.05933293 | 0.17221425 | 0.04460130 | 0.05580743 | 0.01348824 | 0.010712614 | 0.08807120 |\n",
       "| AstroSub1 | Agt | Mas1 | Granule     | 0.05148944 |         NA | 0.01862118 | 0.05954692 |         NA | 0.02023209 | NA | 0.05933293 |         NA |         NA | 0.05580743 | 0.01348824 | 0.013025748 | 0.05683624 |\n",
       "| AstroSub1 | Agt | Mas1 | InhibNeuron | 0.08031504 |         NA | 0.02250885 | 0.09161550 | 0.09008446 | 0.02023209 | NA | 0.07449663 | 0.05709162 | 0.07652105 | 0.06161677 | 0.01742174 | 0.009693269 | 0.05683624 |\n",
       "| AstroSub1 | Agt | Mas1 | Microglia1  | 0.05148944 | 0.06588870 |         NA | 0.05954692 |         NA |         NA | NA |         NA |         NA | 0.04460130 | 0.05580743 |         NA | 0.009693269 | 0.05683624 |\n",
       "\n"
      ],
      "text/plain": [
       "  Sending.cluster Ligand.symbol Receptor.symbol Target.cluster MUX6511   \n",
       "1 AstroSub1       Agt           Mas1            AstroSub1      0.05148944\n",
       "2 AstroSub1       Agt           Mas1            Endothelial    0.05148944\n",
       "3 AstroSub1       Agt           Mas1            ExcitNeuron    0.05148944\n",
       "4 AstroSub1       Agt           Mas1            Granule        0.05148944\n",
       "5 AstroSub1       Agt           Mas1            InhibNeuron    0.08031504\n",
       "6 AstroSub1       Agt           Mas1            Microglia1     0.05148944\n",
       "  MUX6515    MUX6496    MUX6491    MUX6500    MUX6504    MUX6508 MUX6509   \n",
       "1 0.06588870 0.01862118 0.05954692 0.06680201 0.02023209 NA      0.05933293\n",
       "2 0.12338320 0.02650549 0.05954692 0.06680201 0.02023209 NA      0.06033069\n",
       "3 0.08562294 0.01862118 0.05954692 0.07286742 0.03830305 NA      0.05933293\n",
       "4         NA 0.01862118 0.05954692         NA 0.02023209 NA      0.05933293\n",
       "5         NA 0.02250885 0.09161550 0.09008446 0.02023209 NA      0.07449663\n",
       "6 0.06588870         NA 0.05954692         NA         NA NA              NA\n",
       "  MUX6513    MUX6517    MUX6494    MUX6498    MUX6506     MUX6502   \n",
       "1 0.05455993 0.04460130 0.05580743 0.01473383 0.009693269 0.05683624\n",
       "2 0.05532742 0.04460130 0.05580743 0.01348824 0.009693269 0.05929473\n",
       "3 0.17221425 0.04460130 0.05580743 0.01348824 0.010712614 0.08807120\n",
       "4         NA         NA 0.05580743 0.01348824 0.013025748 0.05683624\n",
       "5 0.05709162 0.07652105 0.06161677 0.01742174 0.009693269 0.05683624\n",
       "6         NA 0.04460130 0.05580743         NA 0.009693269 0.05683624"
      ]
     },
     "metadata": {},
     "output_type": "display_data"
    }
   ],
   "source": [
    "spec.weight <- edges %>%\n",
    "    select(Sending.cluster, Ligand.symbol, Receptor.symbol, Target.cluster, Edge.average.expression.derived.specificity, MUXid) %>%\n",
    "    pivot_wider(\n",
    "        id_cols = c('Sending.cluster', 'Ligand.symbol', 'Receptor.symbol', 'Target.cluster'), \n",
    "        names_from = \"MUXid\", \n",
    "        values_from = \"Edge.average.expression.derived.specificity\"\n",
    "    )\n",
    "spec.weight %>% head()"
   ]
  },
  {
   "cell_type": "code",
   "execution_count": 22,
   "id": "29fdd95a-f163-409b-bfcb-b7452047f5f5",
   "metadata": {},
   "outputs": [
    {
     "data": {
      "text/html": [
       "<table class=\"dataframe\">\n",
       "<caption>A data.frame: 6 × 8</caption>\n",
       "<thead>\n",
       "\t<tr><th></th><th scope=col>Sending.cluster</th><th scope=col>Ligand.symbol</th><th scope=col>Receptor.symbol</th><th scope=col>Target.cluster</th><th scope=col>mean.1</th><th scope=col>mean.2</th><th scope=col>pval</th><th scope=col>diff</th></tr>\n",
       "\t<tr><th></th><th scope=col>&lt;chr&gt;</th><th scope=col>&lt;chr&gt;</th><th scope=col>&lt;chr&gt;</th><th scope=col>&lt;chr&gt;</th><th scope=col>&lt;dbl&gt;</th><th scope=col>&lt;dbl&gt;</th><th scope=col>&lt;dbl&gt;</th><th scope=col>&lt;dbl&gt;</th></tr>\n",
       "</thead>\n",
       "<tbody>\n",
       "\t<tr><th scope=row>1</th><td>AstroSub1</td><td>Agt</td><td>Mas1</td><td>AstroSub1  </td><td>0.04222356</td><td>0.04036862</td><td>0.7014781</td><td> 0.001854943</td></tr>\n",
       "\t<tr><th scope=row>2</th><td>AstroSub1</td><td>Agt</td><td>Mas1</td><td>Endothelial</td><td>0.04264901</td><td>0.04970845</td><td>0.7982978</td><td>-0.007059439</td></tr>\n",
       "\t<tr><th scope=row>3</th><td>AstroSub1</td><td>Agt</td><td>Mas1</td><td>ExcitNeuron</td><td>0.06346114</td><td>0.04663585</td><td>0.7982978</td><td> 0.016825289</td></tr>\n",
       "\t<tr><th scope=row>4</th><td>AstroSub1</td><td>Agt</td><td>Mas1</td><td>Granule    </td><td>0.02835580</td><td>0.02141280</td><td>0.7938154</td><td> 0.006942995</td></tr>\n",
       "\t<tr><th scope=row>5</th><td>AstroSub1</td><td>Agt</td><td>Mas1</td><td>InhibNeuron</td><td>0.05052533</td><td>0.04353656</td><td>1.0000000</td><td> 0.006988768</td></tr>\n",
       "\t<tr><th scope=row>6</th><td>AstroSub1</td><td>Agt</td><td>Mas1</td><td>Microglia1 </td><td>0.02384832</td><td>0.02527501</td><td>1.0000000</td><td>-0.001426688</td></tr>\n",
       "</tbody>\n",
       "</table>\n"
      ],
      "text/latex": [
       "A data.frame: 6 × 8\n",
       "\\begin{tabular}{r|llllllll}\n",
       "  & Sending.cluster & Ligand.symbol & Receptor.symbol & Target.cluster & mean.1 & mean.2 & pval & diff\\\\\n",
       "  & <chr> & <chr> & <chr> & <chr> & <dbl> & <dbl> & <dbl> & <dbl>\\\\\n",
       "\\hline\n",
       "\t1 & AstroSub1 & Agt & Mas1 & AstroSub1   & 0.04222356 & 0.04036862 & 0.7014781 &  0.001854943\\\\\n",
       "\t2 & AstroSub1 & Agt & Mas1 & Endothelial & 0.04264901 & 0.04970845 & 0.7982978 & -0.007059439\\\\\n",
       "\t3 & AstroSub1 & Agt & Mas1 & ExcitNeuron & 0.06346114 & 0.04663585 & 0.7982978 &  0.016825289\\\\\n",
       "\t4 & AstroSub1 & Agt & Mas1 & Granule     & 0.02835580 & 0.02141280 & 0.7938154 &  0.006942995\\\\\n",
       "\t5 & AstroSub1 & Agt & Mas1 & InhibNeuron & 0.05052533 & 0.04353656 & 1.0000000 &  0.006988768\\\\\n",
       "\t6 & AstroSub1 & Agt & Mas1 & Microglia1  & 0.02384832 & 0.02527501 & 1.0000000 & -0.001426688\\\\\n",
       "\\end{tabular}\n"
      ],
      "text/markdown": [
       "\n",
       "A data.frame: 6 × 8\n",
       "\n",
       "| <!--/--> | Sending.cluster &lt;chr&gt; | Ligand.symbol &lt;chr&gt; | Receptor.symbol &lt;chr&gt; | Target.cluster &lt;chr&gt; | mean.1 &lt;dbl&gt; | mean.2 &lt;dbl&gt; | pval &lt;dbl&gt; | diff &lt;dbl&gt; |\n",
       "|---|---|---|---|---|---|---|---|---|\n",
       "| 1 | AstroSub1 | Agt | Mas1 | AstroSub1   | 0.04222356 | 0.04036862 | 0.7014781 |  0.001854943 |\n",
       "| 2 | AstroSub1 | Agt | Mas1 | Endothelial | 0.04264901 | 0.04970845 | 0.7982978 | -0.007059439 |\n",
       "| 3 | AstroSub1 | Agt | Mas1 | ExcitNeuron | 0.06346114 | 0.04663585 | 0.7982978 |  0.016825289 |\n",
       "| 4 | AstroSub1 | Agt | Mas1 | Granule     | 0.02835580 | 0.02141280 | 0.7938154 |  0.006942995 |\n",
       "| 5 | AstroSub1 | Agt | Mas1 | InhibNeuron | 0.05052533 | 0.04353656 | 1.0000000 |  0.006988768 |\n",
       "| 6 | AstroSub1 | Agt | Mas1 | Microglia1  | 0.02384832 | 0.02527501 | 1.0000000 | -0.001426688 |\n",
       "\n"
      ],
      "text/plain": [
       "  Sending.cluster Ligand.symbol Receptor.symbol Target.cluster mean.1    \n",
       "1 AstroSub1       Agt           Mas1            AstroSub1      0.04222356\n",
       "2 AstroSub1       Agt           Mas1            Endothelial    0.04264901\n",
       "3 AstroSub1       Agt           Mas1            ExcitNeuron    0.06346114\n",
       "4 AstroSub1       Agt           Mas1            Granule        0.02835580\n",
       "5 AstroSub1       Agt           Mas1            InhibNeuron    0.05052533\n",
       "6 AstroSub1       Agt           Mas1            Microglia1     0.02384832\n",
       "  mean.2     pval      diff        \n",
       "1 0.04036862 0.7014781  0.001854943\n",
       "2 0.04970845 0.7982978 -0.007059439\n",
       "3 0.04663585 0.7982978  0.016825289\n",
       "4 0.02141280 0.7938154  0.006942995\n",
       "5 0.04353656 1.0000000  0.006988768\n",
       "6 0.02527501 1.0000000 -0.001426688"
      ]
     },
     "metadata": {},
     "output_type": "display_data"
    }
   ],
   "source": [
    "testDifference <- function(rowIdx){\n",
    "    x.1 <- as.numeric(spec.weight[rowIdx, ids_ft])\n",
    "    x.2 <- as.numeric(spec.weight[rowIdx, ids_sham])\n",
    "    \n",
    "    x.1[is.na(x.1)] <- 0\n",
    "    x.2[is.na(x.2)] <- 0\n",
    "    \n",
    "    mean.1 <- mean(x.1)\n",
    "    mean.2 <- mean(x.2)\n",
    "    \n",
    "    pval <- wilcox.test(x.1, x.2, exact = F)$p.value\n",
    "    diff = mean.1 - mean.2\n",
    "    \n",
    "    res <- tibble::as_tibble_row(c(\n",
    "        'mean.1' = mean.1, \n",
    "        'mean.2' = mean.2, \n",
    "        'pval' = pval, \n",
    "        'diff' = diff\n",
    "    ))\n",
    "    return(res)\n",
    "}\n",
    "\n",
    "res <- do.call(rbind, lapply(c(1:dim(spec.weight)[1]), testDifference))\n",
    "res <- cbind(spec.weight %>% dplyr::select(Sending.cluster, Ligand.symbol, Receptor.symbol, Target.cluster), res)\n",
    "res %>% head()"
   ]
  },
  {
   "cell_type": "code",
   "execution_count": 23,
   "id": "04b7b76d-754f-4f32-9eaf-0498f60607e5",
   "metadata": {},
   "outputs": [],
   "source": [
    "write.csv(res, file = \"../processed_data/211116_natmi_venDG/spec_avg.csv\")"
   ]
  },
  {
   "cell_type": "markdown",
   "id": "49734f7c-d594-45f4-ba8a-ea942799d825",
   "metadata": {},
   "source": [
    "## Compile result"
   ]
  },
  {
   "cell_type": "code",
   "execution_count": 24,
   "id": "84d0cb2d-c262-430b-8235-edba359d80d2",
   "metadata": {},
   "outputs": [],
   "source": [
    "expr.res <- read.csv(\"../processed_data/211116_natmi_venDG/expr_avg.csv\")\n",
    "spec.res <- read.csv(\"../processed_data/211116_natmi_venDG/spec_avg.csv\")"
   ]
  },
  {
   "cell_type": "markdown",
   "id": "8d0c0aa5-252e-4c62-a1dd-b9f7febd6ea5",
   "metadata": {},
   "source": [
    "Get percent expressing"
   ]
  },
  {
   "cell_type": "code",
   "execution_count": 25,
   "id": "59e139d3-aca7-441c-b64c-c9afb354320a",
   "metadata": {},
   "outputs": [],
   "source": [
    "Idents(sc) <- paste0(sc@meta.data$Muxid, '%', sc@meta.data$IntSeuratSubC)"
   ]
  },
  {
   "cell_type": "code",
   "execution_count": 27,
   "id": "a7269b4f-c741-46b0-aa95-2341d9c2b2ab",
   "metadata": {},
   "outputs": [],
   "source": [
    "lrs <- unique(c(\n",
    "  expr.res %>% pull(Ligand.symbol), \n",
    "  expr.res %>% pull(Receptor.symbol), \n",
    "  spec.res %>% pull(Ligand.symbol), \n",
    "  spec.res %>% pull(Receptor.symbol)\n",
    "))\n",
    "\n",
    "dp <- DotPlot(sc, features = lrs)\n",
    "dpd <- dp$data\n",
    "\n",
    "pt_ct <- data.frame(str_split_fixed(dpd$id, '%', 2))\n",
    "colnames(pt_ct) <- c('MUXid', 'cell.type')\n",
    "dpd <- cbind(dpd, pt_ct)"
   ]
  },
  {
   "cell_type": "code",
   "execution_count": 36,
   "id": "2beda32b-7d13-49a6-8646-4e9e33e91ea8",
   "metadata": {},
   "outputs": [],
   "source": [
    "num.cells <- sc@meta.data %>% group_by(Muxid, IntSeuratSubC) %>% tally()"
   ]
  },
  {
   "cell_type": "code",
   "execution_count": 54,
   "id": "d7976e0f-0c16-4ed7-8697-e28e87d07c8f",
   "metadata": {},
   "outputs": [
    {
     "name": "stderr",
     "output_type": "stream",
     "text": [
      "`summarise()` has grouped output by 'Treatment', 'cell.type'. You can override using the `.groups` argument.\n",
      "\n"
     ]
    },
    {
     "data": {
      "text/html": [
       "<table class=\"dataframe\">\n",
       "<caption>A tibble: 6 × 4</caption>\n",
       "<thead>\n",
       "\t<tr><th scope=col>cell.type</th><th scope=col>features.plot</th><th scope=col>FT</th><th scope=col>Sham</th></tr>\n",
       "\t<tr><th scope=col>&lt;chr&gt;</th><th scope=col>&lt;fct&gt;</th><th scope=col>&lt;dbl&gt;</th><th scope=col>&lt;dbl&gt;</th></tr>\n",
       "</thead>\n",
       "<tbody>\n",
       "\t<tr><td>AstroSub1</td><td>Agt   </td><td>0.499786419</td><td>0.587719298</td></tr>\n",
       "\t<tr><td>AstroSub1</td><td>Col1a2</td><td>0.000000000</td><td>0.013888889</td></tr>\n",
       "\t<tr><td>AstroSub1</td><td>Comp  </td><td>0.000000000</td><td>0.000000000</td></tr>\n",
       "\t<tr><td>AstroSub1</td><td>Edn3  </td><td>0.007518797</td><td>0.004385965</td></tr>\n",
       "\t<tr><td>AstroSub1</td><td>F9    </td><td>0.000000000</td><td>0.022904483</td></tr>\n",
       "\t<tr><td>AstroSub1</td><td>Gpi   </td><td>0.434150112</td><td>0.369152047</td></tr>\n",
       "</tbody>\n",
       "</table>\n"
      ],
      "text/latex": [
       "A tibble: 6 × 4\n",
       "\\begin{tabular}{llll}\n",
       " cell.type & features.plot & FT & Sham\\\\\n",
       " <chr> & <fct> & <dbl> & <dbl>\\\\\n",
       "\\hline\n",
       "\t AstroSub1 & Agt    & 0.499786419 & 0.587719298\\\\\n",
       "\t AstroSub1 & Col1a2 & 0.000000000 & 0.013888889\\\\\n",
       "\t AstroSub1 & Comp   & 0.000000000 & 0.000000000\\\\\n",
       "\t AstroSub1 & Edn3   & 0.007518797 & 0.004385965\\\\\n",
       "\t AstroSub1 & F9     & 0.000000000 & 0.022904483\\\\\n",
       "\t AstroSub1 & Gpi    & 0.434150112 & 0.369152047\\\\\n",
       "\\end{tabular}\n"
      ],
      "text/markdown": [
       "\n",
       "A tibble: 6 × 4\n",
       "\n",
       "| cell.type &lt;chr&gt; | features.plot &lt;fct&gt; | FT &lt;dbl&gt; | Sham &lt;dbl&gt; |\n",
       "|---|---|---|---|\n",
       "| AstroSub1 | Agt    | 0.499786419 | 0.587719298 |\n",
       "| AstroSub1 | Col1a2 | 0.000000000 | 0.013888889 |\n",
       "| AstroSub1 | Comp   | 0.000000000 | 0.000000000 |\n",
       "| AstroSub1 | Edn3   | 0.007518797 | 0.004385965 |\n",
       "| AstroSub1 | F9     | 0.000000000 | 0.022904483 |\n",
       "| AstroSub1 | Gpi    | 0.434150112 | 0.369152047 |\n",
       "\n"
      ],
      "text/plain": [
       "  cell.type features.plot FT          Sham       \n",
       "1 AstroSub1 Agt           0.499786419 0.587719298\n",
       "2 AstroSub1 Col1a2        0.000000000 0.013888889\n",
       "3 AstroSub1 Comp          0.000000000 0.000000000\n",
       "4 AstroSub1 Edn3          0.007518797 0.004385965\n",
       "5 AstroSub1 F9            0.000000000 0.022904483\n",
       "6 AstroSub1 Gpi           0.434150112 0.369152047"
      ]
     },
     "metadata": {},
     "output_type": "display_data"
    }
   ],
   "source": [
    "pct.exp <- dpd %>% \n",
    "    left_join(sc@meta.data %>% distinct(Muxid, Treatment), by = c('MUXid' = 'Muxid')) %>%\n",
    "    left_join(num.cells, by = c('MUXid' = 'Muxid', 'cell.type' = 'IntSeuratSubC')) %>%\n",
    "    #filter(n > 5) %>%\n",
    "    group_by(Treatment, cell.type, features.plot) %>%\n",
    "    summarise(m = mean(pct.exp) / 100) %>% ungroup() %>%\n",
    "    pivot_wider(id_cols = c('cell.type', 'features.plot'), names_from = 'Treatment', values_from = 'm')\n",
    "pct.exp %>% head()"
   ]
  },
  {
   "cell_type": "code",
   "execution_count": 55,
   "id": "ee8f5723-6283-4045-9046-823f887f9207",
   "metadata": {},
   "outputs": [
    {
     "name": "stderr",
     "output_type": "stream",
     "text": [
      "Joining, by = c(\"Sending.cluster\", \"Ligand.symbol\")\n",
      "\n",
      "Joining, by = c(\"Receptor.symbol\", \"Target.cluster\")\n",
      "\n"
     ]
    },
    {
     "data": {
      "text/html": [
       "<table class=\"dataframe\">\n",
       "<caption>A data.frame: 6 × 16</caption>\n",
       "<thead>\n",
       "\t<tr><th></th><th scope=col>Sending.cluster</th><th scope=col>Ligand.symbol</th><th scope=col>Receptor.symbol</th><th scope=col>Target.cluster</th><th scope=col>logmean.1</th><th scope=col>logmean.2</th><th scope=col>pval.expr</th><th scope=col>logfc</th><th scope=col>mean.1</th><th scope=col>mean.2</th><th scope=col>pval.spec</th><th scope=col>diff</th><th scope=col>frac.ligand.1</th><th scope=col>frac.ligand.2</th><th scope=col>frac.receptor.1</th><th scope=col>frac.receptor.2</th></tr>\n",
       "\t<tr><th></th><th scope=col>&lt;chr&gt;</th><th scope=col>&lt;chr&gt;</th><th scope=col>&lt;chr&gt;</th><th scope=col>&lt;chr&gt;</th><th scope=col>&lt;dbl&gt;</th><th scope=col>&lt;dbl&gt;</th><th scope=col>&lt;dbl&gt;</th><th scope=col>&lt;dbl&gt;</th><th scope=col>&lt;dbl&gt;</th><th scope=col>&lt;dbl&gt;</th><th scope=col>&lt;dbl&gt;</th><th scope=col>&lt;dbl&gt;</th><th scope=col>&lt;dbl&gt;</th><th scope=col>&lt;dbl&gt;</th><th scope=col>&lt;dbl&gt;</th><th scope=col>&lt;dbl&gt;</th></tr>\n",
       "</thead>\n",
       "<tbody>\n",
       "\t<tr><th scope=row>1</th><td>AstroSub1</td><td>Agt</td><td>Mas1</td><td>AstroSub1  </td><td>11.59326</td><td>11.48682</td><td>0.7982978</td><td> 0.106442878</td><td>0.04222356</td><td>0.04036862</td><td>0.7014781</td><td> 0.001854943</td><td>0.4997864</td><td>0.5877193</td><td>0.007936508</td><td>0.00000000</td></tr>\n",
       "\t<tr><th scope=row>2</th><td>AstroSub1</td><td>Agt</td><td>Mas1</td><td>Endothelial</td><td>11.60400</td><td>11.60802</td><td>1.0000000</td><td>-0.004014954</td><td>0.04264901</td><td>0.04970845</td><td>0.7982978</td><td>-0.007059439</td><td>0.4997864</td><td>0.5877193</td><td>0.015665726</td><td>0.02857143</td></tr>\n",
       "\t<tr><th scope=row>3</th><td>AstroSub1</td><td>Agt</td><td>Mas1</td><td>ExcitNeuron</td><td>12.02429</td><td>11.56013</td><td>0.7982978</td><td> 0.464165526</td><td>0.06346114</td><td>0.04663585</td><td>0.7982978</td><td> 0.016825289</td><td>0.4997864</td><td>0.5877193</td><td>0.050917736</td><td>0.07325269</td></tr>\n",
       "\t<tr><th scope=row>4</th><td>AstroSub1</td><td>Agt</td><td>Mas1</td><td>Granule    </td><td>11.17567</td><td>11.08946</td><td>0.8960287</td><td> 0.086217589</td><td>0.02835580</td><td>0.02141280</td><td>0.7938154</td><td> 0.006942995</td><td>0.4997864</td><td>0.5877193</td><td>0.014814815</td><td>0.00000000</td></tr>\n",
       "\t<tr><th scope=row>5</th><td>AstroSub1</td><td>Agt</td><td>Mas1</td><td>InhibNeuron</td><td>11.76056</td><td>11.73881</td><td>0.8982155</td><td> 0.021751728</td><td>0.05052533</td><td>0.04353656</td><td>1.0000000</td><td> 0.006988768</td><td>0.4997864</td><td>0.5877193</td><td>0.139270491</td><td>0.20682261</td></tr>\n",
       "\t<tr><th scope=row>6</th><td>AstroSub1</td><td>Agt</td><td>Mas1</td><td>Microglia1 </td><td>11.12044</td><td>11.15796</td><td>0.8914674</td><td>-0.037522037</td><td>0.02384832</td><td>0.02527501</td><td>1.0000000</td><td>-0.001426688</td><td>0.4997864</td><td>0.5877193</td><td>0.000000000</td><td>0.00000000</td></tr>\n",
       "</tbody>\n",
       "</table>\n"
      ],
      "text/latex": [
       "A data.frame: 6 × 16\n",
       "\\begin{tabular}{r|llllllllllllllll}\n",
       "  & Sending.cluster & Ligand.symbol & Receptor.symbol & Target.cluster & logmean.1 & logmean.2 & pval.expr & logfc & mean.1 & mean.2 & pval.spec & diff & frac.ligand.1 & frac.ligand.2 & frac.receptor.1 & frac.receptor.2\\\\\n",
       "  & <chr> & <chr> & <chr> & <chr> & <dbl> & <dbl> & <dbl> & <dbl> & <dbl> & <dbl> & <dbl> & <dbl> & <dbl> & <dbl> & <dbl> & <dbl>\\\\\n",
       "\\hline\n",
       "\t1 & AstroSub1 & Agt & Mas1 & AstroSub1   & 11.59326 & 11.48682 & 0.7982978 &  0.106442878 & 0.04222356 & 0.04036862 & 0.7014781 &  0.001854943 & 0.4997864 & 0.5877193 & 0.007936508 & 0.00000000\\\\\n",
       "\t2 & AstroSub1 & Agt & Mas1 & Endothelial & 11.60400 & 11.60802 & 1.0000000 & -0.004014954 & 0.04264901 & 0.04970845 & 0.7982978 & -0.007059439 & 0.4997864 & 0.5877193 & 0.015665726 & 0.02857143\\\\\n",
       "\t3 & AstroSub1 & Agt & Mas1 & ExcitNeuron & 12.02429 & 11.56013 & 0.7982978 &  0.464165526 & 0.06346114 & 0.04663585 & 0.7982978 &  0.016825289 & 0.4997864 & 0.5877193 & 0.050917736 & 0.07325269\\\\\n",
       "\t4 & AstroSub1 & Agt & Mas1 & Granule     & 11.17567 & 11.08946 & 0.8960287 &  0.086217589 & 0.02835580 & 0.02141280 & 0.7938154 &  0.006942995 & 0.4997864 & 0.5877193 & 0.014814815 & 0.00000000\\\\\n",
       "\t5 & AstroSub1 & Agt & Mas1 & InhibNeuron & 11.76056 & 11.73881 & 0.8982155 &  0.021751728 & 0.05052533 & 0.04353656 & 1.0000000 &  0.006988768 & 0.4997864 & 0.5877193 & 0.139270491 & 0.20682261\\\\\n",
       "\t6 & AstroSub1 & Agt & Mas1 & Microglia1  & 11.12044 & 11.15796 & 0.8914674 & -0.037522037 & 0.02384832 & 0.02527501 & 1.0000000 & -0.001426688 & 0.4997864 & 0.5877193 & 0.000000000 & 0.00000000\\\\\n",
       "\\end{tabular}\n"
      ],
      "text/markdown": [
       "\n",
       "A data.frame: 6 × 16\n",
       "\n",
       "| <!--/--> | Sending.cluster &lt;chr&gt; | Ligand.symbol &lt;chr&gt; | Receptor.symbol &lt;chr&gt; | Target.cluster &lt;chr&gt; | logmean.1 &lt;dbl&gt; | logmean.2 &lt;dbl&gt; | pval.expr &lt;dbl&gt; | logfc &lt;dbl&gt; | mean.1 &lt;dbl&gt; | mean.2 &lt;dbl&gt; | pval.spec &lt;dbl&gt; | diff &lt;dbl&gt; | frac.ligand.1 &lt;dbl&gt; | frac.ligand.2 &lt;dbl&gt; | frac.receptor.1 &lt;dbl&gt; | frac.receptor.2 &lt;dbl&gt; |\n",
       "|---|---|---|---|---|---|---|---|---|---|---|---|---|---|---|---|---|\n",
       "| 1 | AstroSub1 | Agt | Mas1 | AstroSub1   | 11.59326 | 11.48682 | 0.7982978 |  0.106442878 | 0.04222356 | 0.04036862 | 0.7014781 |  0.001854943 | 0.4997864 | 0.5877193 | 0.007936508 | 0.00000000 |\n",
       "| 2 | AstroSub1 | Agt | Mas1 | Endothelial | 11.60400 | 11.60802 | 1.0000000 | -0.004014954 | 0.04264901 | 0.04970845 | 0.7982978 | -0.007059439 | 0.4997864 | 0.5877193 | 0.015665726 | 0.02857143 |\n",
       "| 3 | AstroSub1 | Agt | Mas1 | ExcitNeuron | 12.02429 | 11.56013 | 0.7982978 |  0.464165526 | 0.06346114 | 0.04663585 | 0.7982978 |  0.016825289 | 0.4997864 | 0.5877193 | 0.050917736 | 0.07325269 |\n",
       "| 4 | AstroSub1 | Agt | Mas1 | Granule     | 11.17567 | 11.08946 | 0.8960287 |  0.086217589 | 0.02835580 | 0.02141280 | 0.7938154 |  0.006942995 | 0.4997864 | 0.5877193 | 0.014814815 | 0.00000000 |\n",
       "| 5 | AstroSub1 | Agt | Mas1 | InhibNeuron | 11.76056 | 11.73881 | 0.8982155 |  0.021751728 | 0.05052533 | 0.04353656 | 1.0000000 |  0.006988768 | 0.4997864 | 0.5877193 | 0.139270491 | 0.20682261 |\n",
       "| 6 | AstroSub1 | Agt | Mas1 | Microglia1  | 11.12044 | 11.15796 | 0.8914674 | -0.037522037 | 0.02384832 | 0.02527501 | 1.0000000 | -0.001426688 | 0.4997864 | 0.5877193 | 0.000000000 | 0.00000000 |\n",
       "\n"
      ],
      "text/plain": [
       "  Sending.cluster Ligand.symbol Receptor.symbol Target.cluster logmean.1\n",
       "1 AstroSub1       Agt           Mas1            AstroSub1      11.59326 \n",
       "2 AstroSub1       Agt           Mas1            Endothelial    11.60400 \n",
       "3 AstroSub1       Agt           Mas1            ExcitNeuron    12.02429 \n",
       "4 AstroSub1       Agt           Mas1            Granule        11.17567 \n",
       "5 AstroSub1       Agt           Mas1            InhibNeuron    11.76056 \n",
       "6 AstroSub1       Agt           Mas1            Microglia1     11.12044 \n",
       "  logmean.2 pval.expr logfc        mean.1     mean.2     pval.spec diff        \n",
       "1 11.48682  0.7982978  0.106442878 0.04222356 0.04036862 0.7014781  0.001854943\n",
       "2 11.60802  1.0000000 -0.004014954 0.04264901 0.04970845 0.7982978 -0.007059439\n",
       "3 11.56013  0.7982978  0.464165526 0.06346114 0.04663585 0.7982978  0.016825289\n",
       "4 11.08946  0.8960287  0.086217589 0.02835580 0.02141280 0.7938154  0.006942995\n",
       "5 11.73881  0.8982155  0.021751728 0.05052533 0.04353656 1.0000000  0.006988768\n",
       "6 11.15796  0.8914674 -0.037522037 0.02384832 0.02527501 1.0000000 -0.001426688\n",
       "  frac.ligand.1 frac.ligand.2 frac.receptor.1 frac.receptor.2\n",
       "1 0.4997864     0.5877193     0.007936508     0.00000000     \n",
       "2 0.4997864     0.5877193     0.015665726     0.02857143     \n",
       "3 0.4997864     0.5877193     0.050917736     0.07325269     \n",
       "4 0.4997864     0.5877193     0.014814815     0.00000000     \n",
       "5 0.4997864     0.5877193     0.139270491     0.20682261     \n",
       "6 0.4997864     0.5877193     0.000000000     0.00000000     "
      ]
     },
     "metadata": {},
     "output_type": "display_data"
    }
   ],
   "source": [
    "joined <- full_join(expr.res, spec.res, \n",
    "        by = c('Sending.cluster', 'Ligand.symbol', 'Receptor.symbol', 'Target.cluster'), \n",
    "        suffix = c('.expr', '.spec')\n",
    "    ) %>% select(-X.expr, -X.spec) %>%\n",
    "    left_join(\n",
    "        pct.exp %>% rename(\n",
    "            Sending.cluster = cell.type, \n",
    "            Ligand.symbol = features.plot, \n",
    "            frac.ligand.1 = FT, \n",
    "            frac.ligand.2 = Sham\n",
    "        )\n",
    "    ) %>% left_join(\n",
    "        pct.exp %>% rename(\n",
    "            Target.cluster = cell.type, \n",
    "            Receptor.symbol = features.plot, \n",
    "            frac.receptor.1 = FT, \n",
    "            frac.receptor.2 = Sham\n",
    "        )\n",
    "    )\n",
    "joined %>% head()"
   ]
  },
  {
   "cell_type": "code",
   "execution_count": 56,
   "id": "0b00f17f-1528-42ac-891a-87734f856b72",
   "metadata": {},
   "outputs": [],
   "source": [
    "write.csv(joined, file = \"../processed_data/211116_natmi_venDG/joined.csv\")"
   ]
  },
  {
   "cell_type": "markdown",
   "id": "2cc7c5d5-f1e6-4bd7-9243-2bfb983e8564",
   "metadata": {},
   "source": [
    "## Filter"
   ]
  },
  {
   "cell_type": "code",
   "execution_count": 4,
   "id": "b255f22c-4eca-4566-9fd8-a77a6a5125d5",
   "metadata": {},
   "outputs": [
    {
     "data": {
      "text/html": [
       "<table class=\"dataframe\">\n",
       "<caption>A data.frame: 6 × 16</caption>\n",
       "<thead>\n",
       "\t<tr><th></th><th scope=col>Sending.cluster</th><th scope=col>Ligand.symbol</th><th scope=col>Receptor.symbol</th><th scope=col>Target.cluster</th><th scope=col>logmean.1</th><th scope=col>logmean.2</th><th scope=col>pval.expr</th><th scope=col>logfc</th><th scope=col>mean.1</th><th scope=col>mean.2</th><th scope=col>pval.spec</th><th scope=col>diff</th><th scope=col>frac.ligand.1</th><th scope=col>frac.ligand.2</th><th scope=col>frac.receptor.1</th><th scope=col>frac.receptor.2</th></tr>\n",
       "\t<tr><th></th><th scope=col>&lt;chr&gt;</th><th scope=col>&lt;chr&gt;</th><th scope=col>&lt;chr&gt;</th><th scope=col>&lt;chr&gt;</th><th scope=col>&lt;dbl&gt;</th><th scope=col>&lt;dbl&gt;</th><th scope=col>&lt;dbl&gt;</th><th scope=col>&lt;dbl&gt;</th><th scope=col>&lt;dbl&gt;</th><th scope=col>&lt;dbl&gt;</th><th scope=col>&lt;dbl&gt;</th><th scope=col>&lt;dbl&gt;</th><th scope=col>&lt;dbl&gt;</th><th scope=col>&lt;dbl&gt;</th><th scope=col>&lt;dbl&gt;</th><th scope=col>&lt;dbl&gt;</th></tr>\n",
       "</thead>\n",
       "<tbody>\n",
       "\t<tr><th scope=row>1</th><td>AstroSub1</td><td>Agt</td><td>Mas1</td><td>AstroSub1  </td><td>11.59326</td><td>11.48682</td><td>0.7982978</td><td> 0.106442878</td><td>0.04222356</td><td>0.04036862</td><td>0.7014781</td><td> 0.001854943</td><td>0.4997864</td><td>0.5877193</td><td>0.007936508</td><td>0.00000000</td></tr>\n",
       "\t<tr><th scope=row>2</th><td>AstroSub1</td><td>Agt</td><td>Mas1</td><td>Endothelial</td><td>11.60400</td><td>11.60802</td><td>1.0000000</td><td>-0.004014954</td><td>0.04264901</td><td>0.04970845</td><td>0.7982978</td><td>-0.007059439</td><td>0.4997864</td><td>0.5877193</td><td>0.015665726</td><td>0.02857143</td></tr>\n",
       "\t<tr><th scope=row>3</th><td>AstroSub1</td><td>Agt</td><td>Mas1</td><td>ExcitNeuron</td><td>12.02429</td><td>11.56013</td><td>0.7982978</td><td> 0.464165526</td><td>0.06346114</td><td>0.04663585</td><td>0.7982978</td><td> 0.016825289</td><td>0.4997864</td><td>0.5877193</td><td>0.050917736</td><td>0.07325269</td></tr>\n",
       "\t<tr><th scope=row>4</th><td>AstroSub1</td><td>Agt</td><td>Mas1</td><td>Granule    </td><td>11.17567</td><td>11.08946</td><td>0.8960287</td><td> 0.086217589</td><td>0.02835580</td><td>0.02141280</td><td>0.7938154</td><td> 0.006942995</td><td>0.4997864</td><td>0.5877193</td><td>0.014814815</td><td>0.00000000</td></tr>\n",
       "\t<tr><th scope=row>5</th><td>AstroSub1</td><td>Agt</td><td>Mas1</td><td>InhibNeuron</td><td>11.76056</td><td>11.73881</td><td>0.8982155</td><td> 0.021751728</td><td>0.05052533</td><td>0.04353656</td><td>1.0000000</td><td> 0.006988768</td><td>0.4997864</td><td>0.5877193</td><td>0.139270491</td><td>0.20682261</td></tr>\n",
       "\t<tr><th scope=row>6</th><td>AstroSub1</td><td>Agt</td><td>Mas1</td><td>Microglia1 </td><td>11.12044</td><td>11.15796</td><td>0.8914674</td><td>-0.037522037</td><td>0.02384832</td><td>0.02527501</td><td>1.0000000</td><td>-0.001426688</td><td>0.4997864</td><td>0.5877193</td><td>0.000000000</td><td>0.00000000</td></tr>\n",
       "</tbody>\n",
       "</table>\n"
      ],
      "text/latex": [
       "A data.frame: 6 × 16\n",
       "\\begin{tabular}{r|llllllllllllllll}\n",
       "  & Sending.cluster & Ligand.symbol & Receptor.symbol & Target.cluster & logmean.1 & logmean.2 & pval.expr & logfc & mean.1 & mean.2 & pval.spec & diff & frac.ligand.1 & frac.ligand.2 & frac.receptor.1 & frac.receptor.2\\\\\n",
       "  & <chr> & <chr> & <chr> & <chr> & <dbl> & <dbl> & <dbl> & <dbl> & <dbl> & <dbl> & <dbl> & <dbl> & <dbl> & <dbl> & <dbl> & <dbl>\\\\\n",
       "\\hline\n",
       "\t1 & AstroSub1 & Agt & Mas1 & AstroSub1   & 11.59326 & 11.48682 & 0.7982978 &  0.106442878 & 0.04222356 & 0.04036862 & 0.7014781 &  0.001854943 & 0.4997864 & 0.5877193 & 0.007936508 & 0.00000000\\\\\n",
       "\t2 & AstroSub1 & Agt & Mas1 & Endothelial & 11.60400 & 11.60802 & 1.0000000 & -0.004014954 & 0.04264901 & 0.04970845 & 0.7982978 & -0.007059439 & 0.4997864 & 0.5877193 & 0.015665726 & 0.02857143\\\\\n",
       "\t3 & AstroSub1 & Agt & Mas1 & ExcitNeuron & 12.02429 & 11.56013 & 0.7982978 &  0.464165526 & 0.06346114 & 0.04663585 & 0.7982978 &  0.016825289 & 0.4997864 & 0.5877193 & 0.050917736 & 0.07325269\\\\\n",
       "\t4 & AstroSub1 & Agt & Mas1 & Granule     & 11.17567 & 11.08946 & 0.8960287 &  0.086217589 & 0.02835580 & 0.02141280 & 0.7938154 &  0.006942995 & 0.4997864 & 0.5877193 & 0.014814815 & 0.00000000\\\\\n",
       "\t5 & AstroSub1 & Agt & Mas1 & InhibNeuron & 11.76056 & 11.73881 & 0.8982155 &  0.021751728 & 0.05052533 & 0.04353656 & 1.0000000 &  0.006988768 & 0.4997864 & 0.5877193 & 0.139270491 & 0.20682261\\\\\n",
       "\t6 & AstroSub1 & Agt & Mas1 & Microglia1  & 11.12044 & 11.15796 & 0.8914674 & -0.037522037 & 0.02384832 & 0.02527501 & 1.0000000 & -0.001426688 & 0.4997864 & 0.5877193 & 0.000000000 & 0.00000000\\\\\n",
       "\\end{tabular}\n"
      ],
      "text/markdown": [
       "\n",
       "A data.frame: 6 × 16\n",
       "\n",
       "| <!--/--> | Sending.cluster &lt;chr&gt; | Ligand.symbol &lt;chr&gt; | Receptor.symbol &lt;chr&gt; | Target.cluster &lt;chr&gt; | logmean.1 &lt;dbl&gt; | logmean.2 &lt;dbl&gt; | pval.expr &lt;dbl&gt; | logfc &lt;dbl&gt; | mean.1 &lt;dbl&gt; | mean.2 &lt;dbl&gt; | pval.spec &lt;dbl&gt; | diff &lt;dbl&gt; | frac.ligand.1 &lt;dbl&gt; | frac.ligand.2 &lt;dbl&gt; | frac.receptor.1 &lt;dbl&gt; | frac.receptor.2 &lt;dbl&gt; |\n",
       "|---|---|---|---|---|---|---|---|---|---|---|---|---|---|---|---|---|\n",
       "| 1 | AstroSub1 | Agt | Mas1 | AstroSub1   | 11.59326 | 11.48682 | 0.7982978 |  0.106442878 | 0.04222356 | 0.04036862 | 0.7014781 |  0.001854943 | 0.4997864 | 0.5877193 | 0.007936508 | 0.00000000 |\n",
       "| 2 | AstroSub1 | Agt | Mas1 | Endothelial | 11.60400 | 11.60802 | 1.0000000 | -0.004014954 | 0.04264901 | 0.04970845 | 0.7982978 | -0.007059439 | 0.4997864 | 0.5877193 | 0.015665726 | 0.02857143 |\n",
       "| 3 | AstroSub1 | Agt | Mas1 | ExcitNeuron | 12.02429 | 11.56013 | 0.7982978 |  0.464165526 | 0.06346114 | 0.04663585 | 0.7982978 |  0.016825289 | 0.4997864 | 0.5877193 | 0.050917736 | 0.07325269 |\n",
       "| 4 | AstroSub1 | Agt | Mas1 | Granule     | 11.17567 | 11.08946 | 0.8960287 |  0.086217589 | 0.02835580 | 0.02141280 | 0.7938154 |  0.006942995 | 0.4997864 | 0.5877193 | 0.014814815 | 0.00000000 |\n",
       "| 5 | AstroSub1 | Agt | Mas1 | InhibNeuron | 11.76056 | 11.73881 | 0.8982155 |  0.021751728 | 0.05052533 | 0.04353656 | 1.0000000 |  0.006988768 | 0.4997864 | 0.5877193 | 0.139270491 | 0.20682261 |\n",
       "| 6 | AstroSub1 | Agt | Mas1 | Microglia1  | 11.12044 | 11.15796 | 0.8914674 | -0.037522037 | 0.02384832 | 0.02527501 | 1.0000000 | -0.001426688 | 0.4997864 | 0.5877193 | 0.000000000 | 0.00000000 |\n",
       "\n"
      ],
      "text/plain": [
       "  Sending.cluster Ligand.symbol Receptor.symbol Target.cluster logmean.1\n",
       "1 AstroSub1       Agt           Mas1            AstroSub1      11.59326 \n",
       "2 AstroSub1       Agt           Mas1            Endothelial    11.60400 \n",
       "3 AstroSub1       Agt           Mas1            ExcitNeuron    12.02429 \n",
       "4 AstroSub1       Agt           Mas1            Granule        11.17567 \n",
       "5 AstroSub1       Agt           Mas1            InhibNeuron    11.76056 \n",
       "6 AstroSub1       Agt           Mas1            Microglia1     11.12044 \n",
       "  logmean.2 pval.expr logfc        mean.1     mean.2     pval.spec diff        \n",
       "1 11.48682  0.7982978  0.106442878 0.04222356 0.04036862 0.7014781  0.001854943\n",
       "2 11.60802  1.0000000 -0.004014954 0.04264901 0.04970845 0.7982978 -0.007059439\n",
       "3 11.56013  0.7982978  0.464165526 0.06346114 0.04663585 0.7982978  0.016825289\n",
       "4 11.08946  0.8960287  0.086217589 0.02835580 0.02141280 0.7938154  0.006942995\n",
       "5 11.73881  0.8982155  0.021751728 0.05052533 0.04353656 1.0000000  0.006988768\n",
       "6 11.15796  0.8914674 -0.037522037 0.02384832 0.02527501 1.0000000 -0.001426688\n",
       "  frac.ligand.1 frac.ligand.2 frac.receptor.1 frac.receptor.2\n",
       "1 0.4997864     0.5877193     0.007936508     0.00000000     \n",
       "2 0.4997864     0.5877193     0.015665726     0.02857143     \n",
       "3 0.4997864     0.5877193     0.050917736     0.07325269     \n",
       "4 0.4997864     0.5877193     0.014814815     0.00000000     \n",
       "5 0.4997864     0.5877193     0.139270491     0.20682261     \n",
       "6 0.4997864     0.5877193     0.000000000     0.00000000     "
      ]
     },
     "metadata": {},
     "output_type": "display_data"
    }
   ],
   "source": [
    "joined <- read.csv(\"../processed_data/211116_natmi_venDG/joined.csv\", row.names = 1)\n",
    "joined %>% head()"
   ]
  },
  {
   "cell_type": "markdown",
   "id": "9909429a-afdd-445e-9190-b944db94b07a",
   "metadata": {},
   "source": [
    "Filter for top hits"
   ]
  },
  {
   "cell_type": "code",
   "execution_count": 5,
   "id": "3cc85452-d98a-4c12-b45c-560f22e5888a",
   "metadata": {},
   "outputs": [
    {
     "data": {
      "text/html": [
       "<table class=\"dataframe\">\n",
       "<caption>A data.frame: 11 × 21</caption>\n",
       "<thead>\n",
       "\t<tr><th scope=col>Sending.cluster</th><th scope=col>Ligand.symbol</th><th scope=col>Receptor.symbol</th><th scope=col>Target.cluster</th><th scope=col>logmean.1</th><th scope=col>logmean.2</th><th scope=col>pval.expr</th><th scope=col>logfc</th><th scope=col>mean.1</th><th scope=col>mean.2</th><th scope=col>⋯</th><th scope=col>diff</th><th scope=col>frac.ligand.1</th><th scope=col>frac.ligand.2</th><th scope=col>frac.receptor.1</th><th scope=col>frac.receptor.2</th><th scope=col>frac.ligand.higher</th><th scope=col>frac.receptor.higher</th><th scope=col>spec.higher</th><th scope=col>expr.higher</th><th scope=col>Treatment</th></tr>\n",
       "\t<tr><th scope=col>&lt;chr&gt;</th><th scope=col>&lt;chr&gt;</th><th scope=col>&lt;chr&gt;</th><th scope=col>&lt;chr&gt;</th><th scope=col>&lt;dbl&gt;</th><th scope=col>&lt;dbl&gt;</th><th scope=col>&lt;dbl&gt;</th><th scope=col>&lt;dbl&gt;</th><th scope=col>&lt;dbl&gt;</th><th scope=col>&lt;dbl&gt;</th><th scope=col>⋯</th><th scope=col>&lt;dbl&gt;</th><th scope=col>&lt;dbl&gt;</th><th scope=col>&lt;dbl&gt;</th><th scope=col>&lt;dbl&gt;</th><th scope=col>&lt;dbl&gt;</th><th scope=col>&lt;dbl&gt;</th><th scope=col>&lt;dbl&gt;</th><th scope=col>&lt;dbl&gt;</th><th scope=col>&lt;dbl&gt;</th><th scope=col>&lt;chr&gt;</th></tr>\n",
       "</thead>\n",
       "<tbody>\n",
       "\t<tr><td>Endothelial</td><td>Cxcl12  </td><td>Itga4  </td><td>InhibNeuron</td><td>11.86379</td><td>10.92617</td><td>0.01051795</td><td> 0.9376165</td><td>0.05292188</td><td>0.017769772</td><td>⋯</td><td> 0.03515211</td><td>0.7990287</td><td>0.6550944</td><td>0.4131500</td><td>0.2522417</td><td>0.7990287</td><td>0.4131500</td><td>0.05292188</td><td>11.86379</td><td>FT  </td></tr>\n",
       "\t<tr><td>InhibNeuron</td><td>Cntn4   </td><td>Ptprg  </td><td>Endothelial</td><td>13.82583</td><td>12.84870</td><td>0.01508203</td><td> 0.9771252</td><td>0.05749660</td><td>0.019229605</td><td>⋯</td><td> 0.03826700</td><td>0.8228890</td><td>0.8810916</td><td>0.9185865</td><td>0.7955706</td><td>0.8228890</td><td>0.9185865</td><td>0.05749660</td><td>13.82583</td><td>FT  </td></tr>\n",
       "\t<tr><td>Endothelial</td><td>Fn1     </td><td>Itga9  </td><td>OPC        </td><td>12.06068</td><td>11.15340</td><td>0.02966226</td><td> 0.9072791</td><td>0.07844542</td><td>0.035189696</td><td>⋯</td><td> 0.04325572</td><td>0.5861382</td><td>0.5798906</td><td>0.4961225</td><td>0.3360434</td><td>0.5861382</td><td>0.4961225</td><td>0.07844542</td><td>12.06068</td><td>FT  </td></tr>\n",
       "\t<tr><td>OPC        </td><td>Cntn4   </td><td>Ptprg  </td><td>Endothelial</td><td>13.86337</td><td>12.85220</td><td>0.02966226</td><td> 1.0111667</td><td>0.05236548</td><td>0.022941609</td><td>⋯</td><td> 0.02942387</td><td>0.6977521</td><td>0.7263497</td><td>0.9185865</td><td>0.7955706</td><td>0.6977521</td><td>0.9185865</td><td>0.05236548</td><td>13.86337</td><td>FT  </td></tr>\n",
       "\t<tr><td>Endothelial</td><td>Fn1     </td><td>Itga4  </td><td>InhibNeuron</td><td>11.40433</td><td>10.54640</td><td>0.04069194</td><td> 0.8579366</td><td>0.04788265</td><td>0.018288973</td><td>⋯</td><td> 0.02959367</td><td>0.5861382</td><td>0.5798906</td><td>0.4131500</td><td>0.2522417</td><td>0.5861382</td><td>0.4131500</td><td>0.04788265</td><td>11.40433</td><td>FT  </td></tr>\n",
       "\t<tr><td>AstroSub1  </td><td>Sema6d  </td><td>Kdr    </td><td>Endothelial</td><td>11.50619</td><td>10.73331</td><td>0.04091355</td><td> 0.7728859</td><td>0.05802738</td><td>0.027641785</td><td>⋯</td><td> 0.03038560</td><td>0.3245737</td><td>0.1269493</td><td>0.5323128</td><td>0.4612398</td><td>0.3245737</td><td>0.5323128</td><td>0.05802738</td><td>11.50619</td><td>FT  </td></tr>\n",
       "\t<tr><td>AstroSub1  </td><td>Serpine2</td><td>Lrp1   </td><td>AstroSub1  </td><td>12.90163</td><td>11.91969</td><td>0.04091355</td><td> 0.9819370</td><td>0.05917645</td><td>0.030313809</td><td>⋯</td><td> 0.02886264</td><td>0.5623087</td><td>0.3767057</td><td>0.5122158</td><td>0.4851365</td><td>0.5623087</td><td>0.5122158</td><td>0.05917645</td><td>12.90163</td><td>FT  </td></tr>\n",
       "\t<tr><td>Microglia2 </td><td>Grn     </td><td>Sort1  </td><td>ExcitNeuron</td><td>11.79093</td><td>12.80956</td><td>0.04521522</td><td>-1.0186319</td><td>0.02127172</td><td>0.058945179</td><td>⋯</td><td>-0.03767346</td><td>0.9028883</td><td>0.8064563</td><td>0.3640703</td><td>0.3989162</td><td>0.8064563</td><td>0.3989162</td><td>0.05894518</td><td>12.80956</td><td>Sham</td></tr>\n",
       "\t<tr><td>Mossy      </td><td>Alcam   </td><td>Nrp1   </td><td>ExcitNeuron</td><td>13.77178</td><td>10.17094</td><td>0.10630254</td><td> 3.6008405</td><td>0.04156125</td><td>0.003080552</td><td>⋯</td><td> 0.03848070</td><td>0.4523810</td><td>0.1562500</td><td>0.2610810</td><td>0.1656959</td><td>0.4523810</td><td>0.2610810</td><td>0.04156125</td><td>13.77178</td><td>FT  </td></tr>\n",
       "\t<tr><td>Microglia2 </td><td>Apoe    </td><td>Lrp1   </td><td>Microglia2 </td><td>14.18799</td><td>15.19351</td><td>0.13732286</td><td>-1.0055186</td><td>0.00917800</td><td>0.040371595</td><td>⋯</td><td>-0.03119359</td><td>0.9865057</td><td>0.9543210</td><td>0.5283617</td><td>0.5844419</td><td>0.9543210</td><td>0.5844419</td><td>0.04037159</td><td>15.19351</td><td>Sham</td></tr>\n",
       "\t<tr><td>Endothelial</td><td>Bsg     </td><td>Slc16a1</td><td>Endothelial</td><td>14.50880</td><td>14.20122</td><td>0.44328852</td><td> 0.3075758</td><td>0.14534394</td><td>0.087796628</td><td>⋯</td><td> 0.05754732</td><td>0.9707785</td><td>0.9714286</td><td>0.4189688</td><td>0.3905405</td><td>0.9707785</td><td>0.4189688</td><td>0.14534394</td><td>14.50880</td><td>FT  </td></tr>\n",
       "</tbody>\n",
       "</table>\n"
      ],
      "text/latex": [
       "A data.frame: 11 × 21\n",
       "\\begin{tabular}{lllllllllllllllllllll}\n",
       " Sending.cluster & Ligand.symbol & Receptor.symbol & Target.cluster & logmean.1 & logmean.2 & pval.expr & logfc & mean.1 & mean.2 & ⋯ & diff & frac.ligand.1 & frac.ligand.2 & frac.receptor.1 & frac.receptor.2 & frac.ligand.higher & frac.receptor.higher & spec.higher & expr.higher & Treatment\\\\\n",
       " <chr> & <chr> & <chr> & <chr> & <dbl> & <dbl> & <dbl> & <dbl> & <dbl> & <dbl> & ⋯ & <dbl> & <dbl> & <dbl> & <dbl> & <dbl> & <dbl> & <dbl> & <dbl> & <dbl> & <chr>\\\\\n",
       "\\hline\n",
       "\t Endothelial & Cxcl12   & Itga4   & InhibNeuron & 11.86379 & 10.92617 & 0.01051795 &  0.9376165 & 0.05292188 & 0.017769772 & ⋯ &  0.03515211 & 0.7990287 & 0.6550944 & 0.4131500 & 0.2522417 & 0.7990287 & 0.4131500 & 0.05292188 & 11.86379 & FT  \\\\\n",
       "\t InhibNeuron & Cntn4    & Ptprg   & Endothelial & 13.82583 & 12.84870 & 0.01508203 &  0.9771252 & 0.05749660 & 0.019229605 & ⋯ &  0.03826700 & 0.8228890 & 0.8810916 & 0.9185865 & 0.7955706 & 0.8228890 & 0.9185865 & 0.05749660 & 13.82583 & FT  \\\\\n",
       "\t Endothelial & Fn1      & Itga9   & OPC         & 12.06068 & 11.15340 & 0.02966226 &  0.9072791 & 0.07844542 & 0.035189696 & ⋯ &  0.04325572 & 0.5861382 & 0.5798906 & 0.4961225 & 0.3360434 & 0.5861382 & 0.4961225 & 0.07844542 & 12.06068 & FT  \\\\\n",
       "\t OPC         & Cntn4    & Ptprg   & Endothelial & 13.86337 & 12.85220 & 0.02966226 &  1.0111667 & 0.05236548 & 0.022941609 & ⋯ &  0.02942387 & 0.6977521 & 0.7263497 & 0.9185865 & 0.7955706 & 0.6977521 & 0.9185865 & 0.05236548 & 13.86337 & FT  \\\\\n",
       "\t Endothelial & Fn1      & Itga4   & InhibNeuron & 11.40433 & 10.54640 & 0.04069194 &  0.8579366 & 0.04788265 & 0.018288973 & ⋯ &  0.02959367 & 0.5861382 & 0.5798906 & 0.4131500 & 0.2522417 & 0.5861382 & 0.4131500 & 0.04788265 & 11.40433 & FT  \\\\\n",
       "\t AstroSub1   & Sema6d   & Kdr     & Endothelial & 11.50619 & 10.73331 & 0.04091355 &  0.7728859 & 0.05802738 & 0.027641785 & ⋯ &  0.03038560 & 0.3245737 & 0.1269493 & 0.5323128 & 0.4612398 & 0.3245737 & 0.5323128 & 0.05802738 & 11.50619 & FT  \\\\\n",
       "\t AstroSub1   & Serpine2 & Lrp1    & AstroSub1   & 12.90163 & 11.91969 & 0.04091355 &  0.9819370 & 0.05917645 & 0.030313809 & ⋯ &  0.02886264 & 0.5623087 & 0.3767057 & 0.5122158 & 0.4851365 & 0.5623087 & 0.5122158 & 0.05917645 & 12.90163 & FT  \\\\\n",
       "\t Microglia2  & Grn      & Sort1   & ExcitNeuron & 11.79093 & 12.80956 & 0.04521522 & -1.0186319 & 0.02127172 & 0.058945179 & ⋯ & -0.03767346 & 0.9028883 & 0.8064563 & 0.3640703 & 0.3989162 & 0.8064563 & 0.3989162 & 0.05894518 & 12.80956 & Sham\\\\\n",
       "\t Mossy       & Alcam    & Nrp1    & ExcitNeuron & 13.77178 & 10.17094 & 0.10630254 &  3.6008405 & 0.04156125 & 0.003080552 & ⋯ &  0.03848070 & 0.4523810 & 0.1562500 & 0.2610810 & 0.1656959 & 0.4523810 & 0.2610810 & 0.04156125 & 13.77178 & FT  \\\\\n",
       "\t Microglia2  & Apoe     & Lrp1    & Microglia2  & 14.18799 & 15.19351 & 0.13732286 & -1.0055186 & 0.00917800 & 0.040371595 & ⋯ & -0.03119359 & 0.9865057 & 0.9543210 & 0.5283617 & 0.5844419 & 0.9543210 & 0.5844419 & 0.04037159 & 15.19351 & Sham\\\\\n",
       "\t Endothelial & Bsg      & Slc16a1 & Endothelial & 14.50880 & 14.20122 & 0.44328852 &  0.3075758 & 0.14534394 & 0.087796628 & ⋯ &  0.05754732 & 0.9707785 & 0.9714286 & 0.4189688 & 0.3905405 & 0.9707785 & 0.4189688 & 0.14534394 & 14.50880 & FT  \\\\\n",
       "\\end{tabular}\n"
      ],
      "text/markdown": [
       "\n",
       "A data.frame: 11 × 21\n",
       "\n",
       "| Sending.cluster &lt;chr&gt; | Ligand.symbol &lt;chr&gt; | Receptor.symbol &lt;chr&gt; | Target.cluster &lt;chr&gt; | logmean.1 &lt;dbl&gt; | logmean.2 &lt;dbl&gt; | pval.expr &lt;dbl&gt; | logfc &lt;dbl&gt; | mean.1 &lt;dbl&gt; | mean.2 &lt;dbl&gt; | ⋯ ⋯ | diff &lt;dbl&gt; | frac.ligand.1 &lt;dbl&gt; | frac.ligand.2 &lt;dbl&gt; | frac.receptor.1 &lt;dbl&gt; | frac.receptor.2 &lt;dbl&gt; | frac.ligand.higher &lt;dbl&gt; | frac.receptor.higher &lt;dbl&gt; | spec.higher &lt;dbl&gt; | expr.higher &lt;dbl&gt; | Treatment &lt;chr&gt; |\n",
       "|---|---|---|---|---|---|---|---|---|---|---|---|---|---|---|---|---|---|---|---|---|\n",
       "| Endothelial | Cxcl12   | Itga4   | InhibNeuron | 11.86379 | 10.92617 | 0.01051795 |  0.9376165 | 0.05292188 | 0.017769772 | ⋯ |  0.03515211 | 0.7990287 | 0.6550944 | 0.4131500 | 0.2522417 | 0.7990287 | 0.4131500 | 0.05292188 | 11.86379 | FT   |\n",
       "| InhibNeuron | Cntn4    | Ptprg   | Endothelial | 13.82583 | 12.84870 | 0.01508203 |  0.9771252 | 0.05749660 | 0.019229605 | ⋯ |  0.03826700 | 0.8228890 | 0.8810916 | 0.9185865 | 0.7955706 | 0.8228890 | 0.9185865 | 0.05749660 | 13.82583 | FT   |\n",
       "| Endothelial | Fn1      | Itga9   | OPC         | 12.06068 | 11.15340 | 0.02966226 |  0.9072791 | 0.07844542 | 0.035189696 | ⋯ |  0.04325572 | 0.5861382 | 0.5798906 | 0.4961225 | 0.3360434 | 0.5861382 | 0.4961225 | 0.07844542 | 12.06068 | FT   |\n",
       "| OPC         | Cntn4    | Ptprg   | Endothelial | 13.86337 | 12.85220 | 0.02966226 |  1.0111667 | 0.05236548 | 0.022941609 | ⋯ |  0.02942387 | 0.6977521 | 0.7263497 | 0.9185865 | 0.7955706 | 0.6977521 | 0.9185865 | 0.05236548 | 13.86337 | FT   |\n",
       "| Endothelial | Fn1      | Itga4   | InhibNeuron | 11.40433 | 10.54640 | 0.04069194 |  0.8579366 | 0.04788265 | 0.018288973 | ⋯ |  0.02959367 | 0.5861382 | 0.5798906 | 0.4131500 | 0.2522417 | 0.5861382 | 0.4131500 | 0.04788265 | 11.40433 | FT   |\n",
       "| AstroSub1   | Sema6d   | Kdr     | Endothelial | 11.50619 | 10.73331 | 0.04091355 |  0.7728859 | 0.05802738 | 0.027641785 | ⋯ |  0.03038560 | 0.3245737 | 0.1269493 | 0.5323128 | 0.4612398 | 0.3245737 | 0.5323128 | 0.05802738 | 11.50619 | FT   |\n",
       "| AstroSub1   | Serpine2 | Lrp1    | AstroSub1   | 12.90163 | 11.91969 | 0.04091355 |  0.9819370 | 0.05917645 | 0.030313809 | ⋯ |  0.02886264 | 0.5623087 | 0.3767057 | 0.5122158 | 0.4851365 | 0.5623087 | 0.5122158 | 0.05917645 | 12.90163 | FT   |\n",
       "| Microglia2  | Grn      | Sort1   | ExcitNeuron | 11.79093 | 12.80956 | 0.04521522 | -1.0186319 | 0.02127172 | 0.058945179 | ⋯ | -0.03767346 | 0.9028883 | 0.8064563 | 0.3640703 | 0.3989162 | 0.8064563 | 0.3989162 | 0.05894518 | 12.80956 | Sham |\n",
       "| Mossy       | Alcam    | Nrp1    | ExcitNeuron | 13.77178 | 10.17094 | 0.10630254 |  3.6008405 | 0.04156125 | 0.003080552 | ⋯ |  0.03848070 | 0.4523810 | 0.1562500 | 0.2610810 | 0.1656959 | 0.4523810 | 0.2610810 | 0.04156125 | 13.77178 | FT   |\n",
       "| Microglia2  | Apoe     | Lrp1    | Microglia2  | 14.18799 | 15.19351 | 0.13732286 | -1.0055186 | 0.00917800 | 0.040371595 | ⋯ | -0.03119359 | 0.9865057 | 0.9543210 | 0.5283617 | 0.5844419 | 0.9543210 | 0.5844419 | 0.04037159 | 15.19351 | Sham |\n",
       "| Endothelial | Bsg      | Slc16a1 | Endothelial | 14.50880 | 14.20122 | 0.44328852 |  0.3075758 | 0.14534394 | 0.087796628 | ⋯ |  0.05754732 | 0.9707785 | 0.9714286 | 0.4189688 | 0.3905405 | 0.9707785 | 0.4189688 | 0.14534394 | 14.50880 | FT   |\n",
       "\n"
      ],
      "text/plain": [
       "   Sending.cluster Ligand.symbol Receptor.symbol Target.cluster logmean.1\n",
       "1  Endothelial     Cxcl12        Itga4           InhibNeuron    11.86379 \n",
       "2  InhibNeuron     Cntn4         Ptprg           Endothelial    13.82583 \n",
       "3  Endothelial     Fn1           Itga9           OPC            12.06068 \n",
       "4  OPC             Cntn4         Ptprg           Endothelial    13.86337 \n",
       "5  Endothelial     Fn1           Itga4           InhibNeuron    11.40433 \n",
       "6  AstroSub1       Sema6d        Kdr             Endothelial    11.50619 \n",
       "7  AstroSub1       Serpine2      Lrp1            AstroSub1      12.90163 \n",
       "8  Microglia2      Grn           Sort1           ExcitNeuron    11.79093 \n",
       "9  Mossy           Alcam         Nrp1            ExcitNeuron    13.77178 \n",
       "10 Microglia2      Apoe          Lrp1            Microglia2     14.18799 \n",
       "11 Endothelial     Bsg           Slc16a1         Endothelial    14.50880 \n",
       "   logmean.2 pval.expr  logfc      mean.1     mean.2      ⋯ diff       \n",
       "1  10.92617  0.01051795  0.9376165 0.05292188 0.017769772 ⋯  0.03515211\n",
       "2  12.84870  0.01508203  0.9771252 0.05749660 0.019229605 ⋯  0.03826700\n",
       "3  11.15340  0.02966226  0.9072791 0.07844542 0.035189696 ⋯  0.04325572\n",
       "4  12.85220  0.02966226  1.0111667 0.05236548 0.022941609 ⋯  0.02942387\n",
       "5  10.54640  0.04069194  0.8579366 0.04788265 0.018288973 ⋯  0.02959367\n",
       "6  10.73331  0.04091355  0.7728859 0.05802738 0.027641785 ⋯  0.03038560\n",
       "7  11.91969  0.04091355  0.9819370 0.05917645 0.030313809 ⋯  0.02886264\n",
       "8  12.80956  0.04521522 -1.0186319 0.02127172 0.058945179 ⋯ -0.03767346\n",
       "9  10.17094  0.10630254  3.6008405 0.04156125 0.003080552 ⋯  0.03848070\n",
       "10 15.19351  0.13732286 -1.0055186 0.00917800 0.040371595 ⋯ -0.03119359\n",
       "11 14.20122  0.44328852  0.3075758 0.14534394 0.087796628 ⋯  0.05754732\n",
       "   frac.ligand.1 frac.ligand.2 frac.receptor.1 frac.receptor.2\n",
       "1  0.7990287     0.6550944     0.4131500       0.2522417      \n",
       "2  0.8228890     0.8810916     0.9185865       0.7955706      \n",
       "3  0.5861382     0.5798906     0.4961225       0.3360434      \n",
       "4  0.6977521     0.7263497     0.9185865       0.7955706      \n",
       "5  0.5861382     0.5798906     0.4131500       0.2522417      \n",
       "6  0.3245737     0.1269493     0.5323128       0.4612398      \n",
       "7  0.5623087     0.3767057     0.5122158       0.4851365      \n",
       "8  0.9028883     0.8064563     0.3640703       0.3989162      \n",
       "9  0.4523810     0.1562500     0.2610810       0.1656959      \n",
       "10 0.9865057     0.9543210     0.5283617       0.5844419      \n",
       "11 0.9707785     0.9714286     0.4189688       0.3905405      \n",
       "   frac.ligand.higher frac.receptor.higher spec.higher expr.higher Treatment\n",
       "1  0.7990287          0.4131500            0.05292188  11.86379    FT       \n",
       "2  0.8228890          0.9185865            0.05749660  13.82583    FT       \n",
       "3  0.5861382          0.4961225            0.07844542  12.06068    FT       \n",
       "4  0.6977521          0.9185865            0.05236548  13.86337    FT       \n",
       "5  0.5861382          0.4131500            0.04788265  11.40433    FT       \n",
       "6  0.3245737          0.5323128            0.05802738  11.50619    FT       \n",
       "7  0.5623087          0.5122158            0.05917645  12.90163    FT       \n",
       "8  0.8064563          0.3989162            0.05894518  12.80956    Sham     \n",
       "9  0.4523810          0.2610810            0.04156125  13.77178    FT       \n",
       "10 0.9543210          0.5844419            0.04037159  15.19351    Sham     \n",
       "11 0.9707785          0.4189688            0.14534394  14.50880    FT       "
      ]
     },
     "metadata": {},
     "output_type": "display_data"
    }
   ],
   "source": [
    "pval.th <- 0.05\n",
    "spec.higher.th <- 0.04\n",
    "spec.higher.th2 <- spec.higher.th/2\n",
    "spec.diff.th <- 0.025\n",
    "\n",
    "joined.f <- joined %>%\n",
    "    filter(sign(logfc) == sign(diff)) %>%\n",
    "    mutate(frac.ligand.higher = ifelse(logfc > 0, frac.ligand.1, frac.ligand.2), frac.receptor.higher = ifelse(logfc > 0, frac.receptor.1, frac.receptor.2)) %>%\n",
    "    filter(frac.ligand.higher > 0.1, frac.receptor.higher > 0.1) %>%\n",
    "    mutate(spec.higher = ifelse(logfc > 0, mean.1, mean.2), expr.higher = ifelse(logfc > 0, logmean.1, logmean.2), Treatment = ifelse(logfc > 0, 'FT', 'Sham')) %>%\n",
    "    filter(abs(diff) > spec.diff.th & spec.higher > spec.higher.th) %>%    \n",
    "    filter(pval.expr < pval.th | pval.spec < pval.th) %>%\n",
    "    arrange(pval.expr)\n",
    "\n",
    "joined.f "
   ]
  },
  {
   "cell_type": "markdown",
   "id": "00870ca9-debd-48ed-a184-86360015fb0c",
   "metadata": {},
   "source": [
    "## Visualize results"
   ]
  },
  {
   "cell_type": "markdown",
   "id": "41c389ad-5ef0-49f3-8ae8-b1d49643b2b4",
   "metadata": {},
   "source": [
    "As a volcano plot"
   ]
  },
  {
   "cell_type": "code",
   "execution_count": 8,
   "id": "2f65310d-8c72-4395-9672-16b6fa7b90d7",
   "metadata": {},
   "outputs": [
    {
     "data": {
      "image/png": "[encoded data removed]",
      "text/plain": [
       "plot without title"
      ]
     },
     "metadata": {
      "image/png": {
       "height": 360,
       "width": 600
      }
     },
     "output_type": "display_data"
    }
   ],
   "source": [
    "pval.th <- 0.05\n",
    "spec.higher.th <- 0.05\n",
    "spec.higher.th2 <- 0\n",
    "spec.diff.th <- 0.03\n",
    "\n",
    "p0 <- joined %>%\n",
    "    filter(sign(logfc) == sign(diff)) %>%\n",
    "    #filter(mean.1 > spec.higher.th2 | mean.2 > spec.higher.th2) %>%\n",
    "    mutate(frac.ligand.higher = ifelse(logfc > 0, frac.ligand.1, frac.ligand.2), frac.receptor.higher = ifelse(logfc > 0, frac.receptor.1, frac.receptor.2)) %>%\n",
    "    filter(frac.ligand.higher > 0.1, frac.receptor.higher > 0.1) %>%\n",
    "    filter(pval.expr < pval.th | pval.spec < pval.th) %>%\n",
    "    mutate(spec.higher = ifelse(logfc > 0, mean.1, mean.2), expr.higher = ifelse(logfc > 0, logmean.1, logmean.2)) %>%\n",
    "    mutate(label1 = ifelse(\n",
    "        ((pval.expr < pval.th & abs(diff) > spec.diff.th & spec.higher > spec.higher.th) | (pval.spec < pval.th & abs(diff) > spec.diff.th & spec.higher > spec.higher.th)) & logfc < 0  , \n",
    "        paste0(Sending.cluster, \"->\", Target.cluster, ':', Ligand.symbol, \"->\", Receptor.symbol), \"\")) %>%\n",
    "    mutate(label2 = ifelse(\n",
    "        ((pval.expr < pval.th & abs(diff) > spec.diff.th & spec.higher > spec.higher.th) | (pval.spec < pval.th & abs(diff) > spec.diff.th & spec.higher > spec.higher.th)) & logfc > 0  , \n",
    "        paste0(Sending.cluster, \"->\", Target.cluster, ':', Ligand.symbol, \"->\", Receptor.symbol), \"\")) \n",
    "\n",
    "options(repr.plot.width = 10, repr.plot.height = 6)\n",
    "p <- ggplot(p0, aes(x = diff, y = spec.higher, size = -log10(pval.expr))) +\n",
    "    geom_point(aes(color = -log10(pval.spec))) + \n",
    "    scale_color_gradient2(low = \"#fdbe85\", high = \"#a63603\") + \n",
    "    theme_classic(base_size = 16) +\n",
    "    geom_text_repel(data = p0 %>% filter(label1 != \"\"), \n",
    "        aes(label = label1), \n",
    "        size = 4, \n",
    "        force = 10, \n",
    "        hjust = 1, \n",
    "        direction = 'y', \n",
    "        nudge_x = -0.1, \n",
    "        nudge_y = 0.001, \n",
    "        segment.size = 0.2, \n",
    "        max.overlaps = 100\n",
    "    ) +\n",
    "    geom_text_repel(data = p0 %>% filter(label2 != \"\"), \n",
    "        aes(label = label2), \n",
    "        size = 4, \n",
    "        force = 10, \n",
    "        hjust = 1, \n",
    "        direction = 'y', \n",
    "        nudge_x = 0.1, \n",
    "        nudge_y = 0.005, \n",
    "        segment.size = 0.2, \n",
    "        max.overlaps = 100\n",
    "    ) +\n",
    "    geom_vline(aes(xintercept = spec.diff.th), linetype = 'dashed') +\n",
    "    geom_vline(aes(xintercept = -spec.diff.th), linetype = 'dashed') +\n",
    "    geom_hline(aes(yintercept = spec.higher.th), linetype = 'dashed') +\n",
    "    lims(x = c(-0.06, 0.06)) +\n",
    "    labs(x = 'Difference in mean specificity score', y = 'Higher mean specificity score')\n",
    "\n",
    "ggsave(filename = \"../processed_data/211116_natmi_figures/NATMI-venDG.volcano.pdf\", \n",
    "    plot = p, width = 10, height = 7.5)\n",
    "\n",
    "p"
   ]
  },
  {
   "cell_type": "markdown",
   "id": "ab958602-3eaa-456f-ba5b-dfdddda1089b",
   "metadata": {},
   "source": [
    "## Plot top ligands"
   ]
  },
  {
   "cell_type": "code",
   "execution_count": 9,
   "id": "537bb0e1-a73e-4ed1-8ffe-69ec46a627b1",
   "metadata": {},
   "outputs": [],
   "source": [
    "cts <- c('ExcitNeuron', 'InhibNeuron', 'Granule', 'Mossy', \n",
    "         'Oligodend1', 'Oligodend2', 'OPC', 'BergGlia', \n",
    "         'AstroSub1', 'Microglia1', 'Microglia2', 'Endothelial')"
   ]
  },
  {
   "cell_type": "code",
   "execution_count": 10,
   "id": "0da84af2-7fa3-4cab-b7f5-db5c45cde37b",
   "metadata": {},
   "outputs": [],
   "source": [
    "makeLogfc <- function(ligand, receptor){\n",
    "    mat <- joined %>% filter(Ligand.symbol == ligand, Receptor.symbol == receptor) %>%\n",
    "        select(Sending.cluster, Target.cluster, logfc) %>%\n",
    "        pivot_wider(names_from = Target.cluster, values_from = logfc) %>%\n",
    "        tibble::column_to_rownames(\"Sending.cluster\")\n",
    "    mat <- as.matrix(mat)\n",
    "    mat <- mat[match(cts, row.names(mat)), match(cts, colnames(mat))]\n",
    "    row.names(mat) <- cts\n",
    "    colnames(mat) <- cts\n",
    "    mat[is.na(mat)] <- 0\n",
    "    return(mat)\n",
    "}\n",
    "\n",
    "makePvalExpr <- function(ligand, receptor){\n",
    "    mat <- joined %>% filter(Ligand.symbol == ligand, Receptor.symbol == receptor) %>%\n",
    "        select(Sending.cluster, Target.cluster, pval.expr) %>%\n",
    "        pivot_wider(names_from = Target.cluster, values_from = pval.expr) %>%\n",
    "        tibble::column_to_rownames(\"Sending.cluster\")\n",
    "    mat <- as.matrix(mat)\n",
    "    mat <- mat[match(cts, row.names(mat)), match(cts, colnames(mat))]\n",
    "    row.names(mat) <- cts\n",
    "    colnames(mat) <- cts\n",
    "    mat[is.na(mat)] <- 1\n",
    "    return(mat)\n",
    "}\n",
    "\n",
    "makeDiff <- function(ligand, receptor){\n",
    "    mat <- joined %>% filter(Ligand.symbol == ligand, Receptor.symbol == receptor) %>%\n",
    "        select(Sending.cluster, Target.cluster, diff) %>%\n",
    "        pivot_wider(names_from = Target.cluster, values_from = diff) %>%\n",
    "        tibble::column_to_rownames(\"Sending.cluster\")\n",
    "    mat <- as.matrix(mat)\n",
    "    mat <- mat[match(cts, row.names(mat)), match(cts, colnames(mat))]\n",
    "    row.names(mat) <- cts\n",
    "    colnames(mat) <- cts\n",
    "    mat[is.na(mat)] <- 0\n",
    "    return(mat)\n",
    "}\n",
    "\n",
    "makePvalSpec <- function(ligand, receptor){\n",
    "    mat <- joined %>% filter(Ligand.symbol == ligand, Receptor.symbol == receptor) %>%\n",
    "        select(Sending.cluster, Target.cluster, pval.spec) %>%\n",
    "        pivot_wider(names_from = Target.cluster, values_from = pval.spec) %>%\n",
    "        tibble::column_to_rownames(\"Sending.cluster\")\n",
    "    mat <- as.matrix(mat)\n",
    "    mat <- mat[match(cts, row.names(mat)), match(cts, colnames(mat))]\n",
    "    row.names(mat) <- cts\n",
    "    colnames(mat) <- cts\n",
    "    mat[is.na(mat)] <- 1\n",
    "    return(mat)\n",
    "}\n",
    "\n",
    "makeFracFilter <- function(ligand, receptor){\n",
    "    mat <- joined %>% filter(Ligand.symbol == ligand, Receptor.symbol == receptor) %>%\n",
    "        mutate(frac.ligand.higher = ifelse(logfc > 0, frac.ligand.1, frac.ligand.2), frac.receptor.higher = ifelse(logfc > 0, frac.receptor.1, frac.receptor.2)) %>%\n",
    "        mutate(frac.filter = frac.ligand.higher > 0.1 & frac.receptor.higher > 0.1) %>%\n",
    "        select(Sending.cluster, Target.cluster, frac.filter) %>%\n",
    "        pivot_wider(names_from = Target.cluster, values_from = frac.filter) %>%\n",
    "        tibble::column_to_rownames(\"Sending.cluster\")\n",
    "    mat <- as.matrix(mat)\n",
    "    mat <- mat[match(cts, row.names(mat)), match(cts, colnames(mat))]\n",
    "    row.names(mat) <- cts\n",
    "    colnames(mat) <- cts\n",
    "    mat[is.na(mat)] <- F\n",
    "    return(mat)\n",
    "}"
   ]
  },
  {
   "cell_type": "code",
   "execution_count": 11,
   "id": "457195bc-e7e0-4d72-98b3-eaead2d982ee",
   "metadata": {},
   "outputs": [
    {
     "data": {
      "text/html": [
       "<style>\n",
       ".list-inline {list-style: none; margin:0; padding: 0}\n",
       ".list-inline>li {display: inline-block}\n",
       ".list-inline>li:not(:last-child)::after {content: \"\\00b7\"; padding: 0 .5ex}\n",
       "</style>\n",
       "<ol class=list-inline><li>6</li><li>21</li><li>6</li><li>2</li></ol>\n"
      ],
      "text/latex": [
       "\\begin{enumerate*}\n",
       "\\item 6\n",
       "\\item 21\n",
       "\\item 6\n",
       "\\item 2\n",
       "\\end{enumerate*}\n"
      ],
      "text/markdown": [
       "1. 6\n",
       "2. 21\n",
       "3. 6\n",
       "4. 2\n",
       "\n",
       "\n"
      ],
      "text/plain": [
       "[1]  6 21  6  2"
      ]
     },
     "metadata": {},
     "output_type": "display_data"
    }
   ],
   "source": [
    "joined.f <- joined %>%\n",
    "    filter(sign(logfc) == sign(diff)) %>%\n",
    "    mutate(frac.ligand.higher = ifelse(logfc > 0, frac.ligand.1, frac.ligand.2), frac.receptor.higher = ifelse(logfc > 0, frac.receptor.1, frac.receptor.2)) %>%\n",
    "    filter(frac.ligand.higher > 0.1, frac.receptor.higher > 0.1) %>%\n",
    "    mutate(spec.higher = ifelse(logfc > 0, mean.1, mean.2), expr.higher = ifelse(logfc > 0, logmean.1, logmean.2), Treatment = ifelse(logfc > 0, 'FT', 'Sham')) %>%\n",
    "    filter(abs(diff) > spec.diff.th & spec.higher > spec.higher.th) %>%    \n",
    "    filter(pval.expr < pval.th | pval.spec < pval.th) %>%\n",
    "    arrange(pval.expr)\n",
    "top.lrs <- joined.f %>% distinct(Ligand.symbol, Receptor.symbol)\n",
    "c(dim(joined.f), dim(top.lrs))"
   ]
  },
  {
   "cell_type": "code",
   "execution_count": 12,
   "id": "07314ae5-bdda-4ed8-b48d-072d2ea52aa6",
   "metadata": {},
   "outputs": [],
   "source": [
    "write.csv(joined.f, file = \"../processed_data/211116_natmi_figures/NATMI-venDG.top_hits.csv\")"
   ]
  },
  {
   "cell_type": "code",
   "execution_count": 20,
   "id": "06329693-4cea-4471-a9ca-3c8ba4e49fe9",
   "metadata": {},
   "outputs": [
    {
     "data": {
      "text/html": [
       "<strong>png:</strong> 2"
      ],
      "text/latex": [
       "\\textbf{png:} 2"
      ],
      "text/markdown": [
       "**png:** 2"
      ],
      "text/plain": [
       "png \n",
       "  2 "
      ]
     },
     "metadata": {},
     "output_type": "display_data"
    }
   ],
   "source": [
    "ligands <- top.lrs$Ligand.symbol[6:6]\n",
    "receptors <- top.lrs$Receptor.symbol[6:6]\n",
    "lrs <- paste0(ligands, '->', receptors)\n",
    "lrs <- factor(rep(lrs, each = length(cts)), levels = lrs)\n",
    "\n",
    "logfc <- do.call(rbind, mapply(makeLogfc, ligands, receptors, SIMPLIFY = F))\n",
    "pval.expr <- -log10(do.call(rbind, mapply(makePvalExpr, ligands, receptors, SIMPLIFY = F)))\n",
    "diff <- do.call(rbind, mapply(makeDiff, ligands, receptors, SIMPLIFY = F))\n",
    "pval.spec <- -log10(do.call(rbind, mapply(makePvalSpec, ligands, receptors, SIMPLIFY = F)))\n",
    "frac.filter <- do.call(rbind, mapply(makeFracFilter, ligands, receptors, SIMPLIFY = F))\n",
    "\n",
    "cm <- cividis(3)\n",
    "\n",
    "col_fun = colorRamp2(c(-2, 0, 2), cm)\n",
    "hm.expr <- Heatmap(logfc, cluster_rows = F, cluster_columns = F, \n",
    "    cluster_row_slices = F, row_names_side = 'left', \n",
    "    cluster_column_slices = F, column_names_side = 'top',\n",
    "    rect_gp = gpar(type = \"none\"),\n",
    "    cell_fun = function(j, i, x, y, width, height, fill) {\n",
    "        grid.rect(x = x, y = y, width = width, height = height, \n",
    "            gp = gpar(col = \"lightgrey\", fill = NA))        \n",
    "        grid.circle(x = x, y = y, r = 0.5 * pval.expr[i,j]/2.5 * unit(5, \"mm\"), \n",
    "        gp = gpar(col = NA, fill = ifelse(frac.filter[i,j], col_fun(logfc[i,j]), 'white')))           \n",
    "    },     \n",
    "    height = unit(5, \"mm\") * length(lrs), \n",
    "    width = unit(5, \"mm\") * length(cts),                    \n",
    "    col = col_fun, column_title = 'Log difference in\\n mean expression score', \n",
    "    name = 'Log difference in\\n mean expression score',\n",
    "    row_split = lrs)\n",
    "\n",
    "col_fun2 = colorRamp2(c(-0.02, 0, 0.02), cm)\n",
    "hm.spec <- Heatmap(diff, cluster_rows = F, cluster_columns = F, \n",
    "    cluster_row_slices = F, row_names_side = 'left', \n",
    "    cluster_column_slices = F, column_names_side = 'top',\n",
    "    rect_gp = gpar(type = \"none\"),\n",
    "    cell_fun = function(j, i, x, y, width, height, fill) {\n",
    "        grid.rect(x = x, y = y, width = width, height = height, \n",
    "            gp = gpar(col = \"lightgrey\", fill = NA))        \n",
    "        grid.circle(x = x, y = y, r = 0.5 * pval.spec[i,j]/2.5 * unit(5, \"mm\"), \n",
    "        gp = gpar(col = NA, fill = ifelse(frac.filter[i,j], col_fun2(diff[i,j]), 'white')))           \n",
    "    },      \n",
    "    col = col_fun2, column_title = 'Difference in\\n mean specificity score', \n",
    "    height = unit(5, \"mm\") * length(lrs), \n",
    "    width = unit(5, \"mm\") * length(cts),     \n",
    "    name = 'Difference in\\n mean specificity score',\n",
    "    row_split = lrs\n",
    ")\n",
    "\n",
    "lgd <- Legend(labels = c(0.5, 1, 2),\n",
    "           title = \"-log10 p-value\",\n",
    "           graphics = list(\n",
    "              function(x, y, w, h) grid.circle(x, y, \n",
    "                                               r=0.5 * 0.5/2.5 * unit(5, \"mm\"),\n",
    "                                               gp=gpar(fill=\"black\")),\n",
    "              function(x, y, w, h) grid.circle(x, y, \n",
    "                                               r=0.5 * 1/2.5 * unit(5, \"mm\"),\n",
    "                                               gp=gpar(fill=\"black\")),\n",
    "              function(x, y, w, h) grid.circle(x, y, \n",
    "                                               r=0.5 * 2/2.5 * unit(5, \"mm\"),\n",
    "                                               gp=gpar(fill=\"black\"))\n",
    "           ))\n",
    "\n",
    "ht_list <- hm.expr + hm.spec\n",
    "\n",
    "pdf(file = \"../processed_data/211116_natmi_figures/NATMI-venDG.dotplot-2.pdf\",\n",
    "    width = 10, height = 15)\n",
    "draw(ht_list, ht_gap = unit(5, \"mm\"), row_gap = unit(5, \"mm\"), \n",
    "     merge_legend = T, annotation_legend_list = list(lgd), \n",
    "     row_title = 'Sender', column_title = '               Receiver', \n",
    "     column_title_gp = gpar(fontsize = 16), row_title_gp = gpar(fontsize = 16))\n",
    "dev.off()"
   ]
  },
  {
   "cell_type": "code",
   "execution_count": null,
   "id": "69905854-1ff6-4df3-a017-e3336145e70a",
   "metadata": {},
   "outputs": [],
   "source": []
  }
 ],
 "metadata": {
  "kernelspec": {
   "display_name": "R",
   "language": "R",
   "name": "ir"
  },
  "language_info": {
   "codemirror_mode": "r",
   "file_extension": ".r",
   "mimetype": "text/x-r-source",
   "name": "R",
   "pygments_lexer": "r",
   "version": "4.1.0"
  }
 },
 "nbformat": 4,
 "nbformat_minor": 5
}
