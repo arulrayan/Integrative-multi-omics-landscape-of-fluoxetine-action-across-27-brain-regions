{
 "cells": [
  {
   "cell_type": "markdown",
   "id": "261d6f07-9e02-44ae-9e93-45c0c85d4842",
   "metadata": {},
   "source": [
    "Rerun NATMI with outliers removed"
   ]
  },
  {
   "cell_type": "code",
   "execution_count": 1,
   "id": "ef5ca0bd-cb6d-472a-8446-a0bd7a835bd2",
   "metadata": {
    "scrolled": true,
    "tags": []
   },
   "outputs": [
    {
     "name": "stderr",
     "output_type": "stream",
     "text": [
      "Attaching SeuratObject\n",
      "\n",
      "\n",
      "Attaching package: ‘dplyr’\n",
      "\n",
      "\n",
      "The following objects are masked from ‘package:stats’:\n",
      "\n",
      "    filter, lag\n",
      "\n",
      "\n",
      "The following objects are masked from ‘package:base’:\n",
      "\n",
      "    intersect, setdiff, setequal, union\n",
      "\n",
      "\n",
      "\n",
      "Attaching package: ‘gridExtra’\n",
      "\n",
      "\n",
      "The following object is masked from ‘package:dplyr’:\n",
      "\n",
      "    combine\n",
      "\n",
      "\n",
      "Loading required package: viridisLite\n",
      "\n",
      "Loading required package: grid\n",
      "\n",
      "========================================\n",
      "ComplexHeatmap version 2.8.0\n",
      "Bioconductor page: http://bioconductor.org/packages/ComplexHeatmap/\n",
      "Github page: https://github.com/jokergoo/ComplexHeatmap\n",
      "Documentation: http://jokergoo.github.io/ComplexHeatmap-reference\n",
      "\n",
      "If you use it in published research, please cite:\n",
      "Gu, Z. Complex heatmaps reveal patterns and correlations in multidimensional \n",
      "  genomic data. Bioinformatics 2016.\n",
      "\n",
      "The new InteractiveComplexHeatmap package can directly export static \n",
      "complex heatmaps into an interactive Shiny app with zero effort. Have a try!\n",
      "\n",
      "This message can be suppressed by:\n",
      "  suppressPackageStartupMessages(library(ComplexHeatmap))\n",
      "========================================\n",
      "\n",
      "\n",
      "========================================\n",
      "circlize version 0.4.13\n",
      "CRAN page: https://cran.r-project.org/package=circlize\n",
      "Github page: https://github.com/jokergoo/circlize\n",
      "Documentation: https://jokergoo.github.io/circlize_book/book/\n",
      "\n",
      "If you use it in published research, please cite:\n",
      "Gu, Z. circlize implements and enhances circular visualization\n",
      "  in R. Bioinformatics 2014.\n",
      "\n",
      "This message can be suppressed by:\n",
      "  suppressPackageStartupMessages(library(circlize))\n",
      "========================================\n",
      "\n",
      "\n"
     ]
    }
   ],
   "source": [
    "library(Seurat)\n",
    "\n",
    "library(dplyr)\n",
    "library(tidyr)\n",
    "library(stringr)\n",
    "library(readxl)\n",
    "\n",
    "library(ggplot2)\n",
    "library(gridExtra)\n",
    "library(ggpubr)\n",
    "library(viridis)\n",
    "library(ComplexHeatmap)\n",
    "library(circlize)\n",
    "library(ggrepel)"
   ]
  },
  {
   "cell_type": "code",
   "execution_count": 2,
   "id": "fd698388-d8b1-4ea6-89a5-ba37d706777b",
   "metadata": {
    "scrolled": true,
    "tags": []
   },
   "outputs": [
    {
     "data": {
      "text/plain": [
       "R version 4.1.0 (2021-05-18)\n",
       "Platform: x86_64-conda-linux-gnu (64-bit)\n",
       "Running under: Ubuntu 18.04.1 LTS\n",
       "\n",
       "Matrix products: default\n",
       "BLAS/LAPACK: /mnt/volume1/env/miniconda3/envs/r4.1.0/lib/libopenblasp-r0.3.15.so\n",
       "\n",
       "locale:\n",
       " [1] LC_CTYPE=C.UTF-8       LC_NUMERIC=C           LC_TIME=C.UTF-8       \n",
       " [4] LC_COLLATE=C.UTF-8     LC_MONETARY=C.UTF-8    LC_MESSAGES=C.UTF-8   \n",
       " [7] LC_PAPER=C.UTF-8       LC_NAME=C              LC_ADDRESS=C          \n",
       "[10] LC_TELEPHONE=C         LC_MEASUREMENT=C.UTF-8 LC_IDENTIFICATION=C   \n",
       "\n",
       "attached base packages:\n",
       "[1] grid      stats     graphics  grDevices utils     datasets  methods  \n",
       "[8] base     \n",
       "\n",
       "other attached packages:\n",
       " [1] ggrepel_0.9.1        circlize_0.4.13      ComplexHeatmap_2.8.0\n",
       " [4] viridis_0.6.1        viridisLite_0.4.0    ggpubr_0.4.0        \n",
       " [7] gridExtra_2.3        ggplot2_3.3.5        readxl_1.3.1        \n",
       "[10] stringr_1.4.0        tidyr_1.1.3          dplyr_1.0.7         \n",
       "[13] SeuratObject_4.0.2   Seurat_4.0.3        \n",
       "\n",
       "loaded via a namespace (and not attached):\n",
       "  [1] uuid_0.1-4            backports_1.2.1       plyr_1.8.6           \n",
       "  [4] igraph_1.2.6          repr_1.1.3            lazyeval_0.2.2       \n",
       "  [7] splines_4.1.0         listenv_0.8.0         scattermore_0.7      \n",
       " [10] digest_0.6.27         foreach_1.5.1         htmltools_0.5.1.1    \n",
       " [13] fansi_0.5.0           magrittr_2.0.1        tensor_1.5           \n",
       " [16] cluster_2.1.2         doParallel_1.0.16     ROCR_1.0-11          \n",
       " [19] openxlsx_4.2.4        globals_0.14.0        matrixStats_0.59.0   \n",
       " [22] spatstat.sparse_2.0-0 colorspace_2.0-2      haven_2.4.1          \n",
       " [25] crayon_1.4.1          jsonlite_1.7.2        spatstat.data_2.1-0  \n",
       " [28] survival_3.2-11       zoo_1.8-9             iterators_1.0.13     \n",
       " [31] glue_1.4.2            polyclip_1.10-0       gtable_0.3.0         \n",
       " [34] leiden_0.3.8          GetoptLong_1.0.5      car_3.0-11           \n",
       " [37] shape_1.4.6           future.apply_1.7.0    BiocGenerics_0.38.0  \n",
       " [40] abind_1.4-5           scales_1.1.1          DBI_1.1.1            \n",
       " [43] rstatix_0.7.0         miniUI_0.1.1.1        Rcpp_1.0.7           \n",
       " [46] xtable_1.8-4          clue_0.3-59           reticulate_1.20      \n",
       " [49] spatstat.core_2.2-0   foreign_0.8-81        stats4_4.1.0         \n",
       " [52] htmlwidgets_1.5.3     httr_1.4.2            RColorBrewer_1.1-2   \n",
       " [55] ellipsis_0.3.2        ica_1.0-2             pkgconfig_2.0.3      \n",
       " [58] uwot_0.1.10           deldir_0.2-10         utf8_1.2.1           \n",
       " [61] tidyselect_1.1.1      rlang_0.4.11          reshape2_1.4.4       \n",
       " [64] later_1.2.0           munsell_0.5.0         cellranger_1.1.0     \n",
       " [67] tools_4.1.0           generics_0.1.0        broom_0.7.9          \n",
       " [70] ggridges_0.5.3        evaluate_0.14         fastmap_1.1.0        \n",
       " [73] goftest_1.2-2         fitdistrplus_1.1-5    zip_2.2.0            \n",
       " [76] purrr_0.3.4           RANN_2.6.1            pbapply_1.4-3        \n",
       " [79] future_1.21.0         nlme_3.1-152          mime_0.11            \n",
       " [82] compiler_4.1.0        plotly_4.9.4.1        curl_4.3.2           \n",
       " [85] png_0.1-7             ggsignif_0.6.2        spatstat.utils_2.2-0 \n",
       " [88] tibble_3.1.2          stringi_1.7.2         forcats_0.5.1        \n",
       " [91] lattice_0.20-44       IRdisplay_1.0         Matrix_1.3-4         \n",
       " [94] vctrs_0.3.8           pillar_1.6.1          lifecycle_1.0.0      \n",
       " [97] spatstat.geom_2.2-0   lmtest_0.9-38         GlobalOptions_0.1.2  \n",
       "[100] RcppAnnoy_0.0.18      data.table_1.14.0     cowplot_1.1.1        \n",
       "[103] irlba_2.3.3           httpuv_1.6.1          patchwork_1.1.1      \n",
       "[106] R6_2.5.0              promises_1.2.0.1      KernSmooth_2.23-20   \n",
       "[109] rio_0.5.27            IRanges_2.26.0        parallelly_1.26.1    \n",
       "[112] codetools_0.2-18      MASS_7.3-54           assertthat_0.2.1     \n",
       "[115] rjson_0.2.20          withr_2.4.2           sctransform_0.3.2    \n",
       "[118] S4Vectors_0.30.0      mgcv_1.8-36           parallel_4.1.0       \n",
       "[121] hms_1.1.0             rpart_4.1-15          IRkernel_1.2         \n",
       "[124] carData_3.0-4         Cairo_1.5-12.2        Rtsne_0.15           \n",
       "[127] pbdZMQ_0.3-5          shiny_1.6.0           base64enc_0.1-3      "
      ]
     },
     "metadata": {},
     "output_type": "display_data"
    }
   ],
   "source": [
    "sessionInfo()"
   ]
  },
  {
   "cell_type": "markdown",
   "id": "ebeda167-074b-48b0-af25-171252297f5d",
   "metadata": {},
   "source": [
    "# Load data"
   ]
  },
  {
   "cell_type": "code",
   "execution_count": 3,
   "id": "45758333-df01-4d23-ae15-26bad83ad02d",
   "metadata": {},
   "outputs": [],
   "source": [
    "sc <- readRDS(\"../data/dorDG2021outlierrem_seurat.RDS\")"
   ]
  },
  {
   "cell_type": "code",
   "execution_count": 4,
   "id": "5c536866-b4e1-4907-a5ea-0d4b0cb4c3df",
   "metadata": {},
   "outputs": [
    {
     "data": {
      "text/html": [
       "<table class=\"dataframe\">\n",
       "<caption>A tibble: 2 × 2</caption>\n",
       "<thead>\n",
       "\t<tr><th scope=col>Treatment</th><th scope=col>n</th></tr>\n",
       "\t<tr><th scope=col>&lt;chr&gt;</th><th scope=col>&lt;int&gt;</th></tr>\n",
       "</thead>\n",
       "<tbody>\n",
       "\t<tr><td>FT  </td><td>6</td></tr>\n",
       "\t<tr><td>Sham</td><td>7</td></tr>\n",
       "</tbody>\n",
       "</table>\n"
      ],
      "text/latex": [
       "A tibble: 2 × 2\n",
       "\\begin{tabular}{ll}\n",
       " Treatment & n\\\\\n",
       " <chr> & <int>\\\\\n",
       "\\hline\n",
       "\t FT   & 6\\\\\n",
       "\t Sham & 7\\\\\n",
       "\\end{tabular}\n"
      ],
      "text/markdown": [
       "\n",
       "A tibble: 2 × 2\n",
       "\n",
       "| Treatment &lt;chr&gt; | n &lt;int&gt; |\n",
       "|---|---|\n",
       "| FT   | 6 |\n",
       "| Sham | 7 |\n",
       "\n"
      ],
      "text/plain": [
       "  Treatment n\n",
       "1 FT        6\n",
       "2 Sham      7"
      ]
     },
     "metadata": {},
     "output_type": "display_data"
    }
   ],
   "source": [
    "sc@meta.data %>% distinct(Treatment, MUXid) %>% group_by(Treatment) %>% tally()"
   ]
  },
  {
   "cell_type": "code",
   "execution_count": 5,
   "id": "974d280f-1274-4eef-909e-6585f121cca2",
   "metadata": {},
   "outputs": [
    {
     "data": {
      "text/plain": [
       "      \n",
       "       MUX6490 MUX6493 MUX6495 MUX6497 MUX6499 MUX6501 MUX6503 MUX6505 MUX6507\n",
       "  FT         0     120       0      23       0      86       0      58       0\n",
       "  Sham      98       0     132       0      52       0      30       0      97\n",
       "      \n",
       "       MUX6510 MUX6512 MUX6514 MUX6516\n",
       "  FT         0     128       0      99\n",
       "  Sham     119       0     115       0"
      ]
     },
     "metadata": {},
     "output_type": "display_data"
    }
   ],
   "source": [
    "table(sc@meta.data$Treatment, sc@meta.data$MUXid)"
   ]
  },
  {
   "cell_type": "code",
   "execution_count": 6,
   "id": "028e8f47-47b3-4191-ade3-30ec20f02b67",
   "metadata": {},
   "outputs": [
    {
     "data": {
      "text/plain": [
       "             \n",
       "              MUX6490 MUX6493 MUX6495 MUX6497 MUX6499 MUX6501 MUX6503 MUX6505\n",
       "  AstroSub1         4       6      21       4       1      10       4       6\n",
       "  BergGlia          3       5       4       0       1      13       1       1\n",
       "  Endothelial      17      20       9       4       0       0       0       0\n",
       "  ExcitNeuron       0       2       6       1       0       4       0      22\n",
       "  Granule           1       5       8       4       0       4       0      19\n",
       "  InhibNeuron       1       7      46       7       0       5       0       0\n",
       "  Microglia1       15      14       1       0      14       0       0       0\n",
       "  Microglia2       13      18       1       0       6      10       1       7\n",
       "  Mossy             5       9       4       2       4      15       1       2\n",
       "  Oligodend1       11      10      28       0       7       0      16       0\n",
       "  Oligodend2       12      11       0       0      17      13       1       0\n",
       "  OPC              16      13       4       1       2      12       6       1\n",
       "             \n",
       "              MUX6507 MUX6510 MUX6512 MUX6514 MUX6516\n",
       "  AstroSub1         0      15      11      13      12\n",
       "  BergGlia          0       6       0       3       4\n",
       "  Endothelial      12      32      24      13       7\n",
       "  ExcitNeuron       5       9       0       4       1\n",
       "  Granule          10      13       9       6       5\n",
       "  InhibNeuron      31       0       4      26       4\n",
       "  Microglia1        6      11      16      12      11\n",
       "  Microglia2       11       7      11       6      12\n",
       "  Mossy             0       8      12       0       9\n",
       "  Oligodend1       11      10      15      24      14\n",
       "  Oligodend2        9       4      12       3      13\n",
       "  OPC               2       4      14       5       7"
      ]
     },
     "metadata": {},
     "output_type": "display_data"
    }
   ],
   "source": [
    "table(sc@meta.data$IntSeuratSubCfinal, sc@meta.data$MUXid)"
   ]
  },
  {
   "cell_type": "markdown",
   "id": "7a385a41-9fa7-41c4-a526-df9a7156bf3c",
   "metadata": {},
   "source": [
    "Make NATMI input"
   ]
  },
  {
   "cell_type": "code",
   "execution_count": 6,
   "id": "dcefbc3b-57ee-4dc4-873c-c0343519ce07",
   "metadata": {},
   "outputs": [
    {
     "data": {
      "text/html": [
       "<ol>\n",
       "\t<li>NULL</li>\n",
       "\t<li>NULL</li>\n",
       "\t<li>NULL</li>\n",
       "\t<li>NULL</li>\n",
       "\t<li>NULL</li>\n",
       "\t<li>NULL</li>\n",
       "\t<li>NULL</li>\n",
       "\t<li>NULL</li>\n",
       "\t<li>NULL</li>\n",
       "\t<li>NULL</li>\n",
       "\t<li>NULL</li>\n",
       "\t<li>NULL</li>\n",
       "\t<li>NULL</li>\n",
       "</ol>\n"
      ],
      "text/latex": [
       "\\begin{enumerate}\n",
       "\\item NULL\n",
       "\\item NULL\n",
       "\\item NULL\n",
       "\\item NULL\n",
       "\\item NULL\n",
       "\\item NULL\n",
       "\\item NULL\n",
       "\\item NULL\n",
       "\\item NULL\n",
       "\\item NULL\n",
       "\\item NULL\n",
       "\\item NULL\n",
       "\\item NULL\n",
       "\\end{enumerate}\n"
      ],
      "text/markdown": [
       "1. NULL\n",
       "2. NULL\n",
       "3. NULL\n",
       "4. NULL\n",
       "5. NULL\n",
       "6. NULL\n",
       "7. NULL\n",
       "8. NULL\n",
       "9. NULL\n",
       "10. NULL\n",
       "11. NULL\n",
       "12. NULL\n",
       "13. NULL\n",
       "\n",
       "\n"
      ],
      "text/plain": [
       "[[1]]\n",
       "NULL\n",
       "\n",
       "[[2]]\n",
       "NULL\n",
       "\n",
       "[[3]]\n",
       "NULL\n",
       "\n",
       "[[4]]\n",
       "NULL\n",
       "\n",
       "[[5]]\n",
       "NULL\n",
       "\n",
       "[[6]]\n",
       "NULL\n",
       "\n",
       "[[7]]\n",
       "NULL\n",
       "\n",
       "[[8]]\n",
       "NULL\n",
       "\n",
       "[[9]]\n",
       "NULL\n",
       "\n",
       "[[10]]\n",
       "NULL\n",
       "\n",
       "[[11]]\n",
       "NULL\n",
       "\n",
       "[[12]]\n",
       "NULL\n",
       "\n",
       "[[13]]\n",
       "NULL\n"
      ]
     },
     "metadata": {},
     "output_type": "display_data"
    }
   ],
   "source": [
    "makeNatmiInput <- function(mux_id){\n",
    "    select <- (sc$MUXid == mux_id)\n",
    "    sc.select <- sc[,select]\n",
    "\n",
    "    cpm.select <- 100*(exp(as.matrix(\n",
    "        GetAssayData(object = sc.select, assay = 'RNA', slot = 'data')\n",
    "    )))\n",
    "\n",
    "    write.csv(cpm.select, file = paste0(\n",
    "        \"../processed_data/211116_natmi_dorDG/\", mux_id, \".csv\"), \n",
    "        row.names = T, quote = F)\n",
    "\n",
    "    cpm.meta <- sc.select@meta.data %>% select(IntSeuratSubCfinal) %>%\n",
    "        tibble::rownames_to_column(\"barcode\") %>%\n",
    "        rename(c(\"annotation\" = \"IntSeuratSubCfinal\"))\n",
    "\n",
    "    write.csv(cpm.meta, file = paste0(\n",
    "        \"../processed_data/211116_natmi_dorDG/\", mux_id, \".ann.csv\"), \n",
    "        row.names = F, quote = F)    \n",
    "}\n",
    "\n",
    "lapply(unique(sc@meta.data$MUXid), makeNatmiInput)"
   ]
  },
  {
   "cell_type": "markdown",
   "id": "91b84af1-a51f-4307-8b29-531ab162c4ca",
   "metadata": {},
   "source": [
    "Generate NATMI commands"
   ]
  },
  {
   "cell_type": "code",
   "execution_count": 7,
   "id": "e81fec13-3492-4cf7-8f02-d930796388ba",
   "metadata": {},
   "outputs": [],
   "source": [
    "base.path <- \"../../workspace/AntidepressantVisium/processed_data/211116_natmi_dorDG/\"\n",
    "handle <- file(\"../processed_data/211116_natmi_dorDG/run_natmi.sh\")\n",
    "\n",
    "makeCmd <- function(mux_id){\n",
    "    cmd <- paste(\"python\", \"ExtractEdges.py\", \n",
    "        \"--interDB\", \"lrc2p\", \n",
    "        \"--emFile\", paste0(base.path, mux_id, \".csv\"), \n",
    "        \"--annFile\", paste0(base.path, mux_id, \".ann.csv\"), \n",
    "        \"--coreNum\", \"4\", \n",
    "        \"--species\", \"rat\",\n",
    "        \"--out\", paste0(base.path, mux_id)\n",
    "    )\n",
    "    return(cmd)\n",
    "}\n",
    "\n",
    "cmds <- as.character(lapply(unique(sc@meta.data$MUXid), makeCmd))\n",
    "writeLines(cmds, handle)\n",
    "close(handle)"
   ]
  },
  {
   "cell_type": "markdown",
   "id": "2848bcca-df65-4f6c-bc36-cb1273fa472c",
   "metadata": {},
   "source": [
    "# Results"
   ]
  },
  {
   "cell_type": "markdown",
   "id": "4c3baaf8-aa64-428a-8ee3-7fb624bb42ee",
   "metadata": {},
   "source": [
    "## Test difference"
   ]
  },
  {
   "cell_type": "markdown",
   "id": "d4cb28c3-b495-49d1-9204-a83a9c798d21",
   "metadata": {},
   "source": [
    "Read edges"
   ]
  },
  {
   "cell_type": "code",
   "execution_count": 8,
   "id": "12a3506c-03db-494b-a00e-0dbcbce0bcd3",
   "metadata": {},
   "outputs": [],
   "source": [
    "readEdges <- function(mux_id){\n",
    "    edges <- read.csv(paste0(\"../processed_data/211116_natmi_dorDG/\", mux_id, \"/Edges_lrc2p.csv\"))\n",
    "    edges$MUXid <- mux_id\n",
    "    return(edges)\n",
    "}\n",
    "\n",
    "edges <- lapply(unique(sc@meta.data$MUXid), readEdges)\n",
    "edges <- bind_rows(edges)"
   ]
  },
  {
   "cell_type": "markdown",
   "id": "e450649f-b31d-4429-a238-6a48e0dfe9d1",
   "metadata": {},
   "source": [
    "Test differences in expression or specificity weight"
   ]
  },
  {
   "cell_type": "code",
   "execution_count": 9,
   "id": "d4d2f4b7-e0e4-4107-a7dc-eff051871310",
   "metadata": {},
   "outputs": [
    {
     "data": {
      "text/html": [
       "<table class=\"dataframe\">\n",
       "<caption>A tibble: 6 × 17</caption>\n",
       "<thead>\n",
       "\t<tr><th scope=col>Sending.cluster</th><th scope=col>Ligand.symbol</th><th scope=col>Receptor.symbol</th><th scope=col>Target.cluster</th><th scope=col>MUX6510</th><th scope=col>MUX6514</th><th scope=col>MUX6490</th><th scope=col>MUX6495</th><th scope=col>MUX6499</th><th scope=col>MUX6503</th><th scope=col>MUX6507</th><th scope=col>MUX6512</th><th scope=col>MUX6516</th><th scope=col>MUX6493</th><th scope=col>MUX6497</th><th scope=col>MUX6501</th><th scope=col>MUX6505</th></tr>\n",
       "\t<tr><th scope=col>&lt;chr&gt;</th><th scope=col>&lt;chr&gt;</th><th scope=col>&lt;chr&gt;</th><th scope=col>&lt;chr&gt;</th><th scope=col>&lt;dbl&gt;</th><th scope=col>&lt;dbl&gt;</th><th scope=col>&lt;dbl&gt;</th><th scope=col>&lt;dbl&gt;</th><th scope=col>&lt;dbl&gt;</th><th scope=col>&lt;dbl&gt;</th><th scope=col>&lt;dbl&gt;</th><th scope=col>&lt;dbl&gt;</th><th scope=col>&lt;dbl&gt;</th><th scope=col>&lt;dbl&gt;</th><th scope=col>&lt;dbl&gt;</th><th scope=col>&lt;dbl&gt;</th><th scope=col>&lt;dbl&gt;</th></tr>\n",
       "</thead>\n",
       "<tbody>\n",
       "\t<tr><td>AstroSub1</td><td>Agt</td><td>Mas1</td><td>AstroSub1  </td><td> 82683.02</td><td>253236.2</td><td>184942.7</td><td>48835.07</td><td>89201.65</td><td>10000</td><td>NA</td><td>175315.2</td><td> 98692.82</td><td>181456.7</td><td>77744.44</td><td>124113.4</td><td> 14485.11</td></tr>\n",
       "\t<tr><td>AstroSub1</td><td>Agt</td><td>Mas1</td><td>BergGlia   </td><td>272497.10</td><td>122080.1</td><td>184942.7</td><td>44012.62</td><td>89201.65</td><td>10000</td><td>NA</td><td>      NA</td><td> 88968.24</td><td>181456.7</td><td>      NA</td><td>124113.4</td><td>193534.67</td></tr>\n",
       "\t<tr><td>AstroSub1</td><td>Agt</td><td>Mas1</td><td>Endothelial</td><td> 84851.76</td><td>122080.1</td><td>184942.7</td><td>44012.62</td><td>      NA</td><td>   NA</td><td>NA</td><td>175315.2</td><td> 88968.24</td><td>181456.7</td><td>27882.69</td><td>      NA</td><td>       NA</td></tr>\n",
       "\t<tr><td>AstroSub1</td><td>Agt</td><td>Mas1</td><td>ExcitNeuron</td><td> 98424.97</td><td>122080.1</td><td>      NA</td><td>44012.62</td><td>      NA</td><td>   NA</td><td>NA</td><td>      NA</td><td> 88968.24</td><td>181456.7</td><td>50735.48</td><td>161306.6</td><td> 24060.05</td></tr>\n",
       "\t<tr><td>AstroSub1</td><td>Agt</td><td>Mas1</td><td>Granule    </td><td> 82683.02</td><td>155255.8</td><td>184942.7</td><td>44012.62</td><td>      NA</td><td>   NA</td><td>NA</td><td>215603.6</td><td> 88968.24</td><td>181456.7</td><td>27882.69</td><td>124113.4</td><td> 40638.60</td></tr>\n",
       "\t<tr><td>AstroSub1</td><td>Agt</td><td>Mas1</td><td>Microglia1 </td><td> 82683.02</td><td>122080.1</td><td>184942.7</td><td>44012.62</td><td>89201.65</td><td>   NA</td><td>NA</td><td>175315.2</td><td>100644.32</td><td>181456.7</td><td>      NA</td><td>      NA</td><td>       NA</td></tr>\n",
       "</tbody>\n",
       "</table>\n"
      ],
      "text/latex": [
       "A tibble: 6 × 17\n",
       "\\begin{tabular}{lllllllllllllllll}\n",
       " Sending.cluster & Ligand.symbol & Receptor.symbol & Target.cluster & MUX6510 & MUX6514 & MUX6490 & MUX6495 & MUX6499 & MUX6503 & MUX6507 & MUX6512 & MUX6516 & MUX6493 & MUX6497 & MUX6501 & MUX6505\\\\\n",
       " <chr> & <chr> & <chr> & <chr> & <dbl> & <dbl> & <dbl> & <dbl> & <dbl> & <dbl> & <dbl> & <dbl> & <dbl> & <dbl> & <dbl> & <dbl> & <dbl>\\\\\n",
       "\\hline\n",
       "\t AstroSub1 & Agt & Mas1 & AstroSub1   &  82683.02 & 253236.2 & 184942.7 & 48835.07 & 89201.65 & 10000 & NA & 175315.2 &  98692.82 & 181456.7 & 77744.44 & 124113.4 &  14485.11\\\\\n",
       "\t AstroSub1 & Agt & Mas1 & BergGlia    & 272497.10 & 122080.1 & 184942.7 & 44012.62 & 89201.65 & 10000 & NA &       NA &  88968.24 & 181456.7 &       NA & 124113.4 & 193534.67\\\\\n",
       "\t AstroSub1 & Agt & Mas1 & Endothelial &  84851.76 & 122080.1 & 184942.7 & 44012.62 &       NA &    NA & NA & 175315.2 &  88968.24 & 181456.7 & 27882.69 &       NA &        NA\\\\\n",
       "\t AstroSub1 & Agt & Mas1 & ExcitNeuron &  98424.97 & 122080.1 &       NA & 44012.62 &       NA &    NA & NA &       NA &  88968.24 & 181456.7 & 50735.48 & 161306.6 &  24060.05\\\\\n",
       "\t AstroSub1 & Agt & Mas1 & Granule     &  82683.02 & 155255.8 & 184942.7 & 44012.62 &       NA &    NA & NA & 215603.6 &  88968.24 & 181456.7 & 27882.69 & 124113.4 &  40638.60\\\\\n",
       "\t AstroSub1 & Agt & Mas1 & Microglia1  &  82683.02 & 122080.1 & 184942.7 & 44012.62 & 89201.65 &    NA & NA & 175315.2 & 100644.32 & 181456.7 &       NA &       NA &        NA\\\\\n",
       "\\end{tabular}\n"
      ],
      "text/markdown": [
       "\n",
       "A tibble: 6 × 17\n",
       "\n",
       "| Sending.cluster &lt;chr&gt; | Ligand.symbol &lt;chr&gt; | Receptor.symbol &lt;chr&gt; | Target.cluster &lt;chr&gt; | MUX6510 &lt;dbl&gt; | MUX6514 &lt;dbl&gt; | MUX6490 &lt;dbl&gt; | MUX6495 &lt;dbl&gt; | MUX6499 &lt;dbl&gt; | MUX6503 &lt;dbl&gt; | MUX6507 &lt;dbl&gt; | MUX6512 &lt;dbl&gt; | MUX6516 &lt;dbl&gt; | MUX6493 &lt;dbl&gt; | MUX6497 &lt;dbl&gt; | MUX6501 &lt;dbl&gt; | MUX6505 &lt;dbl&gt; |\n",
       "|---|---|---|---|---|---|---|---|---|---|---|---|---|---|---|---|---|\n",
       "| AstroSub1 | Agt | Mas1 | AstroSub1   |  82683.02 | 253236.2 | 184942.7 | 48835.07 | 89201.65 | 10000 | NA | 175315.2 |  98692.82 | 181456.7 | 77744.44 | 124113.4 |  14485.11 |\n",
       "| AstroSub1 | Agt | Mas1 | BergGlia    | 272497.10 | 122080.1 | 184942.7 | 44012.62 | 89201.65 | 10000 | NA |       NA |  88968.24 | 181456.7 |       NA | 124113.4 | 193534.67 |\n",
       "| AstroSub1 | Agt | Mas1 | Endothelial |  84851.76 | 122080.1 | 184942.7 | 44012.62 |       NA |    NA | NA | 175315.2 |  88968.24 | 181456.7 | 27882.69 |       NA |        NA |\n",
       "| AstroSub1 | Agt | Mas1 | ExcitNeuron |  98424.97 | 122080.1 |       NA | 44012.62 |       NA |    NA | NA |       NA |  88968.24 | 181456.7 | 50735.48 | 161306.6 |  24060.05 |\n",
       "| AstroSub1 | Agt | Mas1 | Granule     |  82683.02 | 155255.8 | 184942.7 | 44012.62 |       NA |    NA | NA | 215603.6 |  88968.24 | 181456.7 | 27882.69 | 124113.4 |  40638.60 |\n",
       "| AstroSub1 | Agt | Mas1 | Microglia1  |  82683.02 | 122080.1 | 184942.7 | 44012.62 | 89201.65 |    NA | NA | 175315.2 | 100644.32 | 181456.7 |       NA |       NA |        NA |\n",
       "\n"
      ],
      "text/plain": [
       "  Sending.cluster Ligand.symbol Receptor.symbol Target.cluster MUX6510  \n",
       "1 AstroSub1       Agt           Mas1            AstroSub1       82683.02\n",
       "2 AstroSub1       Agt           Mas1            BergGlia       272497.10\n",
       "3 AstroSub1       Agt           Mas1            Endothelial     84851.76\n",
       "4 AstroSub1       Agt           Mas1            ExcitNeuron     98424.97\n",
       "5 AstroSub1       Agt           Mas1            Granule         82683.02\n",
       "6 AstroSub1       Agt           Mas1            Microglia1      82683.02\n",
       "  MUX6514  MUX6490  MUX6495  MUX6499  MUX6503 MUX6507 MUX6512  MUX6516  \n",
       "1 253236.2 184942.7 48835.07 89201.65 10000   NA      175315.2  98692.82\n",
       "2 122080.1 184942.7 44012.62 89201.65 10000   NA            NA  88968.24\n",
       "3 122080.1 184942.7 44012.62       NA    NA   NA      175315.2  88968.24\n",
       "4 122080.1       NA 44012.62       NA    NA   NA            NA  88968.24\n",
       "5 155255.8 184942.7 44012.62       NA    NA   NA      215603.6  88968.24\n",
       "6 122080.1 184942.7 44012.62 89201.65    NA   NA      175315.2 100644.32\n",
       "  MUX6493  MUX6497  MUX6501  MUX6505  \n",
       "1 181456.7 77744.44 124113.4  14485.11\n",
       "2 181456.7       NA 124113.4 193534.67\n",
       "3 181456.7 27882.69       NA        NA\n",
       "4 181456.7 50735.48 161306.6  24060.05\n",
       "5 181456.7 27882.69 124113.4  40638.60\n",
       "6 181456.7       NA       NA        NA"
      ]
     },
     "metadata": {},
     "output_type": "display_data"
    }
   ],
   "source": [
    "expr.weight <- edges %>%\n",
    "    select(Sending.cluster, Ligand.symbol, Receptor.symbol, Target.cluster, Edge.average.expression.weight, MUXid) %>%\n",
    "    pivot_wider(\n",
    "        id_cols = c('Sending.cluster', 'Ligand.symbol', 'Receptor.symbol', 'Target.cluster'), \n",
    "        names_from = \"MUXid\", \n",
    "        values_from = \"Edge.average.expression.weight\"\n",
    "    )\n",
    "expr.weight %>% head()"
   ]
  },
  {
   "cell_type": "code",
   "execution_count": 10,
   "id": "50acf23b-e4c5-4415-8004-d81d349cedac",
   "metadata": {},
   "outputs": [],
   "source": [
    "ids_sham <- sc@meta.data %>% distinct(Treatment, MUXid) %>%\n",
    "    filter(Treatment == 'Sham') %>% pull(MUXid) %>% as.character()\n",
    "ids_ft <- sc@meta.data %>% distinct(Treatment, MUXid) %>%\n",
    "    filter(Treatment == 'FT') %>% pull(MUXid) %>% as.character()"
   ]
  },
  {
   "cell_type": "code",
   "execution_count": 11,
   "id": "bd1ec1b3-57aa-427b-b5f5-0fc720743d76",
   "metadata": {},
   "outputs": [
    {
     "data": {
      "text/html": [
       "<table class=\"dataframe\">\n",
       "<caption>A data.frame: 6 × 8</caption>\n",
       "<thead>\n",
       "\t<tr><th></th><th scope=col>Sending.cluster</th><th scope=col>Ligand.symbol</th><th scope=col>Receptor.symbol</th><th scope=col>Target.cluster</th><th scope=col>logmean.1</th><th scope=col>logmean.2</th><th scope=col>pval</th><th scope=col>logfc</th></tr>\n",
       "\t<tr><th></th><th scope=col>&lt;chr&gt;</th><th scope=col>&lt;chr&gt;</th><th scope=col>&lt;chr&gt;</th><th scope=col>&lt;chr&gt;</th><th scope=col>&lt;dbl&gt;</th><th scope=col>&lt;dbl&gt;</th><th scope=col>&lt;dbl&gt;</th><th scope=col>&lt;dbl&gt;</th></tr>\n",
       "</thead>\n",
       "<tbody>\n",
       "\t<tr><th scope=row>1</th><td>AstroSub1</td><td>Agt</td><td>Mas1</td><td>AstroSub1  </td><td>11.62598</td><td>11.46749</td><td>0.6170751</td><td> 0.15848880</td></tr>\n",
       "\t<tr><th scope=row>2</th><td>AstroSub1</td><td>Agt</td><td>Mas1</td><td>BergGlia   </td><td>11.49286</td><td>11.54490</td><td>0.9427417</td><td>-0.05203903</td></tr>\n",
       "\t<tr><th scope=row>3</th><td>AstroSub1</td><td>Agt</td><td>Mas1</td><td>Endothelial</td><td>11.27642</td><td>11.03924</td><td>0.8255387</td><td> 0.23717519</td></tr>\n",
       "\t<tr><th scope=row>4</th><td>AstroSub1</td><td>Agt</td><td>Mas1</td><td>ExcitNeuron</td><td>11.34359</td><td>10.53978</td><td>0.2116336</td><td> 0.80380570</td></tr>\n",
       "\t<tr><th scope=row>5</th><td>AstroSub1</td><td>Agt</td><td>Mas1</td><td>Granule    </td><td>11.63613</td><td>11.10796</td><td>0.2813175</td><td> 0.52816711</td></tr>\n",
       "\t<tr><th scope=row>6</th><td>AstroSub1</td><td>Agt</td><td>Mas1</td><td>Microglia1 </td><td>11.24160</td><td>11.22129</td><td>0.9414276</td><td> 0.02031556</td></tr>\n",
       "</tbody>\n",
       "</table>\n"
      ],
      "text/latex": [
       "A data.frame: 6 × 8\n",
       "\\begin{tabular}{r|llllllll}\n",
       "  & Sending.cluster & Ligand.symbol & Receptor.symbol & Target.cluster & logmean.1 & logmean.2 & pval & logfc\\\\\n",
       "  & <chr> & <chr> & <chr> & <chr> & <dbl> & <dbl> & <dbl> & <dbl>\\\\\n",
       "\\hline\n",
       "\t1 & AstroSub1 & Agt & Mas1 & AstroSub1   & 11.62598 & 11.46749 & 0.6170751 &  0.15848880\\\\\n",
       "\t2 & AstroSub1 & Agt & Mas1 & BergGlia    & 11.49286 & 11.54490 & 0.9427417 & -0.05203903\\\\\n",
       "\t3 & AstroSub1 & Agt & Mas1 & Endothelial & 11.27642 & 11.03924 & 0.8255387 &  0.23717519\\\\\n",
       "\t4 & AstroSub1 & Agt & Mas1 & ExcitNeuron & 11.34359 & 10.53978 & 0.2116336 &  0.80380570\\\\\n",
       "\t5 & AstroSub1 & Agt & Mas1 & Granule     & 11.63613 & 11.10796 & 0.2813175 &  0.52816711\\\\\n",
       "\t6 & AstroSub1 & Agt & Mas1 & Microglia1  & 11.24160 & 11.22129 & 0.9414276 &  0.02031556\\\\\n",
       "\\end{tabular}\n"
      ],
      "text/markdown": [
       "\n",
       "A data.frame: 6 × 8\n",
       "\n",
       "| <!--/--> | Sending.cluster &lt;chr&gt; | Ligand.symbol &lt;chr&gt; | Receptor.symbol &lt;chr&gt; | Target.cluster &lt;chr&gt; | logmean.1 &lt;dbl&gt; | logmean.2 &lt;dbl&gt; | pval &lt;dbl&gt; | logfc &lt;dbl&gt; |\n",
       "|---|---|---|---|---|---|---|---|---|\n",
       "| 1 | AstroSub1 | Agt | Mas1 | AstroSub1   | 11.62598 | 11.46749 | 0.6170751 |  0.15848880 |\n",
       "| 2 | AstroSub1 | Agt | Mas1 | BergGlia    | 11.49286 | 11.54490 | 0.9427417 | -0.05203903 |\n",
       "| 3 | AstroSub1 | Agt | Mas1 | Endothelial | 11.27642 | 11.03924 | 0.8255387 |  0.23717519 |\n",
       "| 4 | AstroSub1 | Agt | Mas1 | ExcitNeuron | 11.34359 | 10.53978 | 0.2116336 |  0.80380570 |\n",
       "| 5 | AstroSub1 | Agt | Mas1 | Granule     | 11.63613 | 11.10796 | 0.2813175 |  0.52816711 |\n",
       "| 6 | AstroSub1 | Agt | Mas1 | Microglia1  | 11.24160 | 11.22129 | 0.9414276 |  0.02031556 |\n",
       "\n"
      ],
      "text/plain": [
       "  Sending.cluster Ligand.symbol Receptor.symbol Target.cluster logmean.1\n",
       "1 AstroSub1       Agt           Mas1            AstroSub1      11.62598 \n",
       "2 AstroSub1       Agt           Mas1            BergGlia       11.49286 \n",
       "3 AstroSub1       Agt           Mas1            Endothelial    11.27642 \n",
       "4 AstroSub1       Agt           Mas1            ExcitNeuron    11.34359 \n",
       "5 AstroSub1       Agt           Mas1            Granule        11.63613 \n",
       "6 AstroSub1       Agt           Mas1            Microglia1     11.24160 \n",
       "  logmean.2 pval      logfc      \n",
       "1 11.46749  0.6170751  0.15848880\n",
       "2 11.54490  0.9427417 -0.05203903\n",
       "3 11.03924  0.8255387  0.23717519\n",
       "4 10.53978  0.2116336  0.80380570\n",
       "5 11.10796  0.2813175  0.52816711\n",
       "6 11.22129  0.9414276  0.02031556"
      ]
     },
     "metadata": {},
     "output_type": "display_data"
    }
   ],
   "source": [
    "testDifference <- function(rowIdx){\n",
    "    x.1 <- as.numeric(expr.weight[rowIdx, ids_ft])\n",
    "    x.2 <- as.numeric(expr.weight[rowIdx, ids_sham])\n",
    "    \n",
    "    x.1[is.na(x.1)] <- 0\n",
    "    x.2[is.na(x.2)] <- 0\n",
    "    \n",
    "    logmean.1 <- log1p(mean(x.1))\n",
    "    logmean.2 <- log1p(mean(x.2))\n",
    "\n",
    "    pval <- wilcox.test(x.1, x.2, exact = F)$p.value\n",
    "    logfc = logmean.1 - logmean.2\n",
    "\n",
    "    res <- tibble::as_tibble_row(c(\n",
    "        'logmean.1' = logmean.1, \n",
    "        'logmean.2' = logmean.2, \n",
    "        'pval' = pval, \n",
    "        'logfc' = logfc\n",
    "    ))\n",
    "    return(res)\n",
    "}\n",
    "\n",
    "res <- do.call(rbind, lapply(c(1:dim(expr.weight)[1]), testDifference))\n",
    "res <- cbind(expr.weight %>% dplyr::select(Sending.cluster, Ligand.symbol, Receptor.symbol, Target.cluster), res)\n",
    "res %>% head()"
   ]
  },
  {
   "cell_type": "code",
   "execution_count": 12,
   "id": "2f943b91-3cdb-442c-b1b2-d272dc7180c1",
   "metadata": {},
   "outputs": [],
   "source": [
    "write.csv(res, file = \"../processed_data/211116_natmi_dorDG/expr_avg.csv\")"
   ]
  },
  {
   "cell_type": "code",
   "execution_count": 13,
   "id": "6dd6050c-dbcf-4e39-8f23-6fe485400165",
   "metadata": {},
   "outputs": [
    {
     "data": {
      "text/html": [
       "<table class=\"dataframe\">\n",
       "<caption>A tibble: 6 × 17</caption>\n",
       "<thead>\n",
       "\t<tr><th scope=col>Sending.cluster</th><th scope=col>Ligand.symbol</th><th scope=col>Receptor.symbol</th><th scope=col>Target.cluster</th><th scope=col>MUX6510</th><th scope=col>MUX6514</th><th scope=col>MUX6490</th><th scope=col>MUX6495</th><th scope=col>MUX6499</th><th scope=col>MUX6503</th><th scope=col>MUX6507</th><th scope=col>MUX6512</th><th scope=col>MUX6516</th><th scope=col>MUX6493</th><th scope=col>MUX6497</th><th scope=col>MUX6501</th><th scope=col>MUX6505</th></tr>\n",
       "\t<tr><th scope=col>&lt;chr&gt;</th><th scope=col>&lt;chr&gt;</th><th scope=col>&lt;chr&gt;</th><th scope=col>&lt;chr&gt;</th><th scope=col>&lt;dbl&gt;</th><th scope=col>&lt;dbl&gt;</th><th scope=col>&lt;dbl&gt;</th><th scope=col>&lt;dbl&gt;</th><th scope=col>&lt;dbl&gt;</th><th scope=col>&lt;dbl&gt;</th><th scope=col>&lt;dbl&gt;</th><th scope=col>&lt;dbl&gt;</th><th scope=col>&lt;dbl&gt;</th><th scope=col>&lt;dbl&gt;</th><th scope=col>&lt;dbl&gt;</th><th scope=col>&lt;dbl&gt;</th><th scope=col>&lt;dbl&gt;</th></tr>\n",
       "</thead>\n",
       "<tbody>\n",
       "\t<tr><td>AstroSub1</td><td>Agt</td><td>Mas1</td><td>AstroSub1  </td><td>0.02519138</td><td>0.04070732</td><td>0.03992661</td><td>0.02601820</td><td>0.06813956</td><td>0.01862921</td><td>NA</td><td>0.05694847</td><td>0.01986622</td><td>0.04075196</td><td>0.08882490</td><td>0.03748017</td><td>0.008256791</td></tr>\n",
       "\t<tr><td>AstroSub1</td><td>Agt</td><td>Mas1</td><td>BergGlia   </td><td>0.08302285</td><td>0.01962419</td><td>0.03992661</td><td>0.02344891</td><td>0.06813956</td><td>0.01862921</td><td>NA</td><td>        NA</td><td>0.01790872</td><td>0.04075196</td><td>        NA</td><td>0.03748017</td><td>0.110318484</td></tr>\n",
       "\t<tr><td>AstroSub1</td><td>Agt</td><td>Mas1</td><td>Endothelial</td><td>0.02585215</td><td>0.01962419</td><td>0.03992661</td><td>0.02344891</td><td>        NA</td><td>        NA</td><td>NA</td><td>0.05694847</td><td>0.01790872</td><td>0.04075196</td><td>0.03185665</td><td>        NA</td><td>         NA</td></tr>\n",
       "\t<tr><td>AstroSub1</td><td>Agt</td><td>Mas1</td><td>ExcitNeuron</td><td>0.02998755</td><td>0.01962419</td><td>        NA</td><td>0.02344891</td><td>        NA</td><td>        NA</td><td>NA</td><td>        NA</td><td>0.01790872</td><td>0.04075196</td><td>0.05796651</td><td>0.04871187</td><td>0.013714690</td></tr>\n",
       "\t<tr><td>AstroSub1</td><td>Agt</td><td>Mas1</td><td>Granule    </td><td>0.02519138</td><td>0.02495713</td><td>0.03992661</td><td>0.02344891</td><td>        NA</td><td>        NA</td><td>NA</td><td>0.07003556</td><td>0.01790872</td><td>0.04075196</td><td>0.03185665</td><td>0.03748017</td><td>0.023164784</td></tr>\n",
       "\t<tr><td>AstroSub1</td><td>Agt</td><td>Mas1</td><td>Microglia1 </td><td>0.02519138</td><td>0.01962419</td><td>0.03992661</td><td>0.02344891</td><td>0.06813956</td><td>        NA</td><td>NA</td><td>0.05694847</td><td>0.02025904</td><td>0.04075196</td><td>        NA</td><td>        NA</td><td>         NA</td></tr>\n",
       "</tbody>\n",
       "</table>\n"
      ],
      "text/latex": [
       "A tibble: 6 × 17\n",
       "\\begin{tabular}{lllllllllllllllll}\n",
       " Sending.cluster & Ligand.symbol & Receptor.symbol & Target.cluster & MUX6510 & MUX6514 & MUX6490 & MUX6495 & MUX6499 & MUX6503 & MUX6507 & MUX6512 & MUX6516 & MUX6493 & MUX6497 & MUX6501 & MUX6505\\\\\n",
       " <chr> & <chr> & <chr> & <chr> & <dbl> & <dbl> & <dbl> & <dbl> & <dbl> & <dbl> & <dbl> & <dbl> & <dbl> & <dbl> & <dbl> & <dbl> & <dbl>\\\\\n",
       "\\hline\n",
       "\t AstroSub1 & Agt & Mas1 & AstroSub1   & 0.02519138 & 0.04070732 & 0.03992661 & 0.02601820 & 0.06813956 & 0.01862921 & NA & 0.05694847 & 0.01986622 & 0.04075196 & 0.08882490 & 0.03748017 & 0.008256791\\\\\n",
       "\t AstroSub1 & Agt & Mas1 & BergGlia    & 0.08302285 & 0.01962419 & 0.03992661 & 0.02344891 & 0.06813956 & 0.01862921 & NA &         NA & 0.01790872 & 0.04075196 &         NA & 0.03748017 & 0.110318484\\\\\n",
       "\t AstroSub1 & Agt & Mas1 & Endothelial & 0.02585215 & 0.01962419 & 0.03992661 & 0.02344891 &         NA &         NA & NA & 0.05694847 & 0.01790872 & 0.04075196 & 0.03185665 &         NA &          NA\\\\\n",
       "\t AstroSub1 & Agt & Mas1 & ExcitNeuron & 0.02998755 & 0.01962419 &         NA & 0.02344891 &         NA &         NA & NA &         NA & 0.01790872 & 0.04075196 & 0.05796651 & 0.04871187 & 0.013714690\\\\\n",
       "\t AstroSub1 & Agt & Mas1 & Granule     & 0.02519138 & 0.02495713 & 0.03992661 & 0.02344891 &         NA &         NA & NA & 0.07003556 & 0.01790872 & 0.04075196 & 0.03185665 & 0.03748017 & 0.023164784\\\\\n",
       "\t AstroSub1 & Agt & Mas1 & Microglia1  & 0.02519138 & 0.01962419 & 0.03992661 & 0.02344891 & 0.06813956 &         NA & NA & 0.05694847 & 0.02025904 & 0.04075196 &         NA &         NA &          NA\\\\\n",
       "\\end{tabular}\n"
      ],
      "text/markdown": [
       "\n",
       "A tibble: 6 × 17\n",
       "\n",
       "| Sending.cluster &lt;chr&gt; | Ligand.symbol &lt;chr&gt; | Receptor.symbol &lt;chr&gt; | Target.cluster &lt;chr&gt; | MUX6510 &lt;dbl&gt; | MUX6514 &lt;dbl&gt; | MUX6490 &lt;dbl&gt; | MUX6495 &lt;dbl&gt; | MUX6499 &lt;dbl&gt; | MUX6503 &lt;dbl&gt; | MUX6507 &lt;dbl&gt; | MUX6512 &lt;dbl&gt; | MUX6516 &lt;dbl&gt; | MUX6493 &lt;dbl&gt; | MUX6497 &lt;dbl&gt; | MUX6501 &lt;dbl&gt; | MUX6505 &lt;dbl&gt; |\n",
       "|---|---|---|---|---|---|---|---|---|---|---|---|---|---|---|---|---|\n",
       "| AstroSub1 | Agt | Mas1 | AstroSub1   | 0.02519138 | 0.04070732 | 0.03992661 | 0.02601820 | 0.06813956 | 0.01862921 | NA | 0.05694847 | 0.01986622 | 0.04075196 | 0.08882490 | 0.03748017 | 0.008256791 |\n",
       "| AstroSub1 | Agt | Mas1 | BergGlia    | 0.08302285 | 0.01962419 | 0.03992661 | 0.02344891 | 0.06813956 | 0.01862921 | NA |         NA | 0.01790872 | 0.04075196 |         NA | 0.03748017 | 0.110318484 |\n",
       "| AstroSub1 | Agt | Mas1 | Endothelial | 0.02585215 | 0.01962419 | 0.03992661 | 0.02344891 |         NA |         NA | NA | 0.05694847 | 0.01790872 | 0.04075196 | 0.03185665 |         NA |          NA |\n",
       "| AstroSub1 | Agt | Mas1 | ExcitNeuron | 0.02998755 | 0.01962419 |         NA | 0.02344891 |         NA |         NA | NA |         NA | 0.01790872 | 0.04075196 | 0.05796651 | 0.04871187 | 0.013714690 |\n",
       "| AstroSub1 | Agt | Mas1 | Granule     | 0.02519138 | 0.02495713 | 0.03992661 | 0.02344891 |         NA |         NA | NA | 0.07003556 | 0.01790872 | 0.04075196 | 0.03185665 | 0.03748017 | 0.023164784 |\n",
       "| AstroSub1 | Agt | Mas1 | Microglia1  | 0.02519138 | 0.01962419 | 0.03992661 | 0.02344891 | 0.06813956 |         NA | NA | 0.05694847 | 0.02025904 | 0.04075196 |         NA |         NA |          NA |\n",
       "\n"
      ],
      "text/plain": [
       "  Sending.cluster Ligand.symbol Receptor.symbol Target.cluster MUX6510   \n",
       "1 AstroSub1       Agt           Mas1            AstroSub1      0.02519138\n",
       "2 AstroSub1       Agt           Mas1            BergGlia       0.08302285\n",
       "3 AstroSub1       Agt           Mas1            Endothelial    0.02585215\n",
       "4 AstroSub1       Agt           Mas1            ExcitNeuron    0.02998755\n",
       "5 AstroSub1       Agt           Mas1            Granule        0.02519138\n",
       "6 AstroSub1       Agt           Mas1            Microglia1     0.02519138\n",
       "  MUX6514    MUX6490    MUX6495    MUX6499    MUX6503    MUX6507 MUX6512   \n",
       "1 0.04070732 0.03992661 0.02601820 0.06813956 0.01862921 NA      0.05694847\n",
       "2 0.01962419 0.03992661 0.02344891 0.06813956 0.01862921 NA              NA\n",
       "3 0.01962419 0.03992661 0.02344891         NA         NA NA      0.05694847\n",
       "4 0.01962419         NA 0.02344891         NA         NA NA              NA\n",
       "5 0.02495713 0.03992661 0.02344891         NA         NA NA      0.07003556\n",
       "6 0.01962419 0.03992661 0.02344891 0.06813956         NA NA      0.05694847\n",
       "  MUX6516    MUX6493    MUX6497    MUX6501    MUX6505    \n",
       "1 0.01986622 0.04075196 0.08882490 0.03748017 0.008256791\n",
       "2 0.01790872 0.04075196         NA 0.03748017 0.110318484\n",
       "3 0.01790872 0.04075196 0.03185665         NA          NA\n",
       "4 0.01790872 0.04075196 0.05796651 0.04871187 0.013714690\n",
       "5 0.01790872 0.04075196 0.03185665 0.03748017 0.023164784\n",
       "6 0.02025904 0.04075196         NA         NA          NA"
      ]
     },
     "metadata": {},
     "output_type": "display_data"
    }
   ],
   "source": [
    "spec.weight <- edges %>%\n",
    "    select(Sending.cluster, Ligand.symbol, Receptor.symbol, Target.cluster, Edge.average.expression.derived.specificity, MUXid) %>%\n",
    "    pivot_wider(\n",
    "        id_cols = c('Sending.cluster', 'Ligand.symbol', 'Receptor.symbol', 'Target.cluster'), \n",
    "        names_from = \"MUXid\", \n",
    "        values_from = \"Edge.average.expression.derived.specificity\"\n",
    "    )\n",
    "spec.weight %>% head()"
   ]
  },
  {
   "cell_type": "code",
   "execution_count": 14,
   "id": "2e801997-c45a-4ced-85cc-ea5e5abc88de",
   "metadata": {},
   "outputs": [
    {
     "data": {
      "text/html": [
       "<table class=\"dataframe\">\n",
       "<caption>A data.frame: 6 × 8</caption>\n",
       "<thead>\n",
       "\t<tr><th></th><th scope=col>Sending.cluster</th><th scope=col>Ligand.symbol</th><th scope=col>Receptor.symbol</th><th scope=col>Target.cluster</th><th scope=col>mean.1</th><th scope=col>mean.2</th><th scope=col>pval</th><th scope=col>diff</th></tr>\n",
       "\t<tr><th></th><th scope=col>&lt;chr&gt;</th><th scope=col>&lt;chr&gt;</th><th scope=col>&lt;chr&gt;</th><th scope=col>&lt;chr&gt;</th><th scope=col>&lt;dbl&gt;</th><th scope=col>&lt;dbl&gt;</th><th scope=col>&lt;dbl&gt;</th><th scope=col>&lt;dbl&gt;</th></tr>\n",
       "</thead>\n",
       "<tbody>\n",
       "\t<tr><th scope=row>1</th><td>AstroSub1</td><td>Agt</td><td>Mas1</td><td>AstroSub1  </td><td>0.04202142</td><td>0.03123033</td><td>0.5203168</td><td> 0.010791091</td></tr>\n",
       "\t<tr><th scope=row>2</th><td>AstroSub1</td><td>Agt</td><td>Mas1</td><td>BergGlia   </td><td>0.03440989</td><td>0.03611305</td><td>0.7195042</td><td>-0.001703157</td></tr>\n",
       "\t<tr><th scope=row>3</th><td>AstroSub1</td><td>Agt</td><td>Mas1</td><td>Endothelial</td><td>0.02457763</td><td>0.01555026</td><td>0.5084322</td><td> 0.009027369</td></tr>\n",
       "\t<tr><th scope=row>4</th><td>AstroSub1</td><td>Agt</td><td>Mas1</td><td>ExcitNeuron</td><td>0.02984229</td><td>0.01043723</td><td>0.1627032</td><td> 0.019405057</td></tr>\n",
       "\t<tr><th scope=row>5</th><td>AstroSub1</td><td>Agt</td><td>Mas1</td><td>Granule    </td><td>0.03686631</td><td>0.01621772</td><td>0.1314751</td><td> 0.020648587</td></tr>\n",
       "\t<tr><th scope=row>6</th><td>AstroSub1</td><td>Agt</td><td>Mas1</td><td>Microglia1 </td><td>0.01965991</td><td>0.02519009</td><td>0.7133369</td><td>-0.005530181</td></tr>\n",
       "</tbody>\n",
       "</table>\n"
      ],
      "text/latex": [
       "A data.frame: 6 × 8\n",
       "\\begin{tabular}{r|llllllll}\n",
       "  & Sending.cluster & Ligand.symbol & Receptor.symbol & Target.cluster & mean.1 & mean.2 & pval & diff\\\\\n",
       "  & <chr> & <chr> & <chr> & <chr> & <dbl> & <dbl> & <dbl> & <dbl>\\\\\n",
       "\\hline\n",
       "\t1 & AstroSub1 & Agt & Mas1 & AstroSub1   & 0.04202142 & 0.03123033 & 0.5203168 &  0.010791091\\\\\n",
       "\t2 & AstroSub1 & Agt & Mas1 & BergGlia    & 0.03440989 & 0.03611305 & 0.7195042 & -0.001703157\\\\\n",
       "\t3 & AstroSub1 & Agt & Mas1 & Endothelial & 0.02457763 & 0.01555026 & 0.5084322 &  0.009027369\\\\\n",
       "\t4 & AstroSub1 & Agt & Mas1 & ExcitNeuron & 0.02984229 & 0.01043723 & 0.1627032 &  0.019405057\\\\\n",
       "\t5 & AstroSub1 & Agt & Mas1 & Granule     & 0.03686631 & 0.01621772 & 0.1314751 &  0.020648587\\\\\n",
       "\t6 & AstroSub1 & Agt & Mas1 & Microglia1  & 0.01965991 & 0.02519009 & 0.7133369 & -0.005530181\\\\\n",
       "\\end{tabular}\n"
      ],
      "text/markdown": [
       "\n",
       "A data.frame: 6 × 8\n",
       "\n",
       "| <!--/--> | Sending.cluster &lt;chr&gt; | Ligand.symbol &lt;chr&gt; | Receptor.symbol &lt;chr&gt; | Target.cluster &lt;chr&gt; | mean.1 &lt;dbl&gt; | mean.2 &lt;dbl&gt; | pval &lt;dbl&gt; | diff &lt;dbl&gt; |\n",
       "|---|---|---|---|---|---|---|---|---|\n",
       "| 1 | AstroSub1 | Agt | Mas1 | AstroSub1   | 0.04202142 | 0.03123033 | 0.5203168 |  0.010791091 |\n",
       "| 2 | AstroSub1 | Agt | Mas1 | BergGlia    | 0.03440989 | 0.03611305 | 0.7195042 | -0.001703157 |\n",
       "| 3 | AstroSub1 | Agt | Mas1 | Endothelial | 0.02457763 | 0.01555026 | 0.5084322 |  0.009027369 |\n",
       "| 4 | AstroSub1 | Agt | Mas1 | ExcitNeuron | 0.02984229 | 0.01043723 | 0.1627032 |  0.019405057 |\n",
       "| 5 | AstroSub1 | Agt | Mas1 | Granule     | 0.03686631 | 0.01621772 | 0.1314751 |  0.020648587 |\n",
       "| 6 | AstroSub1 | Agt | Mas1 | Microglia1  | 0.01965991 | 0.02519009 | 0.7133369 | -0.005530181 |\n",
       "\n"
      ],
      "text/plain": [
       "  Sending.cluster Ligand.symbol Receptor.symbol Target.cluster mean.1    \n",
       "1 AstroSub1       Agt           Mas1            AstroSub1      0.04202142\n",
       "2 AstroSub1       Agt           Mas1            BergGlia       0.03440989\n",
       "3 AstroSub1       Agt           Mas1            Endothelial    0.02457763\n",
       "4 AstroSub1       Agt           Mas1            ExcitNeuron    0.02984229\n",
       "5 AstroSub1       Agt           Mas1            Granule        0.03686631\n",
       "6 AstroSub1       Agt           Mas1            Microglia1     0.01965991\n",
       "  mean.2     pval      diff        \n",
       "1 0.03123033 0.5203168  0.010791091\n",
       "2 0.03611305 0.7195042 -0.001703157\n",
       "3 0.01555026 0.5084322  0.009027369\n",
       "4 0.01043723 0.1627032  0.019405057\n",
       "5 0.01621772 0.1314751  0.020648587\n",
       "6 0.02519009 0.7133369 -0.005530181"
      ]
     },
     "metadata": {},
     "output_type": "display_data"
    }
   ],
   "source": [
    "testDifference <- function(rowIdx){\n",
    "    x.1 <- as.numeric(spec.weight[rowIdx, ids_ft])\n",
    "    x.2 <- as.numeric(spec.weight[rowIdx, ids_sham])\n",
    "    \n",
    "    x.1[is.na(x.1)] <- 0\n",
    "    x.2[is.na(x.2)] <- 0\n",
    "    \n",
    "    mean.1 <- mean(x.1)\n",
    "    mean.2 <- mean(x.2)\n",
    "    \n",
    "    pval <- wilcox.test(x.1, x.2, exact = F)$p.value\n",
    "    diff = mean.1 - mean.2\n",
    "    \n",
    "    res <- tibble::as_tibble_row(c(\n",
    "        'mean.1' = mean.1, \n",
    "        'mean.2' = mean.2, \n",
    "        'pval' = pval, \n",
    "        'diff' = diff\n",
    "    ))\n",
    "    return(res)\n",
    "}\n",
    "\n",
    "res <- do.call(rbind, lapply(c(1:dim(spec.weight)[1]), testDifference))\n",
    "res <- cbind(spec.weight %>% dplyr::select(Sending.cluster, Ligand.symbol, Receptor.symbol, Target.cluster), res)\n",
    "res %>% head()"
   ]
  },
  {
   "cell_type": "code",
   "execution_count": 15,
   "id": "983c28d6-e5df-40f3-825d-96741004b2f5",
   "metadata": {},
   "outputs": [],
   "source": [
    "write.csv(res, file = \"../processed_data/211116_natmi_dorDG/spec_avg.csv\")"
   ]
  },
  {
   "cell_type": "markdown",
   "id": "d683d913-75c8-4942-988e-e49f8e77028f",
   "metadata": {},
   "source": [
    "## Compile results"
   ]
  },
  {
   "cell_type": "code",
   "execution_count": 16,
   "id": "62801b64-0261-4b2d-9fb3-27b3fda20ce3",
   "metadata": {},
   "outputs": [],
   "source": [
    "expr.res <- read.csv(\"../processed_data/211116_natmi_dorDG/expr_avg.csv\")\n",
    "spec.res <- read.csv(\"../processed_data/211116_natmi_dorDG/spec_avg.csv\")"
   ]
  },
  {
   "cell_type": "markdown",
   "id": "2ae1ef88-5b65-49b4-9f78-e76b2f41cc5f",
   "metadata": {},
   "source": [
    "Get percent expressing"
   ]
  },
  {
   "cell_type": "code",
   "execution_count": 17,
   "id": "da353261-308e-4b2d-85fa-3fccd7816aaf",
   "metadata": {},
   "outputs": [],
   "source": [
    "Idents(sc) <- paste0(sc@meta.data$MUXid, '%', sc@meta.data$IntSeuratSubCfinal)"
   ]
  },
  {
   "cell_type": "code",
   "execution_count": 18,
   "id": "24087f5c-4e11-44ba-903f-4ad0cb7c9815",
   "metadata": {},
   "outputs": [],
   "source": [
    "lrs <- unique(c(\n",
    "  expr.res %>% pull(Ligand.symbol), \n",
    "  expr.res %>% pull(Receptor.symbol), \n",
    "  spec.res %>% pull(Ligand.symbol), \n",
    "  spec.res %>% pull(Receptor.symbol)\n",
    "))\n",
    "\n",
    "dp <- DotPlot(sc, features = lrs)\n",
    "dpd <- dp$data\n",
    "\n",
    "pt_ct <- data.frame(str_split_fixed(dpd$id, '%', 2))\n",
    "colnames(pt_ct) <- c('MUXid', 'cell.type')\n",
    "dpd <- cbind(dpd, pt_ct)"
   ]
  },
  {
   "cell_type": "code",
   "execution_count": 19,
   "id": "b5435cc9-6bb0-4c76-bdec-1c8a63ea50c3",
   "metadata": {},
   "outputs": [],
   "source": [
    "num.cells <- sc@meta.data %>% group_by(MUXid, IntSeuratSubCfinal) %>% tally()"
   ]
  },
  {
   "cell_type": "code",
   "execution_count": 22,
   "id": "faab8f13-b939-4a91-a2e7-f8a6493b5499",
   "metadata": {},
   "outputs": [
    {
     "name": "stderr",
     "output_type": "stream",
     "text": [
      "`summarise()` has grouped output by 'Treatment', 'cell.type'. You can override using the `.groups` argument.\n",
      "\n"
     ]
    },
    {
     "data": {
      "text/html": [
       "<table class=\"dataframe\">\n",
       "<caption>A tibble: 6 × 4</caption>\n",
       "<thead>\n",
       "\t<tr><th scope=col>cell.type</th><th scope=col>features.plot</th><th scope=col>FT</th><th scope=col>Sham</th></tr>\n",
       "\t<tr><th scope=col>&lt;chr&gt;</th><th scope=col>&lt;fct&gt;</th><th scope=col>&lt;dbl&gt;</th><th scope=col>&lt;dbl&gt;</th></tr>\n",
       "</thead>\n",
       "<tbody>\n",
       "\t<tr><td>AstroSub1</td><td>Agt   </td><td>0.6354545</td><td>0.5352869</td></tr>\n",
       "\t<tr><td>AstroSub1</td><td>Col1a2</td><td>0.0000000</td><td>0.0000000</td></tr>\n",
       "\t<tr><td>AstroSub1</td><td>Comp  </td><td>0.0000000</td><td>0.0000000</td></tr>\n",
       "\t<tr><td>AstroSub1</td><td>Edn3  </td><td>0.0000000</td><td>0.0000000</td></tr>\n",
       "\t<tr><td>AstroSub1</td><td>F9    </td><td>0.0000000</td><td>0.0000000</td></tr>\n",
       "\t<tr><td>AstroSub1</td><td>Gpi   </td><td>0.5824242</td><td>0.3340659</td></tr>\n",
       "</tbody>\n",
       "</table>\n"
      ],
      "text/latex": [
       "A tibble: 6 × 4\n",
       "\\begin{tabular}{llll}\n",
       " cell.type & features.plot & FT & Sham\\\\\n",
       " <chr> & <fct> & <dbl> & <dbl>\\\\\n",
       "\\hline\n",
       "\t AstroSub1 & Agt    & 0.6354545 & 0.5352869\\\\\n",
       "\t AstroSub1 & Col1a2 & 0.0000000 & 0.0000000\\\\\n",
       "\t AstroSub1 & Comp   & 0.0000000 & 0.0000000\\\\\n",
       "\t AstroSub1 & Edn3   & 0.0000000 & 0.0000000\\\\\n",
       "\t AstroSub1 & F9     & 0.0000000 & 0.0000000\\\\\n",
       "\t AstroSub1 & Gpi    & 0.5824242 & 0.3340659\\\\\n",
       "\\end{tabular}\n"
      ],
      "text/markdown": [
       "\n",
       "A tibble: 6 × 4\n",
       "\n",
       "| cell.type &lt;chr&gt; | features.plot &lt;fct&gt; | FT &lt;dbl&gt; | Sham &lt;dbl&gt; |\n",
       "|---|---|---|---|\n",
       "| AstroSub1 | Agt    | 0.6354545 | 0.5352869 |\n",
       "| AstroSub1 | Col1a2 | 0.0000000 | 0.0000000 |\n",
       "| AstroSub1 | Comp   | 0.0000000 | 0.0000000 |\n",
       "| AstroSub1 | Edn3   | 0.0000000 | 0.0000000 |\n",
       "| AstroSub1 | F9     | 0.0000000 | 0.0000000 |\n",
       "| AstroSub1 | Gpi    | 0.5824242 | 0.3340659 |\n",
       "\n"
      ],
      "text/plain": [
       "  cell.type features.plot FT        Sham     \n",
       "1 AstroSub1 Agt           0.6354545 0.5352869\n",
       "2 AstroSub1 Col1a2        0.0000000 0.0000000\n",
       "3 AstroSub1 Comp          0.0000000 0.0000000\n",
       "4 AstroSub1 Edn3          0.0000000 0.0000000\n",
       "5 AstroSub1 F9            0.0000000 0.0000000\n",
       "6 AstroSub1 Gpi           0.5824242 0.3340659"
      ]
     },
     "metadata": {},
     "output_type": "display_data"
    }
   ],
   "source": [
    "pct.exp <- dpd %>% \n",
    "    left_join(sc@meta.data %>% distinct(MUXid, Treatment), by = c('MUXid')) %>%\n",
    "    left_join(num.cells, by = c('MUXid' = 'MUXid', 'cell.type' = 'IntSeuratSubCfinal')) %>%\n",
    "    filter(n > 5) %>%\n",
    "    group_by(Treatment, cell.type, features.plot) %>%\n",
    "    summarise(m = mean(pct.exp) / 100) %>% ungroup() %>%\n",
    "    pivot_wider(id_cols = c('cell.type', 'features.plot'), names_from = 'Treatment', values_from = 'm')\n",
    "pct.exp %>% head()"
   ]
  },
  {
   "cell_type": "code",
   "execution_count": 23,
   "id": "bc6544bf-8c29-4efc-b0ce-af1589aeac9a",
   "metadata": {},
   "outputs": [
    {
     "name": "stderr",
     "output_type": "stream",
     "text": [
      "Joining, by = c(\"Sending.cluster\", \"Ligand.symbol\")\n",
      "\n",
      "Joining, by = c(\"Receptor.symbol\", \"Target.cluster\")\n",
      "\n"
     ]
    },
    {
     "data": {
      "text/html": [
       "<table class=\"dataframe\">\n",
       "<caption>A data.frame: 6 × 16</caption>\n",
       "<thead>\n",
       "\t<tr><th></th><th scope=col>Sending.cluster</th><th scope=col>Ligand.symbol</th><th scope=col>Receptor.symbol</th><th scope=col>Target.cluster</th><th scope=col>logmean.1</th><th scope=col>logmean.2</th><th scope=col>pval.expr</th><th scope=col>logfc</th><th scope=col>mean.1</th><th scope=col>mean.2</th><th scope=col>pval.spec</th><th scope=col>diff</th><th scope=col>frac.ligand.1</th><th scope=col>frac.ligand.2</th><th scope=col>frac.receptor.1</th><th scope=col>frac.receptor.2</th></tr>\n",
       "\t<tr><th></th><th scope=col>&lt;chr&gt;</th><th scope=col>&lt;chr&gt;</th><th scope=col>&lt;chr&gt;</th><th scope=col>&lt;chr&gt;</th><th scope=col>&lt;dbl&gt;</th><th scope=col>&lt;dbl&gt;</th><th scope=col>&lt;dbl&gt;</th><th scope=col>&lt;dbl&gt;</th><th scope=col>&lt;dbl&gt;</th><th scope=col>&lt;dbl&gt;</th><th scope=col>&lt;dbl&gt;</th><th scope=col>&lt;dbl&gt;</th><th scope=col>&lt;dbl&gt;</th><th scope=col>&lt;dbl&gt;</th><th scope=col>&lt;dbl&gt;</th><th scope=col>&lt;dbl&gt;</th></tr>\n",
       "</thead>\n",
       "<tbody>\n",
       "\t<tr><th scope=row>1</th><td>AstroSub1</td><td>Agt</td><td>Mas1</td><td>AstroSub1  </td><td>11.62598</td><td>11.46749</td><td>0.6170751</td><td> 0.15848880</td><td>0.04202142</td><td>0.03123033</td><td>0.5203168</td><td> 0.010791091</td><td>0.6354545</td><td>0.5352869</td><td>0.01666667</td><td>0.04151404</td></tr>\n",
       "\t<tr><th scope=row>2</th><td>AstroSub1</td><td>Agt</td><td>Mas1</td><td>BergGlia   </td><td>11.49286</td><td>11.54490</td><td>0.9427417</td><td>-0.05203903</td><td>0.03440989</td><td>0.03611305</td><td>0.7195042</td><td>-0.001703157</td><td>0.6354545</td><td>0.5352869</td><td>0.00000000</td><td>0.16666667</td></tr>\n",
       "\t<tr><th scope=row>3</th><td>AstroSub1</td><td>Agt</td><td>Mas1</td><td>Endothelial</td><td>11.27642</td><td>11.03924</td><td>0.8255387</td><td> 0.23717519</td><td>0.02457763</td><td>0.01555026</td><td>0.5084322</td><td> 0.009027369</td><td>0.6354545</td><td>0.5352869</td><td>0.00000000</td><td>0.03958333</td></tr>\n",
       "\t<tr><th scope=row>4</th><td>AstroSub1</td><td>Agt</td><td>Mas1</td><td>ExcitNeuron</td><td>11.34359</td><td>10.53978</td><td>0.2116336</td><td> 0.80380570</td><td>0.02984229</td><td>0.01043723</td><td>0.1627032</td><td> 0.019405057</td><td>0.6354545</td><td>0.5352869</td><td>0.22727273</td><td>0.05555556</td></tr>\n",
       "\t<tr><th scope=row>5</th><td>AstroSub1</td><td>Agt</td><td>Mas1</td><td>Granule    </td><td>11.63613</td><td>11.10796</td><td>0.2813175</td><td> 0.52816711</td><td>0.03686631</td><td>0.01621772</td><td>0.1314751</td><td> 0.020648587</td><td>0.6354545</td><td>0.5352869</td><td>0.16081871</td><td>0.06666667</td></tr>\n",
       "\t<tr><th scope=row>6</th><td>AstroSub1</td><td>Agt</td><td>Mas1</td><td>Microglia1 </td><td>11.24160</td><td>11.22129</td><td>0.9414276</td><td> 0.02031556</td><td>0.01965991</td><td>0.02519009</td><td>0.7133369</td><td>-0.005530181</td><td>0.6354545</td><td>0.5352869</td><td>0.03030303</td><td>0.03333333</td></tr>\n",
       "</tbody>\n",
       "</table>\n"
      ],
      "text/latex": [
       "A data.frame: 6 × 16\n",
       "\\begin{tabular}{r|llllllllllllllll}\n",
       "  & Sending.cluster & Ligand.symbol & Receptor.symbol & Target.cluster & logmean.1 & logmean.2 & pval.expr & logfc & mean.1 & mean.2 & pval.spec & diff & frac.ligand.1 & frac.ligand.2 & frac.receptor.1 & frac.receptor.2\\\\\n",
       "  & <chr> & <chr> & <chr> & <chr> & <dbl> & <dbl> & <dbl> & <dbl> & <dbl> & <dbl> & <dbl> & <dbl> & <dbl> & <dbl> & <dbl> & <dbl>\\\\\n",
       "\\hline\n",
       "\t1 & AstroSub1 & Agt & Mas1 & AstroSub1   & 11.62598 & 11.46749 & 0.6170751 &  0.15848880 & 0.04202142 & 0.03123033 & 0.5203168 &  0.010791091 & 0.6354545 & 0.5352869 & 0.01666667 & 0.04151404\\\\\n",
       "\t2 & AstroSub1 & Agt & Mas1 & BergGlia    & 11.49286 & 11.54490 & 0.9427417 & -0.05203903 & 0.03440989 & 0.03611305 & 0.7195042 & -0.001703157 & 0.6354545 & 0.5352869 & 0.00000000 & 0.16666667\\\\\n",
       "\t3 & AstroSub1 & Agt & Mas1 & Endothelial & 11.27642 & 11.03924 & 0.8255387 &  0.23717519 & 0.02457763 & 0.01555026 & 0.5084322 &  0.009027369 & 0.6354545 & 0.5352869 & 0.00000000 & 0.03958333\\\\\n",
       "\t4 & AstroSub1 & Agt & Mas1 & ExcitNeuron & 11.34359 & 10.53978 & 0.2116336 &  0.80380570 & 0.02984229 & 0.01043723 & 0.1627032 &  0.019405057 & 0.6354545 & 0.5352869 & 0.22727273 & 0.05555556\\\\\n",
       "\t5 & AstroSub1 & Agt & Mas1 & Granule     & 11.63613 & 11.10796 & 0.2813175 &  0.52816711 & 0.03686631 & 0.01621772 & 0.1314751 &  0.020648587 & 0.6354545 & 0.5352869 & 0.16081871 & 0.06666667\\\\\n",
       "\t6 & AstroSub1 & Agt & Mas1 & Microglia1  & 11.24160 & 11.22129 & 0.9414276 &  0.02031556 & 0.01965991 & 0.02519009 & 0.7133369 & -0.005530181 & 0.6354545 & 0.5352869 & 0.03030303 & 0.03333333\\\\\n",
       "\\end{tabular}\n"
      ],
      "text/markdown": [
       "\n",
       "A data.frame: 6 × 16\n",
       "\n",
       "| <!--/--> | Sending.cluster &lt;chr&gt; | Ligand.symbol &lt;chr&gt; | Receptor.symbol &lt;chr&gt; | Target.cluster &lt;chr&gt; | logmean.1 &lt;dbl&gt; | logmean.2 &lt;dbl&gt; | pval.expr &lt;dbl&gt; | logfc &lt;dbl&gt; | mean.1 &lt;dbl&gt; | mean.2 &lt;dbl&gt; | pval.spec &lt;dbl&gt; | diff &lt;dbl&gt; | frac.ligand.1 &lt;dbl&gt; | frac.ligand.2 &lt;dbl&gt; | frac.receptor.1 &lt;dbl&gt; | frac.receptor.2 &lt;dbl&gt; |\n",
       "|---|---|---|---|---|---|---|---|---|---|---|---|---|---|---|---|---|\n",
       "| 1 | AstroSub1 | Agt | Mas1 | AstroSub1   | 11.62598 | 11.46749 | 0.6170751 |  0.15848880 | 0.04202142 | 0.03123033 | 0.5203168 |  0.010791091 | 0.6354545 | 0.5352869 | 0.01666667 | 0.04151404 |\n",
       "| 2 | AstroSub1 | Agt | Mas1 | BergGlia    | 11.49286 | 11.54490 | 0.9427417 | -0.05203903 | 0.03440989 | 0.03611305 | 0.7195042 | -0.001703157 | 0.6354545 | 0.5352869 | 0.00000000 | 0.16666667 |\n",
       "| 3 | AstroSub1 | Agt | Mas1 | Endothelial | 11.27642 | 11.03924 | 0.8255387 |  0.23717519 | 0.02457763 | 0.01555026 | 0.5084322 |  0.009027369 | 0.6354545 | 0.5352869 | 0.00000000 | 0.03958333 |\n",
       "| 4 | AstroSub1 | Agt | Mas1 | ExcitNeuron | 11.34359 | 10.53978 | 0.2116336 |  0.80380570 | 0.02984229 | 0.01043723 | 0.1627032 |  0.019405057 | 0.6354545 | 0.5352869 | 0.22727273 | 0.05555556 |\n",
       "| 5 | AstroSub1 | Agt | Mas1 | Granule     | 11.63613 | 11.10796 | 0.2813175 |  0.52816711 | 0.03686631 | 0.01621772 | 0.1314751 |  0.020648587 | 0.6354545 | 0.5352869 | 0.16081871 | 0.06666667 |\n",
       "| 6 | AstroSub1 | Agt | Mas1 | Microglia1  | 11.24160 | 11.22129 | 0.9414276 |  0.02031556 | 0.01965991 | 0.02519009 | 0.7133369 | -0.005530181 | 0.6354545 | 0.5352869 | 0.03030303 | 0.03333333 |\n",
       "\n"
      ],
      "text/plain": [
       "  Sending.cluster Ligand.symbol Receptor.symbol Target.cluster logmean.1\n",
       "1 AstroSub1       Agt           Mas1            AstroSub1      11.62598 \n",
       "2 AstroSub1       Agt           Mas1            BergGlia       11.49286 \n",
       "3 AstroSub1       Agt           Mas1            Endothelial    11.27642 \n",
       "4 AstroSub1       Agt           Mas1            ExcitNeuron    11.34359 \n",
       "5 AstroSub1       Agt           Mas1            Granule        11.63613 \n",
       "6 AstroSub1       Agt           Mas1            Microglia1     11.24160 \n",
       "  logmean.2 pval.expr logfc       mean.1     mean.2     pval.spec diff        \n",
       "1 11.46749  0.6170751  0.15848880 0.04202142 0.03123033 0.5203168  0.010791091\n",
       "2 11.54490  0.9427417 -0.05203903 0.03440989 0.03611305 0.7195042 -0.001703157\n",
       "3 11.03924  0.8255387  0.23717519 0.02457763 0.01555026 0.5084322  0.009027369\n",
       "4 10.53978  0.2116336  0.80380570 0.02984229 0.01043723 0.1627032  0.019405057\n",
       "5 11.10796  0.2813175  0.52816711 0.03686631 0.01621772 0.1314751  0.020648587\n",
       "6 11.22129  0.9414276  0.02031556 0.01965991 0.02519009 0.7133369 -0.005530181\n",
       "  frac.ligand.1 frac.ligand.2 frac.receptor.1 frac.receptor.2\n",
       "1 0.6354545     0.5352869     0.01666667      0.04151404     \n",
       "2 0.6354545     0.5352869     0.00000000      0.16666667     \n",
       "3 0.6354545     0.5352869     0.00000000      0.03958333     \n",
       "4 0.6354545     0.5352869     0.22727273      0.05555556     \n",
       "5 0.6354545     0.5352869     0.16081871      0.06666667     \n",
       "6 0.6354545     0.5352869     0.03030303      0.03333333     "
      ]
     },
     "metadata": {},
     "output_type": "display_data"
    }
   ],
   "source": [
    "joined <- full_join(expr.res, spec.res, \n",
    "        by = c('Sending.cluster', 'Ligand.symbol', 'Receptor.symbol', 'Target.cluster'), \n",
    "        suffix = c('.expr', '.spec')\n",
    "    ) %>% select(-X.expr, -X.spec) %>%\n",
    "    left_join(\n",
    "        pct.exp %>% rename(\n",
    "            Sending.cluster = cell.type, \n",
    "            Ligand.symbol = features.plot, \n",
    "            frac.ligand.1 = FT, \n",
    "            frac.ligand.2 = Sham\n",
    "        )\n",
    "    ) %>% left_join(\n",
    "        pct.exp %>% rename(\n",
    "            Target.cluster = cell.type, \n",
    "            Receptor.symbol = features.plot, \n",
    "            frac.receptor.1 = FT, \n",
    "            frac.receptor.2 = Sham\n",
    "        )\n",
    "    )\n",
    "joined %>% head()"
   ]
  },
  {
   "cell_type": "code",
   "execution_count": 24,
   "id": "364c7853-6695-4fcd-b505-47f872082dd8",
   "metadata": {},
   "outputs": [],
   "source": [
    "write.csv(joined, file = \"../processed_data/211116_natmi_dorDG/joined.csv\")"
   ]
  },
  {
   "cell_type": "markdown",
   "id": "5f976468-cac4-4c5c-a2f8-975bf154581a",
   "metadata": {},
   "source": [
    "## Filter"
   ]
  },
  {
   "cell_type": "code",
   "execution_count": 7,
   "id": "238f45a5-3982-4dfe-b93e-d4a2ebe9e952",
   "metadata": {},
   "outputs": [
    {
     "data": {
      "text/html": [
       "<table class=\"dataframe\">\n",
       "<caption>A data.frame: 6 × 16</caption>\n",
       "<thead>\n",
       "\t<tr><th></th><th scope=col>Sending.cluster</th><th scope=col>Ligand.symbol</th><th scope=col>Receptor.symbol</th><th scope=col>Target.cluster</th><th scope=col>logmean.1</th><th scope=col>logmean.2</th><th scope=col>pval.expr</th><th scope=col>logfc</th><th scope=col>mean.1</th><th scope=col>mean.2</th><th scope=col>pval.spec</th><th scope=col>diff</th><th scope=col>frac.ligand.1</th><th scope=col>frac.ligand.2</th><th scope=col>frac.receptor.1</th><th scope=col>frac.receptor.2</th></tr>\n",
       "\t<tr><th></th><th scope=col>&lt;chr&gt;</th><th scope=col>&lt;chr&gt;</th><th scope=col>&lt;chr&gt;</th><th scope=col>&lt;chr&gt;</th><th scope=col>&lt;dbl&gt;</th><th scope=col>&lt;dbl&gt;</th><th scope=col>&lt;dbl&gt;</th><th scope=col>&lt;dbl&gt;</th><th scope=col>&lt;dbl&gt;</th><th scope=col>&lt;dbl&gt;</th><th scope=col>&lt;dbl&gt;</th><th scope=col>&lt;dbl&gt;</th><th scope=col>&lt;dbl&gt;</th><th scope=col>&lt;dbl&gt;</th><th scope=col>&lt;dbl&gt;</th><th scope=col>&lt;dbl&gt;</th></tr>\n",
       "</thead>\n",
       "<tbody>\n",
       "\t<tr><th scope=row>1</th><td>AstroSub1</td><td>Agt</td><td>Mas1</td><td>AstroSub1  </td><td>11.62598</td><td>11.46749</td><td>0.6170751</td><td> 0.15848880</td><td>0.04202142</td><td>0.03123033</td><td>0.5203168</td><td> 0.010791091</td><td>0.6354545</td><td>0.5352869</td><td>0.01666667</td><td>0.04151404</td></tr>\n",
       "\t<tr><th scope=row>2</th><td>AstroSub1</td><td>Agt</td><td>Mas1</td><td>BergGlia   </td><td>11.49286</td><td>11.54490</td><td>0.9427417</td><td>-0.05203903</td><td>0.03440989</td><td>0.03611305</td><td>0.7195042</td><td>-0.001703157</td><td>0.6354545</td><td>0.5352869</td><td>0.00000000</td><td>0.16666667</td></tr>\n",
       "\t<tr><th scope=row>3</th><td>AstroSub1</td><td>Agt</td><td>Mas1</td><td>Endothelial</td><td>11.27642</td><td>11.03924</td><td>0.8255387</td><td> 0.23717519</td><td>0.02457763</td><td>0.01555026</td><td>0.5084322</td><td> 0.009027369</td><td>0.6354545</td><td>0.5352869</td><td>0.00000000</td><td>0.03958333</td></tr>\n",
       "\t<tr><th scope=row>4</th><td>AstroSub1</td><td>Agt</td><td>Mas1</td><td>ExcitNeuron</td><td>11.34359</td><td>10.53978</td><td>0.2116336</td><td> 0.80380570</td><td>0.02984229</td><td>0.01043723</td><td>0.1627032</td><td> 0.019405057</td><td>0.6354545</td><td>0.5352869</td><td>0.22727273</td><td>0.05555556</td></tr>\n",
       "\t<tr><th scope=row>5</th><td>AstroSub1</td><td>Agt</td><td>Mas1</td><td>Granule    </td><td>11.63613</td><td>11.10796</td><td>0.2813175</td><td> 0.52816711</td><td>0.03686631</td><td>0.01621772</td><td>0.1314751</td><td> 0.020648587</td><td>0.6354545</td><td>0.5352869</td><td>0.16081871</td><td>0.06666667</td></tr>\n",
       "\t<tr><th scope=row>6</th><td>AstroSub1</td><td>Agt</td><td>Mas1</td><td>Microglia1 </td><td>11.24160</td><td>11.22129</td><td>0.9414276</td><td> 0.02031556</td><td>0.01965991</td><td>0.02519009</td><td>0.7133369</td><td>-0.005530181</td><td>0.6354545</td><td>0.5352869</td><td>0.03030303</td><td>0.03333333</td></tr>\n",
       "</tbody>\n",
       "</table>\n"
      ],
      "text/latex": [
       "A data.frame: 6 × 16\n",
       "\\begin{tabular}{r|llllllllllllllll}\n",
       "  & Sending.cluster & Ligand.symbol & Receptor.symbol & Target.cluster & logmean.1 & logmean.2 & pval.expr & logfc & mean.1 & mean.2 & pval.spec & diff & frac.ligand.1 & frac.ligand.2 & frac.receptor.1 & frac.receptor.2\\\\\n",
       "  & <chr> & <chr> & <chr> & <chr> & <dbl> & <dbl> & <dbl> & <dbl> & <dbl> & <dbl> & <dbl> & <dbl> & <dbl> & <dbl> & <dbl> & <dbl>\\\\\n",
       "\\hline\n",
       "\t1 & AstroSub1 & Agt & Mas1 & AstroSub1   & 11.62598 & 11.46749 & 0.6170751 &  0.15848880 & 0.04202142 & 0.03123033 & 0.5203168 &  0.010791091 & 0.6354545 & 0.5352869 & 0.01666667 & 0.04151404\\\\\n",
       "\t2 & AstroSub1 & Agt & Mas1 & BergGlia    & 11.49286 & 11.54490 & 0.9427417 & -0.05203903 & 0.03440989 & 0.03611305 & 0.7195042 & -0.001703157 & 0.6354545 & 0.5352869 & 0.00000000 & 0.16666667\\\\\n",
       "\t3 & AstroSub1 & Agt & Mas1 & Endothelial & 11.27642 & 11.03924 & 0.8255387 &  0.23717519 & 0.02457763 & 0.01555026 & 0.5084322 &  0.009027369 & 0.6354545 & 0.5352869 & 0.00000000 & 0.03958333\\\\\n",
       "\t4 & AstroSub1 & Agt & Mas1 & ExcitNeuron & 11.34359 & 10.53978 & 0.2116336 &  0.80380570 & 0.02984229 & 0.01043723 & 0.1627032 &  0.019405057 & 0.6354545 & 0.5352869 & 0.22727273 & 0.05555556\\\\\n",
       "\t5 & AstroSub1 & Agt & Mas1 & Granule     & 11.63613 & 11.10796 & 0.2813175 &  0.52816711 & 0.03686631 & 0.01621772 & 0.1314751 &  0.020648587 & 0.6354545 & 0.5352869 & 0.16081871 & 0.06666667\\\\\n",
       "\t6 & AstroSub1 & Agt & Mas1 & Microglia1  & 11.24160 & 11.22129 & 0.9414276 &  0.02031556 & 0.01965991 & 0.02519009 & 0.7133369 & -0.005530181 & 0.6354545 & 0.5352869 & 0.03030303 & 0.03333333\\\\\n",
       "\\end{tabular}\n"
      ],
      "text/markdown": [
       "\n",
       "A data.frame: 6 × 16\n",
       "\n",
       "| <!--/--> | Sending.cluster &lt;chr&gt; | Ligand.symbol &lt;chr&gt; | Receptor.symbol &lt;chr&gt; | Target.cluster &lt;chr&gt; | logmean.1 &lt;dbl&gt; | logmean.2 &lt;dbl&gt; | pval.expr &lt;dbl&gt; | logfc &lt;dbl&gt; | mean.1 &lt;dbl&gt; | mean.2 &lt;dbl&gt; | pval.spec &lt;dbl&gt; | diff &lt;dbl&gt; | frac.ligand.1 &lt;dbl&gt; | frac.ligand.2 &lt;dbl&gt; | frac.receptor.1 &lt;dbl&gt; | frac.receptor.2 &lt;dbl&gt; |\n",
       "|---|---|---|---|---|---|---|---|---|---|---|---|---|---|---|---|---|\n",
       "| 1 | AstroSub1 | Agt | Mas1 | AstroSub1   | 11.62598 | 11.46749 | 0.6170751 |  0.15848880 | 0.04202142 | 0.03123033 | 0.5203168 |  0.010791091 | 0.6354545 | 0.5352869 | 0.01666667 | 0.04151404 |\n",
       "| 2 | AstroSub1 | Agt | Mas1 | BergGlia    | 11.49286 | 11.54490 | 0.9427417 | -0.05203903 | 0.03440989 | 0.03611305 | 0.7195042 | -0.001703157 | 0.6354545 | 0.5352869 | 0.00000000 | 0.16666667 |\n",
       "| 3 | AstroSub1 | Agt | Mas1 | Endothelial | 11.27642 | 11.03924 | 0.8255387 |  0.23717519 | 0.02457763 | 0.01555026 | 0.5084322 |  0.009027369 | 0.6354545 | 0.5352869 | 0.00000000 | 0.03958333 |\n",
       "| 4 | AstroSub1 | Agt | Mas1 | ExcitNeuron | 11.34359 | 10.53978 | 0.2116336 |  0.80380570 | 0.02984229 | 0.01043723 | 0.1627032 |  0.019405057 | 0.6354545 | 0.5352869 | 0.22727273 | 0.05555556 |\n",
       "| 5 | AstroSub1 | Agt | Mas1 | Granule     | 11.63613 | 11.10796 | 0.2813175 |  0.52816711 | 0.03686631 | 0.01621772 | 0.1314751 |  0.020648587 | 0.6354545 | 0.5352869 | 0.16081871 | 0.06666667 |\n",
       "| 6 | AstroSub1 | Agt | Mas1 | Microglia1  | 11.24160 | 11.22129 | 0.9414276 |  0.02031556 | 0.01965991 | 0.02519009 | 0.7133369 | -0.005530181 | 0.6354545 | 0.5352869 | 0.03030303 | 0.03333333 |\n",
       "\n"
      ],
      "text/plain": [
       "  Sending.cluster Ligand.symbol Receptor.symbol Target.cluster logmean.1\n",
       "1 AstroSub1       Agt           Mas1            AstroSub1      11.62598 \n",
       "2 AstroSub1       Agt           Mas1            BergGlia       11.49286 \n",
       "3 AstroSub1       Agt           Mas1            Endothelial    11.27642 \n",
       "4 AstroSub1       Agt           Mas1            ExcitNeuron    11.34359 \n",
       "5 AstroSub1       Agt           Mas1            Granule        11.63613 \n",
       "6 AstroSub1       Agt           Mas1            Microglia1     11.24160 \n",
       "  logmean.2 pval.expr logfc       mean.1     mean.2     pval.spec diff        \n",
       "1 11.46749  0.6170751  0.15848880 0.04202142 0.03123033 0.5203168  0.010791091\n",
       "2 11.54490  0.9427417 -0.05203903 0.03440989 0.03611305 0.7195042 -0.001703157\n",
       "3 11.03924  0.8255387  0.23717519 0.02457763 0.01555026 0.5084322  0.009027369\n",
       "4 10.53978  0.2116336  0.80380570 0.02984229 0.01043723 0.1627032  0.019405057\n",
       "5 11.10796  0.2813175  0.52816711 0.03686631 0.01621772 0.1314751  0.020648587\n",
       "6 11.22129  0.9414276  0.02031556 0.01965991 0.02519009 0.7133369 -0.005530181\n",
       "  frac.ligand.1 frac.ligand.2 frac.receptor.1 frac.receptor.2\n",
       "1 0.6354545     0.5352869     0.01666667      0.04151404     \n",
       "2 0.6354545     0.5352869     0.00000000      0.16666667     \n",
       "3 0.6354545     0.5352869     0.00000000      0.03958333     \n",
       "4 0.6354545     0.5352869     0.22727273      0.05555556     \n",
       "5 0.6354545     0.5352869     0.16081871      0.06666667     \n",
       "6 0.6354545     0.5352869     0.03030303      0.03333333     "
      ]
     },
     "metadata": {},
     "output_type": "display_data"
    }
   ],
   "source": [
    "joined <- read.csv(\"../processed_data/211116_natmi_dorDG/joined.csv\", row.names = 1)\n",
    "joined %>% head()"
   ]
  },
  {
   "cell_type": "markdown",
   "id": "a4a6b198-b578-4f09-a6f6-d8928b12337e",
   "metadata": {},
   "source": [
    "Filter for top hits"
   ]
  },
  {
   "cell_type": "code",
   "execution_count": 8,
   "id": "05b330a3-e039-402d-94fc-521ed90cf51d",
   "metadata": {},
   "outputs": [
    {
     "data": {
      "text/html": [
       "<table class=\"dataframe\">\n",
       "<caption>A data.frame: 6 × 21</caption>\n",
       "<thead>\n",
       "\t<tr><th></th><th scope=col>Sending.cluster</th><th scope=col>Ligand.symbol</th><th scope=col>Receptor.symbol</th><th scope=col>Target.cluster</th><th scope=col>logmean.1</th><th scope=col>logmean.2</th><th scope=col>pval.expr</th><th scope=col>logfc</th><th scope=col>mean.1</th><th scope=col>mean.2</th><th scope=col>⋯</th><th scope=col>diff</th><th scope=col>frac.ligand.1</th><th scope=col>frac.ligand.2</th><th scope=col>frac.receptor.1</th><th scope=col>frac.receptor.2</th><th scope=col>frac.ligand.higher</th><th scope=col>frac.receptor.higher</th><th scope=col>spec.higher</th><th scope=col>expr.higher</th><th scope=col>Treatment</th></tr>\n",
       "\t<tr><th></th><th scope=col>&lt;chr&gt;</th><th scope=col>&lt;chr&gt;</th><th scope=col>&lt;chr&gt;</th><th scope=col>&lt;chr&gt;</th><th scope=col>&lt;dbl&gt;</th><th scope=col>&lt;dbl&gt;</th><th scope=col>&lt;dbl&gt;</th><th scope=col>&lt;dbl&gt;</th><th scope=col>&lt;dbl&gt;</th><th scope=col>&lt;dbl&gt;</th><th scope=col>⋯</th><th scope=col>&lt;dbl&gt;</th><th scope=col>&lt;dbl&gt;</th><th scope=col>&lt;dbl&gt;</th><th scope=col>&lt;dbl&gt;</th><th scope=col>&lt;dbl&gt;</th><th scope=col>&lt;dbl&gt;</th><th scope=col>&lt;dbl&gt;</th><th scope=col>&lt;dbl&gt;</th><th scope=col>&lt;dbl&gt;</th><th scope=col>&lt;chr&gt;</th></tr>\n",
       "</thead>\n",
       "<tbody>\n",
       "\t<tr><th scope=row>1</th><td>Mossy     </td><td>Lrpap1  </td><td>Lrp1  </td><td>AstroSub1 </td><td>11.94829</td><td>10.584782</td><td>0.003361339</td><td> 1.363503</td><td>0.04149542</td><td>0.007760305</td><td>⋯</td><td> 0.03373512</td><td>0.3861111</td><td>0.25000000</td><td>0.7036364</td><td>0.6275946</td><td>0.3861111</td><td>0.7036364</td><td>0.04149542</td><td>11.94829</td><td>FT  </td></tr>\n",
       "\t<tr><th scope=row>2</th><td>Granule   </td><td>Ntn1    </td><td>Mcam  </td><td>Mossy     </td><td>11.64110</td><td> 9.473181</td><td>0.007363851</td><td> 2.167915</td><td>0.05208194</td><td>0.004193944</td><td>⋯</td><td> 0.04788799</td><td>0.1374269</td><td>0.09166667</td><td>0.7152778</td><td>0.7500000</td><td>0.1374269</td><td>0.7152778</td><td>0.05208194</td><td>11.64110</td><td>FT  </td></tr>\n",
       "\t<tr><th scope=row>3</th><td>Mossy     </td><td>Mcam    </td><td>Mcam  </td><td>Mossy     </td><td>13.06909</td><td>10.912202</td><td>0.008133072</td><td> 2.156890</td><td>0.14617622</td><td>0.021222988</td><td>⋯</td><td> 0.12495323</td><td>0.7152778</td><td>0.75000000</td><td>0.7152778</td><td>0.7500000</td><td>0.7152778</td><td>0.7152778</td><td>0.14617622</td><td>13.06909</td><td>FT  </td></tr>\n",
       "\t<tr><th scope=row>4</th><td>Oligodend1</td><td>Cntn2   </td><td>Cntn1 </td><td>OPC       </td><td>11.01358</td><td>12.671201</td><td>0.011942104</td><td>-1.657617</td><td>0.01726425</td><td>0.073074649</td><td>⋯</td><td>-0.05581040</td><td>0.2507937</td><td>0.49536178</td><td>0.8273810</td><td>0.5208333</td><td>0.4953618</td><td>0.5208333</td><td>0.07307465</td><td>12.67120</td><td>Sham</td></tr>\n",
       "\t<tr><th scope=row>5</th><td>OPC       </td><td>Il1rapl1</td><td>Ptprd </td><td>Oligodend1</td><td>13.69621</td><td>15.148243</td><td>0.017778373</td><td>-1.452030</td><td>0.01206404</td><td>0.044473621</td><td>⋯</td><td>-0.03240958</td><td>1.0000000</td><td>1.00000000</td><td>0.9206349</td><td>0.7899969</td><td>1.0000000</td><td>0.7899969</td><td>0.04447362</td><td>15.14824</td><td>Sham</td></tr>\n",
       "\t<tr><th scope=row>6</th><td>AstroSub1 </td><td>Mfge8   </td><td>Pdgfrb</td><td>Mossy     </td><td>13.31996</td><td>11.753438</td><td>0.018255861</td><td> 1.566524</td><td>0.10392959</td><td>0.022075216</td><td>⋯</td><td> 0.08185437</td><td>0.7387879</td><td>0.35067155</td><td>0.7958333</td><td>0.8750000</td><td>0.7387879</td><td>0.7958333</td><td>0.10392959</td><td>13.31996</td><td>FT  </td></tr>\n",
       "</tbody>\n",
       "</table>\n"
      ],
      "text/latex": [
       "A data.frame: 6 × 21\n",
       "\\begin{tabular}{r|lllllllllllllllllllll}\n",
       "  & Sending.cluster & Ligand.symbol & Receptor.symbol & Target.cluster & logmean.1 & logmean.2 & pval.expr & logfc & mean.1 & mean.2 & ⋯ & diff & frac.ligand.1 & frac.ligand.2 & frac.receptor.1 & frac.receptor.2 & frac.ligand.higher & frac.receptor.higher & spec.higher & expr.higher & Treatment\\\\\n",
       "  & <chr> & <chr> & <chr> & <chr> & <dbl> & <dbl> & <dbl> & <dbl> & <dbl> & <dbl> & ⋯ & <dbl> & <dbl> & <dbl> & <dbl> & <dbl> & <dbl> & <dbl> & <dbl> & <dbl> & <chr>\\\\\n",
       "\\hline\n",
       "\t1 & Mossy      & Lrpap1   & Lrp1   & AstroSub1  & 11.94829 & 10.584782 & 0.003361339 &  1.363503 & 0.04149542 & 0.007760305 & ⋯ &  0.03373512 & 0.3861111 & 0.25000000 & 0.7036364 & 0.6275946 & 0.3861111 & 0.7036364 & 0.04149542 & 11.94829 & FT  \\\\\n",
       "\t2 & Granule    & Ntn1     & Mcam   & Mossy      & 11.64110 &  9.473181 & 0.007363851 &  2.167915 & 0.05208194 & 0.004193944 & ⋯ &  0.04788799 & 0.1374269 & 0.09166667 & 0.7152778 & 0.7500000 & 0.1374269 & 0.7152778 & 0.05208194 & 11.64110 & FT  \\\\\n",
       "\t3 & Mossy      & Mcam     & Mcam   & Mossy      & 13.06909 & 10.912202 & 0.008133072 &  2.156890 & 0.14617622 & 0.021222988 & ⋯ &  0.12495323 & 0.7152778 & 0.75000000 & 0.7152778 & 0.7500000 & 0.7152778 & 0.7152778 & 0.14617622 & 13.06909 & FT  \\\\\n",
       "\t4 & Oligodend1 & Cntn2    & Cntn1  & OPC        & 11.01358 & 12.671201 & 0.011942104 & -1.657617 & 0.01726425 & 0.073074649 & ⋯ & -0.05581040 & 0.2507937 & 0.49536178 & 0.8273810 & 0.5208333 & 0.4953618 & 0.5208333 & 0.07307465 & 12.67120 & Sham\\\\\n",
       "\t5 & OPC        & Il1rapl1 & Ptprd  & Oligodend1 & 13.69621 & 15.148243 & 0.017778373 & -1.452030 & 0.01206404 & 0.044473621 & ⋯ & -0.03240958 & 1.0000000 & 1.00000000 & 0.9206349 & 0.7899969 & 1.0000000 & 0.7899969 & 0.04447362 & 15.14824 & Sham\\\\\n",
       "\t6 & AstroSub1  & Mfge8    & Pdgfrb & Mossy      & 13.31996 & 11.753438 & 0.018255861 &  1.566524 & 0.10392959 & 0.022075216 & ⋯ &  0.08185437 & 0.7387879 & 0.35067155 & 0.7958333 & 0.8750000 & 0.7387879 & 0.7958333 & 0.10392959 & 13.31996 & FT  \\\\\n",
       "\\end{tabular}\n"
      ],
      "text/markdown": [
       "\n",
       "A data.frame: 6 × 21\n",
       "\n",
       "| <!--/--> | Sending.cluster &lt;chr&gt; | Ligand.symbol &lt;chr&gt; | Receptor.symbol &lt;chr&gt; | Target.cluster &lt;chr&gt; | logmean.1 &lt;dbl&gt; | logmean.2 &lt;dbl&gt; | pval.expr &lt;dbl&gt; | logfc &lt;dbl&gt; | mean.1 &lt;dbl&gt; | mean.2 &lt;dbl&gt; | ⋯ ⋯ | diff &lt;dbl&gt; | frac.ligand.1 &lt;dbl&gt; | frac.ligand.2 &lt;dbl&gt; | frac.receptor.1 &lt;dbl&gt; | frac.receptor.2 &lt;dbl&gt; | frac.ligand.higher &lt;dbl&gt; | frac.receptor.higher &lt;dbl&gt; | spec.higher &lt;dbl&gt; | expr.higher &lt;dbl&gt; | Treatment &lt;chr&gt; |\n",
       "|---|---|---|---|---|---|---|---|---|---|---|---|---|---|---|---|---|---|---|---|---|---|\n",
       "| 1 | Mossy      | Lrpap1   | Lrp1   | AstroSub1  | 11.94829 | 10.584782 | 0.003361339 |  1.363503 | 0.04149542 | 0.007760305 | ⋯ |  0.03373512 | 0.3861111 | 0.25000000 | 0.7036364 | 0.6275946 | 0.3861111 | 0.7036364 | 0.04149542 | 11.94829 | FT   |\n",
       "| 2 | Granule    | Ntn1     | Mcam   | Mossy      | 11.64110 |  9.473181 | 0.007363851 |  2.167915 | 0.05208194 | 0.004193944 | ⋯ |  0.04788799 | 0.1374269 | 0.09166667 | 0.7152778 | 0.7500000 | 0.1374269 | 0.7152778 | 0.05208194 | 11.64110 | FT   |\n",
       "| 3 | Mossy      | Mcam     | Mcam   | Mossy      | 13.06909 | 10.912202 | 0.008133072 |  2.156890 | 0.14617622 | 0.021222988 | ⋯ |  0.12495323 | 0.7152778 | 0.75000000 | 0.7152778 | 0.7500000 | 0.7152778 | 0.7152778 | 0.14617622 | 13.06909 | FT   |\n",
       "| 4 | Oligodend1 | Cntn2    | Cntn1  | OPC        | 11.01358 | 12.671201 | 0.011942104 | -1.657617 | 0.01726425 | 0.073074649 | ⋯ | -0.05581040 | 0.2507937 | 0.49536178 | 0.8273810 | 0.5208333 | 0.4953618 | 0.5208333 | 0.07307465 | 12.67120 | Sham |\n",
       "| 5 | OPC        | Il1rapl1 | Ptprd  | Oligodend1 | 13.69621 | 15.148243 | 0.017778373 | -1.452030 | 0.01206404 | 0.044473621 | ⋯ | -0.03240958 | 1.0000000 | 1.00000000 | 0.9206349 | 0.7899969 | 1.0000000 | 0.7899969 | 0.04447362 | 15.14824 | Sham |\n",
       "| 6 | AstroSub1  | Mfge8    | Pdgfrb | Mossy      | 13.31996 | 11.753438 | 0.018255861 |  1.566524 | 0.10392959 | 0.022075216 | ⋯ |  0.08185437 | 0.7387879 | 0.35067155 | 0.7958333 | 0.8750000 | 0.7387879 | 0.7958333 | 0.10392959 | 13.31996 | FT   |\n",
       "\n"
      ],
      "text/plain": [
       "  Sending.cluster Ligand.symbol Receptor.symbol Target.cluster logmean.1\n",
       "1 Mossy           Lrpap1        Lrp1            AstroSub1      11.94829 \n",
       "2 Granule         Ntn1          Mcam            Mossy          11.64110 \n",
       "3 Mossy           Mcam          Mcam            Mossy          13.06909 \n",
       "4 Oligodend1      Cntn2         Cntn1           OPC            11.01358 \n",
       "5 OPC             Il1rapl1      Ptprd           Oligodend1     13.69621 \n",
       "6 AstroSub1       Mfge8         Pdgfrb          Mossy          13.31996 \n",
       "  logmean.2 pval.expr   logfc     mean.1     mean.2      ⋯ diff       \n",
       "1 10.584782 0.003361339  1.363503 0.04149542 0.007760305 ⋯  0.03373512\n",
       "2  9.473181 0.007363851  2.167915 0.05208194 0.004193944 ⋯  0.04788799\n",
       "3 10.912202 0.008133072  2.156890 0.14617622 0.021222988 ⋯  0.12495323\n",
       "4 12.671201 0.011942104 -1.657617 0.01726425 0.073074649 ⋯ -0.05581040\n",
       "5 15.148243 0.017778373 -1.452030 0.01206404 0.044473621 ⋯ -0.03240958\n",
       "6 11.753438 0.018255861  1.566524 0.10392959 0.022075216 ⋯  0.08185437\n",
       "  frac.ligand.1 frac.ligand.2 frac.receptor.1 frac.receptor.2\n",
       "1 0.3861111     0.25000000    0.7036364       0.6275946      \n",
       "2 0.1374269     0.09166667    0.7152778       0.7500000      \n",
       "3 0.7152778     0.75000000    0.7152778       0.7500000      \n",
       "4 0.2507937     0.49536178    0.8273810       0.5208333      \n",
       "5 1.0000000     1.00000000    0.9206349       0.7899969      \n",
       "6 0.7387879     0.35067155    0.7958333       0.8750000      \n",
       "  frac.ligand.higher frac.receptor.higher spec.higher expr.higher Treatment\n",
       "1 0.3861111          0.7036364            0.04149542  11.94829    FT       \n",
       "2 0.1374269          0.7152778            0.05208194  11.64110    FT       \n",
       "3 0.7152778          0.7152778            0.14617622  13.06909    FT       \n",
       "4 0.4953618          0.5208333            0.07307465  12.67120    Sham     \n",
       "5 1.0000000          0.7899969            0.04447362  15.14824    Sham     \n",
       "6 0.7387879          0.7958333            0.10392959  13.31996    FT       "
      ]
     },
     "metadata": {},
     "output_type": "display_data"
    }
   ],
   "source": [
    "pval.th <- 0.05\n",
    "spec.higher.th <- 0.04\n",
    "spec.higher.th2 <- spec.higher.th/2\n",
    "spec.diff.th <- 0.02\n",
    "\n",
    "joined.f <- joined %>%\n",
    "    filter(sign(logfc) == sign(diff)) %>%\n",
    "    mutate(frac.ligand.higher = ifelse(logfc > 0, frac.ligand.1, frac.ligand.2), frac.receptor.higher = ifelse(logfc > 0, frac.receptor.1, frac.receptor.2)) %>%\n",
    "    filter(frac.ligand.higher > 0.1, frac.receptor.higher > 0.1) %>%\n",
    "    mutate(spec.higher = ifelse(logfc > 0, mean.1, mean.2), expr.higher = ifelse(logfc > 0, logmean.1, logmean.2), Treatment = ifelse(logfc > 0, 'FT', 'Sham')) %>%\n",
    "    filter(abs(diff) > spec.diff.th & spec.higher > spec.higher.th) %>%    \n",
    "    filter(pval.expr < pval.th | pval.spec < pval.th) %>%\n",
    "    arrange(pval.expr)\n",
    "\n",
    "joined.f %>% head()"
   ]
  },
  {
   "cell_type": "markdown",
   "id": "c1e0d0bb-ff39-4070-bb28-94f26634b049",
   "metadata": {},
   "source": [
    "# Visualize results"
   ]
  },
  {
   "cell_type": "markdown",
   "id": "10111c61-9bad-4724-bc1f-7a7cbf627926",
   "metadata": {},
   "source": [
    "As volcano plot"
   ]
  },
  {
   "cell_type": "code",
   "execution_count": 15,
   "id": "18ebb036-efe9-4708-86f7-d6246056a32b",
   "metadata": {},
   "outputs": [
    {
     "data": {
      "image/png": "[encoded data removed]",
      "text/plain": [
       "plot without title"
      ]
     },
     "metadata": {
      "image/png": {
       "height": 360,
       "width": 600
      }
     },
     "output_type": "display_data"
    }
   ],
   "source": [
    "pval.th <- 0.05\n",
    "spec.higher.th <- 0.05\n",
    "spec.higher.th2 <- spec.higher.th/2\n",
    "spec.diff.th <- 0.03\n",
    "\n",
    "p0 <- joined %>%\n",
    "    filter(sign(logfc) == sign(diff)) %>%\n",
    "    #filter(mean.1 > spec.higher.th2 | mean.2 > spec.higher.th2) %>%\n",
    "    mutate(frac.ligand.higher = ifelse(logfc > 0, frac.ligand.1, frac.ligand.2), frac.receptor.higher = ifelse(logfc > 0, frac.receptor.1, frac.receptor.2)) %>%\n",
    "    filter(frac.ligand.higher > 0.1, frac.receptor.higher > 0.1) %>%\n",
    "    filter(pval.expr < pval.th | pval.spec < pval.th) %>%\n",
    "    mutate(spec.higher = ifelse(logfc > 0, mean.1, mean.2), expr.higher = ifelse(logfc > 0, logmean.1, logmean.2)) %>%\n",
    "    mutate(label1 = ifelse(\n",
    "        ((pval.expr < pval.th & abs(diff) > spec.diff.th & spec.higher > spec.higher.th) | (pval.spec < pval.th & abs(diff) > spec.diff.th & spec.higher > spec.higher.th)) & logfc < 0  , \n",
    "        paste0(Sending.cluster, \"->\", Target.cluster, ':', Ligand.symbol, \"->\", Receptor.symbol), \"\")) %>%\n",
    "    mutate(label2 = ifelse(\n",
    "        ((pval.expr < pval.th & abs(diff) > spec.diff.th & spec.higher > spec.higher.th) | (pval.spec < pval.th & abs(diff) > spec.diff.th & spec.higher > spec.higher.th)) & logfc > 0  , \n",
    "        paste0(Sending.cluster, \"->\", Target.cluster, ':', Ligand.symbol, \"->\", Receptor.symbol), \"\")) \n",
    "\n",
    "options(repr.plot.width = 10, repr.plot.height = 6)\n",
    "p <- ggplot(p0, aes(x = diff, y = spec.higher, size = -log10(pval.expr))) +\n",
    "    geom_point(aes(color = -log10(pval.spec))) + \n",
    "    scale_color_gradient2(low = \"#cbc9e2\", high = \"#54278f\") + \n",
    "    theme_classic(base_size = 16) +\n",
    "    geom_text_repel(data = p0 %>% filter(label1 != \"\"), \n",
    "        aes(label = label1), \n",
    "        size = 4, \n",
    "        force = 10, \n",
    "        hjust = 1, \n",
    "        direction = 'y', \n",
    "        nudge_x = -0.1, \n",
    "        nudge_y = 0.001, \n",
    "        segment.size = 0.2, \n",
    "        max.overlaps = 100\n",
    "    ) +\n",
    "    geom_text_repel(data = p0 %>% filter(label2 != \"\"), \n",
    "        aes(label = label2), \n",
    "        size = 4, \n",
    "        force = 10, \n",
    "        hjust = 1, \n",
    "        direction = 'y', \n",
    "        nudge_x = 0.1, \n",
    "        nudge_y = 0.0055, \n",
    "        segment.size = 0.2, \n",
    "        max.overlaps = 100\n",
    "    ) +\n",
    "    geom_vline(aes(xintercept = spec.diff.th), linetype = 'dashed') +\n",
    "    geom_vline(aes(xintercept = -spec.diff.th), linetype = 'dashed') +\n",
    "    geom_hline(aes(yintercept = spec.higher.th), linetype = 'dashed') +\n",
    "    lims(x = c(-0.125, 0.125)) +\n",
    "    labs(x = 'Difference in mean specificity score', y = 'Higher mean specificity score')\n",
    "\n",
    "ggsave(filename = \"../processed_data/211116_natmi_figures/NATMI-dorDG.volcano.pdf\", \n",
    "    plot = p, width = 10, height = 7.5)\n",
    "p"
   ]
  },
  {
   "cell_type": "markdown",
   "id": "1f567542-acb2-4f15-b792-e8fabf5aa6aa",
   "metadata": {},
   "source": [
    "## Plot top ligands"
   ]
  },
  {
   "cell_type": "code",
   "execution_count": 11,
   "id": "c3515d48-caf9-4164-8ffe-32b9c2c3c379",
   "metadata": {},
   "outputs": [],
   "source": [
    "cts <- c('ExcitNeuron', 'InhibNeuron', 'Granule', 'Mossy', \n",
    "         'Oligodend1', 'Oligodend2', 'OPC', 'BergGlia', \n",
    "         'AstroSub1', 'Microglia1', 'Microglia2', 'Endothelial')"
   ]
  },
  {
   "cell_type": "code",
   "execution_count": 12,
   "id": "32e61eaa-a0b5-4a84-b907-7aafa295f1fb",
   "metadata": {},
   "outputs": [],
   "source": [
    "makeLogfc <- function(ligand, receptor){\n",
    "    mat <- joined %>% filter(Ligand.symbol == ligand, Receptor.symbol == receptor) %>%\n",
    "        select(Sending.cluster, Target.cluster, logfc) %>%\n",
    "        pivot_wider(names_from = Target.cluster, values_from = logfc) %>%\n",
    "        tibble::column_to_rownames(\"Sending.cluster\")\n",
    "    mat <- as.matrix(mat)\n",
    "    mat <- mat[match(cts, row.names(mat)), match(cts, colnames(mat))]\n",
    "    row.names(mat) <- cts\n",
    "    colnames(mat) <- cts\n",
    "    mat[is.na(mat)] <- 0\n",
    "    return(mat)\n",
    "}\n",
    "\n",
    "makePvalExpr <- function(ligand, receptor){\n",
    "    mat <- joined %>% filter(Ligand.symbol == ligand, Receptor.symbol == receptor) %>%\n",
    "        select(Sending.cluster, Target.cluster, pval.expr) %>%\n",
    "        pivot_wider(names_from = Target.cluster, values_from = pval.expr) %>%\n",
    "        tibble::column_to_rownames(\"Sending.cluster\")\n",
    "    mat <- as.matrix(mat)\n",
    "    mat <- mat[match(cts, row.names(mat)), match(cts, colnames(mat))]\n",
    "    row.names(mat) <- cts\n",
    "    colnames(mat) <- cts\n",
    "    mat[is.na(mat)] <- 1\n",
    "    return(mat)\n",
    "}\n",
    "\n",
    "makeDiff <- function(ligand, receptor){\n",
    "    mat <- joined %>% filter(Ligand.symbol == ligand, Receptor.symbol == receptor) %>%\n",
    "        select(Sending.cluster, Target.cluster, diff) %>%\n",
    "        pivot_wider(names_from = Target.cluster, values_from = diff) %>%\n",
    "        tibble::column_to_rownames(\"Sending.cluster\")\n",
    "    mat <- as.matrix(mat)\n",
    "    mat <- mat[match(cts, row.names(mat)), match(cts, colnames(mat))]\n",
    "    row.names(mat) <- cts\n",
    "    colnames(mat) <- cts\n",
    "    mat[is.na(mat)] <- 0\n",
    "    return(mat)\n",
    "}\n",
    "\n",
    "makePvalSpec <- function(ligand, receptor){\n",
    "    mat <- joined %>% filter(Ligand.symbol == ligand, Receptor.symbol == receptor) %>%\n",
    "        select(Sending.cluster, Target.cluster, pval.spec) %>%\n",
    "        pivot_wider(names_from = Target.cluster, values_from = pval.spec) %>%\n",
    "        tibble::column_to_rownames(\"Sending.cluster\")\n",
    "    mat <- as.matrix(mat)\n",
    "    mat <- mat[match(cts, row.names(mat)), match(cts, colnames(mat))]\n",
    "    row.names(mat) <- cts\n",
    "    colnames(mat) <- cts\n",
    "    mat[is.na(mat)] <- 1\n",
    "    return(mat)\n",
    "}\n",
    "\n",
    "makeFracFilter <- function(ligand, receptor){\n",
    "    mat <- joined %>% filter(Ligand.symbol == ligand, Receptor.symbol == receptor) %>%\n",
    "        mutate(frac.ligand.higher = ifelse(logfc > 0, frac.ligand.1, frac.ligand.2), frac.receptor.higher = ifelse(logfc > 0, frac.receptor.1, frac.receptor.2)) %>%\n",
    "        mutate(frac.filter = frac.ligand.higher > 0.1 & frac.receptor.higher > 0.1) %>%\n",
    "        select(Sending.cluster, Target.cluster, frac.filter) %>%\n",
    "        pivot_wider(names_from = Target.cluster, values_from = frac.filter) %>%\n",
    "        tibble::column_to_rownames(\"Sending.cluster\")\n",
    "    mat <- as.matrix(mat)\n",
    "    mat <- mat[match(cts, row.names(mat)), match(cts, colnames(mat))]\n",
    "    row.names(mat) <- cts\n",
    "    colnames(mat) <- cts\n",
    "    mat[is.na(mat)] <- F\n",
    "    return(mat)\n",
    "}"
   ]
  },
  {
   "cell_type": "code",
   "execution_count": 13,
   "id": "ed8d6ec8-2298-4e8a-b0c4-d024633c4e10",
   "metadata": {},
   "outputs": [
    {
     "data": {
      "text/html": [
       "<style>\n",
       ".list-inline {list-style: none; margin:0; padding: 0}\n",
       ".list-inline>li {display: inline-block}\n",
       ".list-inline>li:not(:last-child)::after {content: \"\\00b7\"; padding: 0 .5ex}\n",
       "</style>\n",
       "<ol class=list-inline><li>22</li><li>21</li><li>17</li><li>2</li></ol>\n"
      ],
      "text/latex": [
       "\\begin{enumerate*}\n",
       "\\item 22\n",
       "\\item 21\n",
       "\\item 17\n",
       "\\item 2\n",
       "\\end{enumerate*}\n"
      ],
      "text/markdown": [
       "1. 22\n",
       "2. 21\n",
       "3. 17\n",
       "4. 2\n",
       "\n",
       "\n"
      ],
      "text/plain": [
       "[1] 22 21 17  2"
      ]
     },
     "metadata": {},
     "output_type": "display_data"
    }
   ],
   "source": [
    "joined.f <- joined %>%\n",
    "    filter(sign(logfc) == sign(diff)) %>%\n",
    "    mutate(frac.ligand.higher = ifelse(logfc > 0, frac.ligand.1, frac.ligand.2), frac.receptor.higher = ifelse(logfc > 0, frac.receptor.1, frac.receptor.2)) %>%\n",
    "    filter(frac.ligand.higher > 0.1, frac.receptor.higher > 0.1) %>%\n",
    "    mutate(spec.higher = ifelse(logfc > 0, mean.1, mean.2), expr.higher = ifelse(logfc > 0, logmean.1, logmean.2), Treatment = ifelse(logfc > 0, 'FT', 'Sham')) %>%\n",
    "    filter(abs(diff) > spec.diff.th & spec.higher > spec.higher.th) %>%    \n",
    "    filter(pval.expr < pval.th | pval.spec < pval.th) %>%\n",
    "    arrange(pval.expr)\n",
    "top.lrs <- joined.f %>% distinct(Ligand.symbol, Receptor.symbol)\n",
    "c(dim(joined.f), dim(top.lrs))"
   ]
  },
  {
   "cell_type": "code",
   "execution_count": 14,
   "id": "76ec1d0d-7cd4-4c48-ac96-f8a86c0c04c4",
   "metadata": {},
   "outputs": [],
   "source": [
    "write.csv(joined.f, file = \"../processed_data/211116_natmi_figures/NATMI-dorDG.top_hits.csv\")"
   ]
  },
  {
   "cell_type": "code",
   "execution_count": 36,
   "id": "7bdf6882-4580-4e56-91a3-dbf16906b7ec",
   "metadata": {},
   "outputs": [
    {
     "data": {
      "text/html": [
       "<strong>png:</strong> 2"
      ],
      "text/latex": [
       "\\textbf{png:} 2"
      ],
      "text/markdown": [
       "**png:** 2"
      ],
      "text/plain": [
       "png \n",
       "  2 "
      ]
     },
     "metadata": {},
     "output_type": "display_data"
    }
   ],
   "source": [
    "ligands <- top.lrs$Ligand.symbol[16:17]\n",
    "receptors <- top.lrs$Receptor.symbol[16:17]\n",
    "lrs <- paste0(ligands, '->', receptors)\n",
    "lrs <- factor(rep(lrs, each = length(cts)), levels = lrs)\n",
    "\n",
    "logfc <- do.call(rbind, mapply(makeLogfc, ligands, receptors, SIMPLIFY = F))\n",
    "pval.expr <- -log10(do.call(rbind, mapply(makePvalExpr, ligands, receptors, SIMPLIFY = F)))\n",
    "diff <- do.call(rbind, mapply(makeDiff, ligands, receptors, SIMPLIFY = F))\n",
    "pval.spec <- -log10(do.call(rbind, mapply(makePvalSpec, ligands, receptors, SIMPLIFY = F)))\n",
    "frac.filter <- do.call(rbind, mapply(makeFracFilter, ligands, receptors, SIMPLIFY = F))\n",
    "\n",
    "cm <- cividis(3)\n",
    "\n",
    "col_fun = colorRamp2(c(-2, 0, 2), cm)\n",
    "hm.expr <- Heatmap(logfc, cluster_rows = F, cluster_columns = F, \n",
    "    cluster_row_slices = F, row_names_side = 'left', \n",
    "    cluster_column_slices = F, column_names_side = 'top',\n",
    "    rect_gp = gpar(type = \"none\"),\n",
    "    cell_fun = function(j, i, x, y, width, height, fill) {\n",
    "        grid.rect(x = x, y = y, width = width, height = height, \n",
    "            gp = gpar(col = \"lightgrey\", fill = NA))        \n",
    "        grid.circle(x = x, y = y, r = 0.5 * pval.expr[i,j]/2.5 * unit(5, \"mm\"), \n",
    "        gp = gpar(col = NA, fill = ifelse(frac.filter[i,j], col_fun(logfc[i,j]), 'white')))           \n",
    "    },     \n",
    "    height = unit(5, \"mm\") * length(lrs), \n",
    "    width = unit(5, \"mm\") * length(cts),                    \n",
    "    col = col_fun, column_title = 'Log difference in\\n mean expression score', \n",
    "    name = 'Log difference in\\n mean expression score',\n",
    "    row_split = lrs)\n",
    "\n",
    "col_fun2 = colorRamp2(c(-0.02, 0, 0.02), cm)\n",
    "hm.spec <- Heatmap(diff, cluster_rows = F, cluster_columns = F, \n",
    "    cluster_row_slices = F, row_names_side = 'left', \n",
    "    cluster_column_slices = F, column_names_side = 'top',\n",
    "    rect_gp = gpar(type = \"none\"),\n",
    "    cell_fun = function(j, i, x, y, width, height, fill) {\n",
    "        grid.rect(x = x, y = y, width = width, height = height, \n",
    "            gp = gpar(col = \"lightgrey\", fill = NA))        \n",
    "        grid.circle(x = x, y = y, r = 0.5 * pval.spec[i,j]/2.5 * unit(5, \"mm\"), \n",
    "        gp = gpar(col = NA, fill = ifelse(frac.filter[i,j], col_fun2(diff[i,j]), 'white')))           \n",
    "    },      \n",
    "    col = col_fun2, column_title = 'Difference in\\n mean specificity score', \n",
    "    height = unit(5, \"mm\") * length(lrs), \n",
    "    width = unit(5, \"mm\") * length(cts),     \n",
    "    name = 'Difference in\\n mean specificity score',\n",
    "    row_split = lrs\n",
    ")\n",
    "\n",
    "lgd <- Legend(labels = c(0.5, 1, 2),\n",
    "           title = \"-log10 p-value\",\n",
    "           graphics = list(\n",
    "              function(x, y, w, h) grid.circle(x, y, \n",
    "                                               r=0.5 * 0.5/2.5 * unit(5, \"mm\"),\n",
    "                                               gp=gpar(fill=\"black\")),\n",
    "              function(x, y, w, h) grid.circle(x, y, \n",
    "                                               r=0.5 * 1/2.5 * unit(5, \"mm\"),\n",
    "                                               gp=gpar(fill=\"black\")),\n",
    "              function(x, y, w, h) grid.circle(x, y, \n",
    "                                               r=0.5 * 2/2.5 * unit(5, \"mm\"),\n",
    "                                               gp=gpar(fill=\"black\"))\n",
    "           ))\n",
    "\n",
    "ht_list <- hm.expr + hm.spec\n",
    "\n",
    "pdf(file = \"../processed_data/211116_natmi_figures/NATMI-dorDG.dotplot-4.pdf\",\n",
    "    width = 10, height = 15)\n",
    "draw(ht_list, ht_gap = unit(5, \"mm\"), row_gap = unit(5, \"mm\"), \n",
    "     merge_legend = T, annotation_legend_list = list(lgd), \n",
    "     row_title = 'Sender', column_title = '               Receiver', \n",
    "     column_title_gp = gpar(fontsize = 16), row_title_gp = gpar(fontsize = 16))\n",
    "dev.off()"
   ]
  }
 ],
 "metadata": {
  "kernelspec": {
   "display_name": "R",
   "language": "R",
   "name": "ir"
  },
  "language_info": {
   "codemirror_mode": "r",
   "file_extension": ".r",
   "mimetype": "text/x-r-source",
   "name": "R",
   "pygments_lexer": "r",
   "version": "4.1.0"
  }
 },
 "nbformat": 4,
 "nbformat_minor": 5
}
